{
 "cells": [
  {
   "cell_type": "markdown",
   "id": "4efc958b",
   "metadata": {},
   "source": [
    "#### Matrix manipulation"
   ]
  },
  {
   "cell_type": "code",
   "execution_count": 7,
   "id": "6e29460e",
   "metadata": {},
   "outputs": [
    {
     "name": "stdout",
     "output_type": "stream",
     "text": [
      "[[ 6  8]\n",
      " [10 12]]\n",
      "[[ 6  8]\n",
      " [10 12]]\n",
      "[[-4 -4]\n",
      " [-4 -4]]\n",
      "[[-4 -4]\n",
      " [-4 -4]]\n",
      "[[ 5 12]\n",
      " [21 32]]\n",
      "[[ 5 12]\n",
      " [21 32]]\n",
      "[[0.2        0.33333333]\n",
      " [0.42857143 0.5       ]]\n",
      "[[0.2        0.33333333]\n",
      " [0.42857143 0.5       ]]\n",
      "[[19 22]\n",
      " [43 50]]\n",
      "[[1.         1.41421356]\n",
      " [1.73205081 2.        ]]\n",
      "[[25 36]\n",
      " [49 64]]\n",
      "[4 6]\n",
      "[3 7]\n",
      "[[1 3]\n",
      " [2 4]]\n"
     ]
    }
   ],
   "source": [
    "import numpy as np\n",
    "\n",
    "arr1=np.array([[1,2],\n",
    "               [3,4]])\n",
    "arr2=np.array([[5,6],\n",
    "               [7,8]])\n",
    "print(arr1+arr2)\n",
    "print(np.add(arr1,arr2))\n",
    "print(arr1-arr2)\n",
    "print(np.subtract(arr1,arr2))\n",
    "print(arr1*arr2)\n",
    "print(np.multiply(arr1,arr2))\n",
    "print(arr1/arr2)\n",
    "print(np.divide(arr1,arr2))\n",
    "print(arr1.dot(arr2))\n",
    "print(np.sqrt(arr1))\n",
    "print(np.square(arr2))\n",
    "print(np.sum(arr1,axis=0))  # column wise addition\n",
    "print(np.sum(arr1,axis=1))  # row  wise substraction\n",
    "print(arr1.T)"
   ]
  },
  {
   "cell_type": "code",
   "execution_count": 79,
   "id": "5fc9ff5b",
   "metadata": {},
   "outputs": [
    {
     "data": {
      "text/plain": [
       "[[8, 10], [13, 15]]"
      ]
     },
     "execution_count": 79,
     "metadata": {},
     "output_type": "execute_result"
    }
   ],
   "source": [
    "A = [[1,2],[4,5]] \n",
    "B = [[7,8],[9,10]] \n",
    "\n",
    "rows=len(A)\n",
    "cols=len(A[0])\n",
    "\n",
    "c=[[0 for j in range(cols)] for i in range(rows)]\n",
    "\n",
    "\n",
    "for i in range(rows):\n",
    "    for j in range(cols):\n",
    "        c[i][j]=A[i][j]+B[i][j]\n",
    "c"
   ]
  },
  {
   "cell_type": "markdown",
   "id": "774ba447",
   "metadata": {},
   "source": [
    "#### numpy.matlib.empty()"
   ]
  },
  {
   "cell_type": "code",
   "execution_count": 82,
   "id": "32581ead",
   "metadata": {},
   "outputs": [
    {
     "data": {
      "text/plain": [
       "matrix([[0.0e+000, 4.9e-324, 9.9e-324],\n",
       "        [1.5e-323, 2.0e-323, 2.0e-323]])"
      ]
     },
     "execution_count": 82,
     "metadata": {},
     "output_type": "execute_result"
    }
   ],
   "source": [
    "import numpy.matlib as nm\n",
    "\n",
    "nm.empty((2,3)) # same bheviour as np.empty/np.empty_like"
   ]
  },
  {
   "cell_type": "code",
   "execution_count": 83,
   "id": "95c3dfa8",
   "metadata": {},
   "outputs": [
    {
     "data": {
      "text/plain": [
       "array([[0.0e+000, 4.9e-324, 9.9e-324],\n",
       "       [1.5e-323, 2.0e-323, 2.0e-323]])"
      ]
     },
     "execution_count": 83,
     "metadata": {},
     "output_type": "execute_result"
    }
   ],
   "source": [
    "np.empty((2,3))"
   ]
  },
  {
   "cell_type": "code",
   "execution_count": 89,
   "id": "73ef5f0f",
   "metadata": {},
   "outputs": [
    {
     "data": {
      "text/plain": [
       "array([[0, 0],\n",
       "       [0, 0]])"
      ]
     },
     "execution_count": 89,
     "metadata": {},
     "output_type": "execute_result"
    }
   ],
   "source": [
    "nm.zeros((2,3))   #same as np.zeros and zeros_like\n",
    "nm.zeros_like(arr1)"
   ]
  },
  {
   "cell_type": "code",
   "execution_count": 88,
   "id": "57e11095",
   "metadata": {},
   "outputs": [
    {
     "data": {
      "text/plain": [
       "array([[0, 0],\n",
       "       [0, 0]])"
      ]
     },
     "execution_count": 88,
     "metadata": {},
     "output_type": "execute_result"
    }
   ],
   "source": [
    "np.zeros((2,3))\n",
    "np.zeros_like(arr1)"
   ]
  },
  {
   "cell_type": "markdown",
   "id": "94345582",
   "metadata": {},
   "source": [
    "* __numpy.matlib.empty() -----------> np.empty()__\n",
    "* __numpy.matlib.empty_like() -----------> np.empty_like()__\n",
    "* __numpy.matlib.zeros() -----------> np.zeros()__\n",
    "* __numpy.matlib.zeros_like() -----------> np.zeros_like()__\n",
    "* __numpy.matlib.ones() -----------> np.ones()__\n",
    "* __numpy.matlib.ones_like() -----------> np.ones_like()__\n",
    "* __numpy.matlib.eye() -----------> np.eye()__\n",
    "* __numpy.matlib.identity(). -----------> np.identity()__"
   ]
  },
  {
   "cell_type": "code",
   "execution_count": 103,
   "id": "914e1908",
   "metadata": {},
   "outputs": [
    {
     "data": {
      "text/plain": [
       "[[10, 10, 10], [10, 10, 10], [10, 10, 10]]"
      ]
     },
     "execution_count": 103,
     "metadata": {},
     "output_type": "execute_result"
    }
   ],
   "source": [
    "X = [[1,2,3],\n",
    "    [4 ,5,6],\n",
    "    [7 ,8,9]]\n",
    " \n",
    "Y = [[9,8,7],\n",
    "    [6,5,4],\n",
    "    [3,2,1]]\n",
    "\n",
    "# X=np.array(X)\n",
    "# Y=np.array(Y)\n",
    "res=np.zeros((3,3))\n",
    "# for i in range(len(X)):\n",
    "#     for j in range(len(X[0])):\n",
    "#         res[i,j]=X[i][j]+Y[i][j]\n",
    "l=[[X[i][j]+Y[i][j] for j in range(len(X[0])) ] for i in range(len(X))]\n",
    "l"
   ]
  },
  {
   "cell_type": "code",
   "execution_count": 125,
   "id": "5deee434",
   "metadata": {},
   "outputs": [
    {
     "data": {
      "text/plain": [
       "[[10, 10, 10], [10, 10, 10], [10, 10, 10]]"
      ]
     },
     "execution_count": 125,
     "metadata": {},
     "output_type": "execute_result"
    }
   ],
   "source": [
    "X = [[1,2,3],\n",
    "    [4 ,5,6],\n",
    "    [7 ,8,9]]\n",
    "  \n",
    "Y = [[9,8,7],\n",
    "    [6,5,4],\n",
    "    [3,2,1]]\n",
    "\n",
    "# res=[[i+j for i,j in zip(*t)]  for t in zip(X,Y)]\n",
    "res=[list(map(sum,zip(*t)))  for t in zip(X,Y)]\n",
    "res"
   ]
  },
  {
   "cell_type": "code",
   "execution_count": 158,
   "id": "57277630",
   "metadata": {},
   "outputs": [
    {
     "data": {
      "text/plain": [
       "[[114], [74], [119], [160], [97], [157], [60], [73], [112], [27], [14], [23]]"
      ]
     },
     "execution_count": 158,
     "metadata": {},
     "output_type": "execute_result"
    }
   ],
   "source": [
    "A = [[12, 7, 3],\n",
    "    [4, 5, 6],\n",
    "    [7, 8, 9]]\n",
    " \n",
    "# take a 3x4 matrix\n",
    "B = [[5, 8, 1, 2],\n",
    "    [6, 7, 3, 0],\n",
    "    [4, 5, 9, 1]]\n",
    "\n",
    "result=[[0 for _ in range(len(B[0]))] for _ in range(len(A))]\n",
    "result\n",
    "\n",
    "res=[[sum(a*b for a,b in zip(A_rows,b_cols))] for b_cols in zip(*B) for A_rows in A]\n",
    "res"
   ]
  },
  {
   "cell_type": "code",
   "execution_count": 167,
   "id": "9e9a45fa",
   "metadata": {},
   "outputs": [
    {
     "data": {
      "text/plain": [
       "1622880"
      ]
     },
     "execution_count": 167,
     "metadata": {},
     "output_type": "execute_result"
    }
   ],
   "source": [
    "test_list = [[1, 4, 5], [7, 3], [4], [46, 7, 3]]\n",
    "l=[]\n",
    "for i in test_list:\n",
    "    for j in i:\n",
    "        l.append(j)\n",
    "res=1\n",
    "for i in l:\n",
    "    res=res*i\n",
    "res"
   ]
  },
  {
   "cell_type": "code",
   "execution_count": 168,
   "id": "73adae20",
   "metadata": {},
   "outputs": [
    {
     "data": {
      "text/plain": [
       "[1, 4, 5, 7, 3, 4, 46, 7, 3]"
      ]
     },
     "execution_count": 168,
     "metadata": {},
     "output_type": "execute_result"
    }
   ],
   "source": [
    "test_list = [[1, 4, 5], [7, 3], [4], [46, 7, 3]]\n",
    "\n",
    "x = []\n",
    "for i in test_list:\n",
    "    x.extend(i)\n",
    "x.extend()"
   ]
  },
  {
   "cell_type": "code",
   "execution_count": 179,
   "id": "d390a13e",
   "metadata": {},
   "outputs": [
    {
     "data": {
      "text/plain": [
       "1622880"
      ]
     },
     "execution_count": 179,
     "metadata": {},
     "output_type": "execute_result"
    }
   ],
   "source": [
    "def multiply_nested_list(nested_list):\n",
    "    res = 1\n",
    "    for i in nested_list:\n",
    "        if isinstance(i, list):\n",
    "            res *= multiply_nested_list(i)\n",
    "        else:\n",
    "            res *= i\n",
    "            \n",
    "    return res\n",
    " \n",
    "# initializing list\n",
    "test_list = [[1, 4, 5], [7, 3], [4], [46, 7, 3]]\n",
    "res = multiply_nested_list(test_list)\n",
    "res"
   ]
  },
  {
   "cell_type": "code",
   "execution_count": 186,
   "id": "84bae41f",
   "metadata": {},
   "outputs": [
    {
     "data": {
      "text/plain": [
       "[[1, 3, 5], [2, 4, 6]]"
      ]
     },
     "execution_count": 186,
     "metadata": {},
     "output_type": "execute_result"
    }
   ],
   "source": [
    "m = [[1, 2], [3, 4], [5, 6]]\n",
    "\n",
    "res=[list(i) for i in zip(*m)]\n",
    "res"
   ]
  },
  {
   "cell_type": "code",
   "execution_count": 190,
   "id": "71c3c73f",
   "metadata": {},
   "outputs": [
    {
     "data": {
      "text/plain": [
       "([(1, 4, 7, 10), (2, 5, 8, 11), (3, 6, 9, 12)],\n",
       " 0,\n",
       " 1706179838313302900,\n",
       " 1706179838313302900)"
      ]
     },
     "execution_count": 190,
     "metadata": {},
     "output_type": "execute_result"
    }
   ],
   "source": [
    "import time\n",
    "start=time.time_ns()\n",
    "matrix = [(1, 2, 3), (4, 5, 6),(7, 8, 9), (10, 11, 12)]\n",
    "res=[i for i in zip(*matrix)]\n",
    "end=time.time_ns()\n",
    "tt=end-start"
   ]
  },
  {
   "cell_type": "markdown",
   "id": "e0f7d2ff",
   "metadata": {},
   "source": [
    "#### Matrix creation of n*n"
   ]
  },
  {
   "cell_type": "code",
   "execution_count": 204,
   "id": "84e07c42",
   "metadata": {},
   "outputs": [
    {
     "data": {
      "text/plain": [
       "[[1, 2], [3, 4]]"
      ]
     },
     "execution_count": 204,
     "metadata": {},
     "output_type": "execute_result"
    }
   ],
   "source": [
    "N=2\n",
    "\n",
    "res=[list(range(1 + N * i, 1 + N * (i + 1))) for i in range(N)]\n",
    "res\n",
    "\n",
    "# Time Complexity: O(n*n)\n",
    "# Auxiliary Space: O(n*n)"
   ]
  },
  {
   "cell_type": "code",
   "execution_count": 213,
   "id": "9c904eb5",
   "metadata": {},
   "outputs": [
    {
     "data": {
      "text/plain": [
       "[[1, 2, 3], [4, 5, 6], [7, 8, 9]]"
      ]
     },
     "execution_count": 213,
     "metadata": {},
     "output_type": "execute_result"
    }
   ],
   "source": [
    "N=3\n",
    "\n",
    "[[i*N+j for j in range(1,N+1)]for i,_ in enumerate(range(N))]"
   ]
  },
  {
   "cell_type": "code",
   "execution_count": 225,
   "id": "70186961",
   "metadata": {},
   "outputs": [
    {
     "data": {
      "text/plain": [
       "[array([1, 2, 3, 4]),\n",
       " array([5, 6, 7, 8]),\n",
       " array([ 9, 10, 11, 12]),\n",
       " array([13, 14, 15, 16])]"
      ]
     },
     "execution_count": 225,
     "metadata": {},
     "output_type": "execute_result"
    }
   ],
   "source": [
    "N=4\n",
    "res=np.arange(1,N*N+1).reshape(4,4)\n"
   ]
  },
  {
   "cell_type": "code",
   "execution_count": 236,
   "id": "6c2dcb83",
   "metadata": {},
   "outputs": [
    {
     "data": {
      "text/plain": [
       "[6, 10, 5]"
      ]
     },
     "execution_count": 236,
     "metadata": {},
     "output_type": "execute_result"
    }
   ],
   "source": [
    "test_list = [[4, 5, 6], [8, 1, 10], [7, 12, 5]]\n",
    "k=2\n",
    "\n",
    "res=[i[k] for i in test_list]\n",
    "res"
   ]
  },
  {
   "cell_type": "code",
   "execution_count": 235,
   "id": "49834726",
   "metadata": {},
   "outputs": [
    {
     "data": {
      "text/plain": [
       "(6, 10, 5)"
      ]
     },
     "execution_count": 235,
     "metadata": {},
     "output_type": "execute_result"
    }
   ],
   "source": [
    "k=2\n",
    "res=[z for z in zip(*test_list)]\n",
    "res[k]"
   ]
  },
  {
   "cell_type": "code",
   "execution_count": 237,
   "id": "ab2d958a",
   "metadata": {},
   "outputs": [
    {
     "data": {
      "text/plain": [
       "(6, 10, 5)"
      ]
     },
     "execution_count": 237,
     "metadata": {},
     "output_type": "execute_result"
    }
   ],
   "source": [
    "list(zip(*test_list))[k]"
   ]
  },
  {
   "cell_type": "code",
   "execution_count": 240,
   "id": "db0c8500",
   "metadata": {},
   "outputs": [
    {
     "data": {
      "text/plain": [
       "array([ 6, 10,  5])"
      ]
     },
     "execution_count": 240,
     "metadata": {},
     "output_type": "execute_result"
    }
   ],
   "source": [
    "res=np.array(test_list)\n",
    "res[:,2]"
   ]
  },
  {
   "cell_type": "code",
   "execution_count": 255,
   "id": "56cd127f",
   "metadata": {},
   "outputs": [
    {
     "data": {
      "text/plain": [
       "[5, 1, 12]"
      ]
     },
     "execution_count": 255,
     "metadata": {},
     "output_type": "execute_result"
    }
   ],
   "source": [
    "# using only for loop\n",
    "test_list = [[4, 5, 6], [8, 1, 10], [7, 12, 5]]\n",
    "\n",
    "k=1\n",
    "res=[]\n",
    "for i in range(len(test_list)):\n",
    "    res.append(test_list[i][k])\n",
    "res"
   ]
  },
  {
   "cell_type": "markdown",
   "id": "dd370a2d",
   "metadata": {},
   "source": [
    "#### Vector Multiplication"
   ]
  },
  {
   "cell_type": "code",
   "execution_count": 258,
   "id": "947d6b7b",
   "metadata": {},
   "outputs": [
    {
     "data": {
      "text/plain": [
       "array([2, 4, 6, 8])"
      ]
     },
     "execution_count": 258,
     "metadata": {},
     "output_type": "execute_result"
    }
   ],
   "source": [
    "arr1=np.array([1,2,3,4])\n",
    "arr1*2"
   ]
  },
  {
   "cell_type": "code",
   "execution_count": 263,
   "id": "a50dd950",
   "metadata": {},
   "outputs": [
    {
     "data": {
      "text/plain": [
       "array([[19, 22],\n",
       "       [43, 50]])"
      ]
     },
     "execution_count": 263,
     "metadata": {},
     "output_type": "execute_result"
    }
   ],
   "source": [
    "arr1=np.array([[1,2],[3,4]])\n",
    "arr2=np.array([[5,6],[7,8]])\n",
    "# arr1.dot(arr2)\n",
    "arr1@arr2   # dot product can be achived using @ function"
   ]
  },
  {
   "attachments": {
    "image.png": {
     "image/png": "[encoded data removed]"
    }
   },
   "cell_type": "markdown",
   "id": "650059cd",
   "metadata": {},
   "source": [
    "#### Cross Product\n",
    "\n",
    "![image.png](attachment:image.png)"
   ]
  },
  {
   "cell_type": "code",
   "execution_count": 264,
   "id": "1843f8e3",
   "metadata": {},
   "outputs": [
    {
     "name": "stdout",
     "output_type": "stream",
     "text": [
      "[ 12  76 -61]\n"
     ]
    }
   ],
   "source": [
    "v = np.array([4, 9, 12]) \n",
    "s = np.array([21, 32, 44]) \n",
    "r = np.cross(v, s) \n",
    "print(r) "
   ]
  },
  {
   "cell_type": "markdown",
   "id": "88b54890",
   "metadata": {},
   "source": [
    "#### (a + ib) (c + id) = (ac - bd) + i(ad + bc)  mutiplication of two complex number"
   ]
  },
  {
   "cell_type": "code",
   "execution_count": 14,
   "id": "4c6f90b0",
   "metadata": {},
   "outputs": [
    {
     "name": "stdout",
     "output_type": "stream",
     "text": [
      "(15+25j)\n",
      "(10+7j)\n",
      "(-4-5j)\n",
      "(0.31764705882352945-0.12941176470588234j)\n",
      "(15+25j)\n"
     ]
    }
   ],
   "source": [
    "a = 3 + 1j\n",
    "b = 7 + 6j\n",
    "\n",
    "print(a+b)\n",
    "print(a-b)\n",
    "print(a/b)  \n",
    "print(a*b)  # (a + ib) (c + id) = (ac - bd) + i(ad + bc) mutiplication of two complex number"
   ]
  },
  {
   "attachments": {
    "image.png": {
     "image/png": "[encoded data removed]"
    }
   },
   "cell_type": "markdown",
   "id": "d70099b7",
   "metadata": {},
   "source": [
    "![image.png](attachment:image.png)"
   ]
  },
  {
   "cell_type": "markdown",
   "id": "d43c3776",
   "metadata": {},
   "source": [
    "#### dot product of two vector"
   ]
  },
  {
   "cell_type": "code",
   "execution_count": 16,
   "id": "ee1da666",
   "metadata": {},
   "outputs": [
    {
     "data": {
      "text/plain": [
       "26"
      ]
     },
     "execution_count": 16,
     "metadata": {},
     "output_type": "execute_result"
    }
   ],
   "source": [
    "a = np.array([3, 4, 5])\n",
    "b = np.array([1, 2, 3])\n",
    "\n",
    "# Calculate the dot product using NumPy's np.dot() function\n",
    "dot_product = np.dot(a, b)\n",
    "\n",
    "dot_product"
   ]
  },
  {
   "cell_type": "markdown",
   "id": "1ccbb86d",
   "metadata": {},
   "source": [
    "#### dot product of two complex number"
   ]
  },
  {
   "cell_type": "code",
   "execution_count": 25,
   "id": "7d9ab1e4",
   "metadata": {},
   "outputs": [
    {
     "data": {
      "text/plain": [
       "(27-11j)"
      ]
     },
     "execution_count": 25,
     "metadata": {},
     "output_type": "execute_result"
    }
   ],
   "source": [
    "a = 3 + 1j\n",
    "b = 7 + 6j\n",
    "\n",
    "c=a*b.conjugate()  # this is the dot product of two complex number \n",
    "c"
   ]
  },
  {
   "cell_type": "code",
   "execution_count": 30,
   "id": "1bad3fb5",
   "metadata": {},
   "outputs": [
    {
     "data": {
      "text/plain": [
       "array([[114, 160,  60],\n",
       "       [ 74,  97,  73],\n",
       "       [119, 157, 112]])"
      ]
     },
     "execution_count": 30,
     "metadata": {},
     "output_type": "execute_result"
    }
   ],
   "source": [
    "matrix1 = [[12,7,3],\n",
    "        [4 ,5,6],\n",
    "        [7 ,8,9]]\n",
    "matrix2 = [[5,8,1],\n",
    "        [6,7,3],\n",
    "        [4,5,9]]\n",
    "\n",
    "np.dot(matrix1,matrix2)"
   ]
  },
  {
   "cell_type": "code",
   "execution_count": 39,
   "id": "77e31226",
   "metadata": {},
   "outputs": [
    {
     "data": {
      "text/plain": [
       "[[114], [74], [119], [160], [97], [157], [60], [73], [112]]"
      ]
     },
     "execution_count": 39,
     "metadata": {},
     "output_type": "execute_result"
    }
   ],
   "source": [
    "[[sum(i*j for i,j in zip(mat1_rows,mat2_cols))] for mat2_cols in zip(*matrix2) for mat1_rows in matrix1]"
   ]
  },
  {
   "cell_type": "code",
   "execution_count": 43,
   "id": "9f14e5e9",
   "metadata": {},
   "outputs": [
    {
     "data": {
      "text/plain": [
       "array([[114, 160,  60],\n",
       "       [ 74,  97,  73],\n",
       "       [119, 157, 112]])"
      ]
     },
     "execution_count": 43,
     "metadata": {},
     "output_type": "execute_result"
    }
   ],
   "source": [
    "a=np.array(matrix1)\n",
    "b=np.array(matrix2)\n",
    "\n",
    "a @ b"
   ]
  },
  {
   "cell_type": "markdown",
   "id": "a7c08950",
   "metadata": {},
   "source": [
    "#### eigen values of a matrix"
   ]
  },
  {
   "cell_type": "markdown",
   "id": "85da7d3d",
   "metadata": {},
   "source": [
    "How to Find Eigenvalues?\n",
    "From the definition of eigenvalues, if λ is an eigenvalue of a square matrix A, then\n",
    "\n",
    "Av = λv\n",
    "\n",
    "If I is the identity matrix of the same order as A, then we can write the above equation as\n",
    "\n",
    "Av = λ (Iv) (because v = Iv)\n",
    "\n",
    "Av - λ (Iv) = 0\n",
    "\n",
    "Taking v as common factor,\n",
    "\n",
    "v (A - λI) = 0"
   ]
  },
  {
   "cell_type": "code",
   "execution_count": 47,
   "id": "2c6603e1",
   "metadata": {},
   "outputs": [
    {
     "name": "stdout",
     "output_type": "stream",
     "text": [
      "[21.33684023  2.26473479 -0.76407947  0.16250445]\n"
     ]
    }
   ],
   "source": [
    "from numpy import linalg as LA\n",
    "\n",
    "gfg = LA.eigvals([[1, 2, 3,4], [4, 5, 6,5], [7, 8, 9,8],[2,4,5,8]]) \n",
    "print(gfg)"
   ]
  },
  {
   "cell_type": "markdown",
   "id": "54d7ccea",
   "metadata": {},
   "source": [
    "#### determinant of a matrix using NumPy"
   ]
  },
  {
   "cell_type": "code",
   "execution_count": 49,
   "id": "238f0e02",
   "metadata": {},
   "outputs": [
    {
     "data": {
      "text/plain": [
       "1330"
      ]
     },
     "execution_count": 49,
     "metadata": {},
     "output_type": "execute_result"
    }
   ],
   "source": [
    "(50*44)-(30*29)"
   ]
  },
  {
   "cell_type": "code",
   "execution_count": 50,
   "id": "a9c57d84",
   "metadata": {},
   "outputs": [
    {
     "data": {
      "text/plain": [
       "1330.0000000000002"
      ]
     },
     "execution_count": 50,
     "metadata": {},
     "output_type": "execute_result"
    }
   ],
   "source": [
    "n_array = np.array([[50, 29], [30, 44]]) \n",
    "\n",
    "np.linalg.det(n_array)"
   ]
  },
  {
   "cell_type": "markdown",
   "id": "95d831ab",
   "metadata": {},
   "source": [
    "#### matrix.transpose()"
   ]
  },
  {
   "cell_type": "code",
   "execution_count": 51,
   "id": "50eade22",
   "metadata": {},
   "outputs": [
    {
     "data": {
      "text/plain": [
       "[[12, 7, 3], [4, 5, 6], [7, 8, 9]]"
      ]
     },
     "execution_count": 51,
     "metadata": {},
     "output_type": "execute_result"
    }
   ],
   "source": [
    "matrix1"
   ]
  },
  {
   "cell_type": "code",
   "execution_count": 52,
   "id": "e6f629f6",
   "metadata": {},
   "outputs": [
    {
     "data": {
      "text/plain": [
       "matrix([[1, 2],\n",
       "        [3, 4]])"
      ]
     },
     "execution_count": 52,
     "metadata": {},
     "output_type": "execute_result"
    }
   ],
   "source": [
    "a=np.matrix([[1, 2], [3, 4]])\n",
    "\n",
    "a"
   ]
  },
  {
   "cell_type": "code",
   "execution_count": 53,
   "id": "991d4083",
   "metadata": {},
   "outputs": [
    {
     "data": {
      "text/plain": [
       "matrix([[1, 3],\n",
       "        [2, 4]])"
      ]
     },
     "execution_count": 53,
     "metadata": {},
     "output_type": "execute_result"
    }
   ],
   "source": [
    "a.T"
   ]
  },
  {
   "cell_type": "code",
   "execution_count": 54,
   "id": "a2c49729",
   "metadata": {},
   "outputs": [
    {
     "data": {
      "text/plain": [
       "matrix([[1, 3],\n",
       "        [2, 4]])"
      ]
     },
     "execution_count": 54,
     "metadata": {},
     "output_type": "execute_result"
    }
   ],
   "source": [
    "a.transpose()"
   ]
  },
  {
   "cell_type": "markdown",
   "id": "18c076b7",
   "metadata": {},
   "source": [
    "#### variance of a given matrix"
   ]
  },
  {
   "cell_type": "code",
   "execution_count": 66,
   "id": "8662381c",
   "metadata": {},
   "outputs": [
    {
     "data": {
      "text/plain": [
       "1.25"
      ]
     },
     "execution_count": 66,
     "metadata": {},
     "output_type": "execute_result"
    }
   ],
   "source": [
    "a=np.matrix('[1,2; 3,4]')\n",
    "a.var()"
   ]
  },
  {
   "cell_type": "markdown",
   "id": "12170ced",
   "metadata": {},
   "source": [
    "#### inverse of any array  \n",
    "\n",
    "if det(A) != 0\n",
    "\n",
    "    A-1[this a raise to -1] = adj(A)/det(A)\n",
    "else\n",
    "\n",
    "    \"Inverse doesn't exist\"  "
   ]
  },
  {
   "cell_type": "code",
   "execution_count": 69,
   "id": "f2c835e4",
   "metadata": {},
   "outputs": [
    {
     "data": {
      "text/plain": [
       "array([[-1.5 ,  0.5 ],\n",
       "       [ 1.25, -0.25]])"
      ]
     },
     "execution_count": 69,
     "metadata": {},
     "output_type": "execute_result"
    }
   ],
   "source": [
    "arr = np.array([[1, 2], [5, 6]]) \n",
    "\n",
    "np.linalg.inv(arr)"
   ]
  },
  {
   "cell_type": "markdown",
   "id": "fecbe125",
   "metadata": {},
   "source": [
    "#### Numpy | Binary Operations"
   ]
  },
  {
   "cell_type": "code",
   "execution_count": 8,
   "id": "46dccc40",
   "metadata": {},
   "outputs": [
    {
     "name": "stdout",
     "output_type": "stream",
     "text": [
      "8\n",
      "[[0 0]\n",
      " [0 0]]\n",
      "1003\n",
      "[[11 11]\n",
      " [15 15]]\n",
      "995\n",
      "-1001\n",
      "[[-2 -3]\n",
      " [-6 -7]]\n",
      "80\n",
      "5\n"
     ]
    },
    {
     "data": {
      "text/plain": [
       "' This function is used to Shift the bits of an integer to the right.Because the internal representation of \\nnumbers is in binary format, this operation is equivalent to dividing arr1 by 2**arr2. For example,\\nif the number is 20 and we want to 2-bit right shift then after right shift 2-bit the result will be 20/(2^2) = 5.'"
      ]
     },
     "execution_count": 8,
     "metadata": {},
     "output_type": "execute_result"
    }
   ],
   "source": [
    "import numpy as np\n",
    "num1=1000\n",
    "num2=11\n",
    "arr = np.array([[1, 2], [5, 6]]) \n",
    "\n",
    "print(np.bitwise_and(num1,num2))\n",
    "print(np.bitwise_and(arr,num1))\n",
    "print(np.bitwise_or(num1,num2))\n",
    "print(np.bitwise_or(arr,num2))\n",
    "print(np.bitwise_xor(num1,num2))\n",
    "\n",
    "print(np.invert(num1))\n",
    "print(np.invert(arr))\n",
    "\n",
    "\n",
    "# left shif and right shift\n",
    "\n",
    "print(np.left_shift(20,2))   \n",
    "\n",
    "'''This function is used to Shift the bits of an integer to the left.The bits are shifted to the left by appending \n",
    "arr2 0s(zeroes) at the right of arr1. Since the internal representation of numbers is in binary format, \n",
    "this operation is equivalent to multiplying arr1 by 2**arr2. For example, if the number is 5 and we want to \n",
    "2 bit left shift then after left shift 2 bit the result will be 5*(2^2) = 20'''\n",
    "\n",
    "\n",
    "print(np.right_shift(20,2))\n",
    "\n",
    "''' This function is used to Shift the bits of an integer to the right.Because the internal representation of \n",
    "numbers is in binary format, this operation is equivalent to dividing arr1 by 2**arr2. For example,\n",
    "if the number is 20 and we want to 2-bit right shift then after right shift 2-bit the result will be 20/(2^2) = 5.'''\n",
    "\n"
   ]
  },
  {
   "cell_type": "markdown",
   "id": "2648f88b",
   "metadata": {},
   "source": [
    "__numpy.binary_repr(number, width=None)__ : This function is used to represent binary form of the input number as a string.For negative numbers, if width is not given, a minus sign is added to the front. If width is given, the two’s complement of the number is returned, with respect to that width.\n",
    "In a two’s-complement system, negative numbers are represented by the two’s complement of the absolute value. This is the most common method of representing signed integers on computers."
   ]
  },
  {
   "cell_type": "code",
   "execution_count": 10,
   "id": "61618d3c",
   "metadata": {},
   "outputs": [
    {
     "name": "stdout",
     "output_type": "stream",
     "text": [
      "Input  number :  10\n",
      "binary representation of 10 :  1010\n"
     ]
    }
   ],
   "source": [
    "in_num = 10\n",
    " \n",
    "print (\"Input  number : \", in_num)\n",
    " \n",
    "out_num = np.binary_repr(in_num) \n",
    "print (\"binary representation of 10 : \", out_num) \n"
   ]
  },
  {
   "cell_type": "markdown",
   "id": "480e215e",
   "metadata": {},
   "source": [
    "#### Numpy | Mathematical Function"
   ]
  },
  {
   "cell_type": "code",
   "execution_count": 140,
   "id": "8bbf5805",
   "metadata": {},
   "outputs": [
    {
     "name": "stdout",
     "output_type": "stream",
     "text": [
      "sine values of an array [0.         0.5        0.70710678 0.8660254  1.        ]\n",
      "\n",
      "Inverse of sine : [0.         0.55106958 0.90333911        nan        nan]\n",
      "\n",
      "cos values of array : [1.00000000e+00 8.66025404e-01 7.07106781e-01 5.00000000e-01\n",
      " 6.12323400e-17]\n",
      "\n",
      "inverse of cos :[1.57079633 1.01972674 0.66745722        nan        nan]\n",
      "\n",
      "tan of an array elemnts :[0.00000000e+00 5.77350269e-01 1.00000000e+00 1.73205081e+00\n",
      " 1.63312394e+16]\n",
      "\n",
      "inverse of tan  [0.         0.48234791 0.66577375 0.80844879 1.00388482]\n",
      "\n",
      "[0.         0.54785347 0.86867096 1.24936705 2.3012989 ]\n",
      "[0.         0.50221899 0.72122549 0.91435666 1.23340312]\n",
      "[1.         1.14023832 1.32460909 1.60028686 2.50917848]\n",
      "[       nan        nan        nan 0.30604211 1.02322748]\n",
      "[0.         0.48047278 0.6557942  0.78071444 0.91715234]\n",
      "[0.         0.58128501 1.05930617        nan        nan]\n"
     ]
    },
    {
     "name": "stderr",
     "output_type": "stream",
     "text": [
      "C:\\Users\\akash\\AppData\\Local\\Temp\\ipykernel_1896\\3531311376.py:9: RuntimeWarning: invalid value encountered in arcsin\n",
      "  print(f'Inverse of sine : {np.arcsin(arr)}\\n')\n",
      "C:\\Users\\akash\\AppData\\Local\\Temp\\ipykernel_1896\\3531311376.py:11: RuntimeWarning: invalid value encountered in arccos\n",
      "  print(f'inverse of cos :{np.arccos(arr)}\\n')\n",
      "C:\\Users\\akash\\AppData\\Local\\Temp\\ipykernel_1896\\3531311376.py:20: RuntimeWarning: invalid value encountered in arccosh\n",
      "  print(np.arccosh(arr))\n",
      "C:\\Users\\akash\\AppData\\Local\\Temp\\ipykernel_1896\\3531311376.py:22: RuntimeWarning: invalid value encountered in arctanh\n",
      "  print(np.arctanh(arr))\n"
     ]
    }
   ],
   "source": [
    "import math\n",
    "# arr=[0, math.pi/2, np.pi/3, np.pi]   # in radians \n",
    "\n",
    "arr=np.array([0,30.,45.,60.,90.]) # in angle \n",
    "\n",
    "arr=np.radians(arr)  # converted to radian to give input to sin cos tan \n",
    " \n",
    "print(f'sine values of an array {np.sin(arr)}\\n')   \n",
    "print(f'Inverse of sine : {np.arcsin(arr)}\\n')\n",
    "print(f'cos values of array : {np.cos(arr)}\\n')\n",
    "print(f'inverse of cos :{np.arccos(arr)}\\n')\n",
    "print(f'tan of an array elemnts :{np.tan(arr)}\\n')\n",
    "print(f'inverse of tan  { np.arctan(arr)}\\n')\n",
    "\n",
    "\n",
    "\n",
    "print(np.sinh(arr))\n",
    "print(np.arcsinh(arr))\n",
    "print(np.cosh(arr))\n",
    "print(np.arccosh(arr))\n",
    "print(np.tanh(arr))\n",
    "print(np.arctanh(arr))\n",
    "\n"
   ]
  },
  {
   "attachments": {
    "image.png": {
     "image/png": "[encoded data removed]"
    }
   },
   "cell_type": "markdown",
   "id": "0219a428",
   "metadata": {},
   "source": [
    "![image.png](attachment:image.png)"
   ]
  },
  {
   "cell_type": "code",
   "execution_count": 43,
   "id": "dc23bd9b",
   "metadata": {},
   "outputs": [
    {
     "name": "stdout",
     "output_type": "stream",
     "text": [
      "[ 0.     0.5    0.707  0.866  1.     0.    -1.    -0.   ]\n"
     ]
    }
   ],
   "source": [
    "print(np.round(np.sin(arr),3))  # rounding number after decimal number"
   ]
  },
  {
   "cell_type": "code",
   "execution_count": 172,
   "id": "44e86317",
   "metadata": {},
   "outputs": [
    {
     "name": "stdout",
     "output_type": "stream",
     "text": [
      "3.0\n",
      "4.0\n",
      "-3.0\n",
      "-4.0\n",
      "[-5. -4.  0.  3.  4.]\n"
     ]
    }
   ],
   "source": [
    "# print(np.rint(1.5345))   # rounds a number to the nearest integer.\n",
    "\n",
    "print(np.rint(3.1))\n",
    "print(np.rint(3.9))\n",
    "print(np.rint(-3.1))\n",
    "print(np.rint(-3.9)) \n",
    "\n",
    "arr=[-4.9,-4.1,0,3.1,3.9]\n",
    "print(np.rint(arr))"
   ]
  },
  {
   "cell_type": "code",
   "execution_count": 175,
   "id": "0bfc721d",
   "metadata": {},
   "outputs": [
    {
     "name": "stdout",
     "output_type": "stream",
     "text": [
      "3.0\n",
      "3.0\n",
      "-3.0\n",
      "-3.0\n",
      "[-4. -4.  0.  3.  3.]\n"
     ]
    }
   ],
   "source": [
    "# print(np.fix(3.92))\n",
    "# print(np.fix(-2.7))     # Round to nearest integer towards zero.\n",
    "\n",
    "print(np.fix(3.1))\n",
    "print(np.fix(3.9))\n",
    "print(np.fix(-3.1))\n",
    "print(np.fix(-3.9)) \n",
    "\n",
    "\n",
    "arr=[-4.9,-4.1,0,3.1,3.9]\n",
    "print(np.fix(arr))"
   ]
  },
  {
   "cell_type": "code",
   "execution_count": 170,
   "id": "fb639f5e",
   "metadata": {},
   "outputs": [
    {
     "name": "stdout",
     "output_type": "stream",
     "text": [
      "3.0\n",
      "3.0\n",
      "-4.0\n",
      "-4.0\n",
      "[-5. -5.  0.  3.  3.]\n"
     ]
    }
   ],
   "source": [
    "print(np.floor(3.1))\n",
    "print(np.floor(3.9))\n",
    "print(np.floor(-3.1))\n",
    "print(np.floor(-3.9))  #  rounds numbers towards negative infinity.\n",
    "\n",
    "arr=[-4.9,-4.1,0,3.1,3.9]\n",
    "print(np.floor(arr))"
   ]
  },
  {
   "cell_type": "code",
   "execution_count": 173,
   "id": "f271e606",
   "metadata": {},
   "outputs": [
    {
     "name": "stdout",
     "output_type": "stream",
     "text": [
      "4.0\n",
      "4.0\n",
      "-3.0\n",
      "-3.0\n"
     ]
    }
   ],
   "source": [
    "print(np.ceil(3.1))\n",
    "print(np.ceil(3.9))\n",
    "print(np.ceil(-3.1))\n",
    "print(np.ceil(-3.9))   #  gives you the smallest integer greater than or equal to a given number.(towards positive infinite)"
   ]
  },
  {
   "cell_type": "code",
   "execution_count": 167,
   "id": "e38fda55",
   "metadata": {},
   "outputs": [
    {
     "data": {
      "text/plain": [
       "2.0"
      ]
     },
     "execution_count": 167,
     "metadata": {},
     "output_type": "execute_result"
    }
   ],
   "source": [
    "np.trunc(2.9567)"
   ]
  },
  {
   "cell_type": "code",
   "execution_count": 77,
   "id": "7264ee43",
   "metadata": {},
   "outputs": [
    {
     "data": {
      "text/plain": [
       "array([0.        , 0.69314718, 1.09861229, 1.38629436, 1.60943791,\n",
       "       1.79175947, 1.94591015, 2.07944154, 2.19722458, 2.30258509])"
      ]
     },
     "execution_count": 77,
     "metadata": {},
     "output_type": "execute_result"
    }
   ],
   "source": [
    "arr=[1,2,3,4,5,6,7,8,9,10]\n",
    "np.log(arr)"
   ]
  },
  {
   "cell_type": "code",
   "execution_count": 78,
   "id": "5e38488c",
   "metadata": {},
   "outputs": [
    {
     "data": {
      "text/plain": [
       "array([0.        , 0.30103   , 0.47712125, 0.60205999, 0.69897   ,\n",
       "       0.77815125, 0.84509804, 0.90308999, 0.95424251, 1.        ])"
      ]
     },
     "execution_count": 78,
     "metadata": {},
     "output_type": "execute_result"
    }
   ],
   "source": [
    "np.log10(arr)"
   ]
  },
  {
   "cell_type": "code",
   "execution_count": 79,
   "id": "d29b0e32",
   "metadata": {},
   "outputs": [
    {
     "data": {
      "text/plain": [
       "array([0.        , 1.        , 1.5849625 , 2.        , 2.32192809,\n",
       "       2.5849625 , 2.80735492, 3.        , 3.169925  , 3.32192809])"
      ]
     },
     "execution_count": 79,
     "metadata": {},
     "output_type": "execute_result"
    }
   ],
   "source": [
    "np.log2(arr)"
   ]
  },
  {
   "cell_type": "code",
   "execution_count": 82,
   "id": "81469165",
   "metadata": {},
   "outputs": [
    {
     "data": {
      "text/plain": [
       "array([0.69314718, 1.09861229, 1.38629436, 1.60943791, 1.79175947,\n",
       "       1.94591015, 2.07944154, 2.19722458, 2.30258509, 2.39789527])"
      ]
     },
     "execution_count": 82,
     "metadata": {},
     "output_type": "execute_result"
    }
   ],
   "source": [
    "np.log1p(arr)   # log(1+x) Return the natural logarithm of one plus the input array, element-wise. "
   ]
  },
  {
   "cell_type": "code",
   "execution_count": 83,
   "id": "36c748cf",
   "metadata": {},
   "outputs": [
    {
     "data": {
      "text/plain": [
       "2.718281828459045"
      ]
     },
     "execution_count": 83,
     "metadata": {},
     "output_type": "execute_result"
    }
   ],
   "source": [
    "np.exp(1)"
   ]
  },
  {
   "cell_type": "code",
   "execution_count": 89,
   "id": "9012a048",
   "metadata": {},
   "outputs": [
    {
     "name": "stdout",
     "output_type": "stream",
     "text": [
      "1.718281828459045\n",
      "1.718281828459045\n"
     ]
    }
   ],
   "source": [
    "print(np.expm1(1))    # thi will calculate exp(x)-1\n",
    "\n",
    "\n",
    "'''The numpy.expm1() function calculates the value of exp(x) - 1, \n",
    "where exp(x) is the base of the natural logarithm (approximately 2.718282). \n",
    "The numpy.exp() function calculates the value of exp(x).\n",
    "\n",
    "The numpy.expm1() function is more accurate than calling numpy.exp() \n",
    "and subtracting 1 for small values of x. '''\n",
    "\n",
    "\n",
    "print(np.exp(1)-1)"
   ]
  },
  {
   "cell_type": "code",
   "execution_count": 92,
   "id": "b7d622b1",
   "metadata": {},
   "outputs": [
    {
     "name": "stdout",
     "output_type": "stream",
     "text": [
      "7.38905609893065\n",
      "54.598150033144236\n",
      "16.0\n",
      "32.0\n"
     ]
    }
   ],
   "source": [
    "print(np.exp(2))\n",
    "print(np.exp(4))     # 2.71**4       2.71*2.71*2.71*2.71\n",
    "\n",
    "\n",
    "print(np.exp2(4))    # 2**4          2*2*2*2\n",
    "print(np.exp2(5))"
   ]
  },
  {
   "cell_type": "code",
   "execution_count": 65,
   "id": "b1deae09",
   "metadata": {},
   "outputs": [
    {
     "data": {
      "text/plain": [
       "-69.07755278982137"
      ]
     },
     "execution_count": 65,
     "metadata": {},
     "output_type": "execute_result"
    }
   ],
   "source": [
    "prob1 = np.log(1e-30)\n",
    "prob2 = np.log(2.5e-50)\n",
    "prob12 = np.logaddexp(prob1, prob2)    # Logarithm of the sum of exponentiations of the inputs.\n",
    "prob12"
   ]
  },
  {
   "cell_type": "code",
   "execution_count": 63,
   "id": "2c39545a",
   "metadata": {},
   "outputs": [
    {
     "data": {
      "text/plain": [
       "-69.07755278982133"
      ]
     },
     "execution_count": 63,
     "metadata": {},
     "output_type": "execute_result"
    }
   ],
   "source": [
    "prob12 = np.logaddexp2(prob1, prob2)     #Logarithm of the sum of exponentiations of the inputs in base-2.\n",
    "prob12"
   ]
  },
  {
   "cell_type": "code",
   "execution_count": 105,
   "id": "e606f0a3",
   "metadata": {},
   "outputs": [
    {
     "data": {
      "text/plain": [
       "0.5"
      ]
     },
     "execution_count": 105,
     "metadata": {},
     "output_type": "execute_result"
    }
   ],
   "source": [
    "#reciprocal of a number \n",
    "\n",
    "# 4/3  --------> reciprocal is 3/4\n",
    "np.reciprocal(2.)  # the value can not be integer as its value is always 0 so use float "
   ]
  },
  {
   "cell_type": "code",
   "execution_count": 109,
   "id": "af085641",
   "metadata": {},
   "outputs": [
    {
     "data": {
      "text/plain": [
       "array([ 3.3,  6. , 10. ])"
      ]
     },
     "execution_count": 109,
     "metadata": {},
     "output_type": "execute_result"
    }
   ],
   "source": [
    "a=[1,2,4]\n",
    "b=[2.3,4,6]\n",
    "np.add(a,b)  #Add arguments element-wise."
   ]
  },
  {
   "cell_type": "code",
   "execution_count": 141,
   "id": "09c0f868",
   "metadata": {},
   "outputs": [
    {
     "data": {
      "text/plain": [
       "-234"
      ]
     },
     "execution_count": 141,
     "metadata": {},
     "output_type": "execute_result"
    }
   ],
   "source": [
    "a=np.array([1,2,-4])\n",
    "b=[2.3,4,6]\n",
    "np.positive(-234)"
   ]
  },
  {
   "cell_type": "code",
   "execution_count": 2,
   "id": "3950e477",
   "metadata": {},
   "outputs": [
    {
     "name": "stdout",
     "output_type": "stream",
     "text": [
      "[-1 -2 -3 -4 -5]\n"
     ]
    }
   ],
   "source": [
    "import numpy as np\n",
    "\n",
    "array = np.array([-1, -2, -3, -4, -5])\n",
    "positive_array = np.positive(array)\n",
    "\n",
    "print(positive_array)"
   ]
  },
  {
   "cell_type": "code",
   "execution_count": 8,
   "id": "03ae4102",
   "metadata": {},
   "outputs": [
    {
     "data": {
      "text/plain": [
       "2"
      ]
     },
     "execution_count": 8,
     "metadata": {},
     "output_type": "execute_result"
    }
   ],
   "source": [
    "np.negative(-2)"
   ]
  },
  {
   "cell_type": "code",
   "execution_count": 19,
   "id": "0b9ed61f",
   "metadata": {},
   "outputs": [
    {
     "data": {
      "text/plain": [
       "array([ 16,  64, 144,  81])"
      ]
     },
     "execution_count": 19,
     "metadata": {},
     "output_type": "execute_result"
    }
   ],
   "source": [
    "arr=[4,8,12,9]\n",
    "np.multiply(arr,arr)"
   ]
  },
  {
   "cell_type": "code",
   "execution_count": 9,
   "id": "5db6c2cd",
   "metadata": {},
   "outputs": [
    {
     "data": {
      "text/plain": [
       "array([       256,   16777216, -251658240,  387420489])"
      ]
     },
     "execution_count": 9,
     "metadata": {},
     "output_type": "execute_result"
    }
   ],
   "source": [
    "arr=[4,8,12,9]\n",
    "np.power(arr,arr)"
   ]
  },
  {
   "cell_type": "code",
   "execution_count": 10,
   "id": "ddfd75e1",
   "metadata": {},
   "outputs": [
    {
     "data": {
      "text/plain": [
       "array([ 16.,  64., 144.,  81.])"
      ]
     },
     "execution_count": 10,
     "metadata": {},
     "output_type": "execute_result"
    }
   ],
   "source": [
    "np.float_power(arr,2)"
   ]
  },
  {
   "cell_type": "code",
   "execution_count": 11,
   "id": "b48e00ce",
   "metadata": {},
   "outputs": [
    {
     "data": {
      "text/plain": [
       "array([ 2,  6, 10,  7])"
      ]
     },
     "execution_count": 11,
     "metadata": {},
     "output_type": "execute_result"
    }
   ],
   "source": [
    "np.subtract(arr,2)"
   ]
  },
  {
   "cell_type": "code",
   "execution_count": 13,
   "id": "c9a82561",
   "metadata": {},
   "outputs": [
    {
     "data": {
      "text/plain": [
       "array([2. , 4. , 6. , 4.5])"
      ]
     },
     "execution_count": 13,
     "metadata": {},
     "output_type": "execute_result"
    }
   ],
   "source": [
    "np.true_divide(arr,2)"
   ]
  },
  {
   "cell_type": "code",
   "execution_count": 14,
   "id": "430c083c",
   "metadata": {},
   "outputs": [
    {
     "data": {
      "text/plain": [
       "array([2, 4, 6, 4], dtype=int32)"
      ]
     },
     "execution_count": 14,
     "metadata": {},
     "output_type": "execute_result"
    }
   ],
   "source": [
    "np.floor_divide(arr,2)     # Return the largest integer smaller or equal to the division of the inputs."
   ]
  },
  {
   "cell_type": "code",
   "execution_count": 31,
   "id": "847c5b33",
   "metadata": {},
   "outputs": [
    {
     "data": {
      "text/plain": [
       "array([0, 2, 0, 4])"
      ]
     },
     "execution_count": 31,
     "metadata": {},
     "output_type": "execute_result"
    }
   ],
   "source": [
    "arr=[4,8,12,9]\n",
    "arr1=[2,3,4,5]\n",
    "np.mod(arr,arr1)"
   ]
  },
  {
   "cell_type": "code",
   "execution_count": 30,
   "id": "9e029430",
   "metadata": {},
   "outputs": [
    {
     "data": {
      "text/plain": [
       "array([0, 2, 0, 4])"
      ]
     },
     "execution_count": 30,
     "metadata": {},
     "output_type": "execute_result"
    }
   ],
   "source": [
    "np.remainder(arr,arr1)"
   ]
  },
  {
   "cell_type": "code",
   "execution_count": 32,
   "id": "e71d2f69",
   "metadata": {},
   "outputs": [
    {
     "data": {
      "text/plain": [
       "(array([2, 2, 3, 1]), array([0, 2, 0, 4]))"
      ]
     },
     "execution_count": 32,
     "metadata": {},
     "output_type": "execute_result"
    }
   ],
   "source": [
    "np.divmod(arr,arr1)"
   ]
  },
  {
   "cell_type": "markdown",
   "id": "8a9914dd",
   "metadata": {},
   "source": [
    "#### Numpy | String Operations"
   ]
  },
  {
   "cell_type": "code",
   "execution_count": 35,
   "id": "4e70c5c2",
   "metadata": {},
   "outputs": [
    {
     "data": {
      "text/plain": [
       "array(['dfhhhh', 'hhh', 'asasas'], dtype='<U6')"
      ]
     },
     "execution_count": 35,
     "metadata": {},
     "output_type": "execute_result"
    }
   ],
   "source": [
    "np.char.lower(['dfhHHH','HHH','ASASAS'])"
   ]
  },
  {
   "cell_type": "code",
   "execution_count": 36,
   "id": "e4e0b029",
   "metadata": {},
   "outputs": [
    {
     "data": {
      "text/plain": [
       "array(['SDHJ', 'HGFDGGH', 'JSDHFDGF', 'DHJJH'], dtype='<U8')"
      ]
     },
     "execution_count": 36,
     "metadata": {},
     "output_type": "execute_result"
    }
   ],
   "source": [
    "np.char.upper(['sdhj','hgfdggh','jsdhfdgf','dhjjh'])"
   ]
  },
  {
   "cell_type": "code",
   "execution_count": 92,
   "id": "54cf32e7",
   "metadata": {},
   "outputs": [
    {
     "data": {
      "text/plain": [
       "array(['Hfdjgjj', 'Hhh'], dtype='<U7')"
      ]
     },
     "execution_count": 92,
     "metadata": {},
     "output_type": "execute_result"
    }
   ],
   "source": [
    "np.char.capitalize(['hfdjgjj','HHH'])"
   ]
  },
  {
   "cell_type": "code",
   "execution_count": 42,
   "id": "eca94ddf",
   "metadata": {},
   "outputs": [
    {
     "data": {
      "text/plain": [
       "array(list(['ajg', 'dhsjga']), dtype=object)"
      ]
     },
     "execution_count": 42,
     "metadata": {},
     "output_type": "execute_result"
    }
   ],
   "source": [
    "np.char.split('ajg,dhsjga',sep=',')"
   ]
  },
  {
   "cell_type": "code",
   "execution_count": 43,
   "id": "99f663fa",
   "metadata": {},
   "outputs": [
    {
     "data": {
      "text/plain": [
       "array('a-k-a-s-h', dtype='<U9')"
      ]
     },
     "execution_count": 43,
     "metadata": {},
     "output_type": "execute_result"
    }
   ],
   "source": [
    "np.char.join('-','akash')"
   ]
  },
  {
   "cell_type": "code",
   "execution_count": 45,
   "id": "55a0b97f",
   "metadata": {},
   "outputs": [
    {
     "data": {
      "text/plain": [
       "array(['a-k-a-s-h', 'a:n:u:p'], dtype='<U9')"
      ]
     },
     "execution_count": 45,
     "metadata": {},
     "output_type": "execute_result"
    }
   ],
   "source": [
    "np.char.join(['-',':'],['akash','anup'])"
   ]
  },
  {
   "cell_type": "code",
   "execution_count": 46,
   "id": "48227bfd",
   "metadata": {},
   "outputs": [
    {
     "data": {
      "text/plain": [
       "array(['jshj', 'jhdjhj', 'sdbh', 'bdfngh'], dtype='<U12')"
      ]
     },
     "execution_count": 46,
     "metadata": {},
     "output_type": "execute_result"
    }
   ],
   "source": [
    "np.char.strip([' jshj  ','      jhdjhj','sdbh        ','bdfngh'])"
   ]
  },
  {
   "cell_type": "code",
   "execution_count": 50,
   "id": "101fa1d0",
   "metadata": {},
   "outputs": [
    {
     "data": {
      "text/plain": [
       "array(['    jhjsd'], dtype='<U12')"
      ]
     },
     "execution_count": 50,
     "metadata": {},
     "output_type": "execute_result"
    }
   ],
   "source": [
    "np.char.rstrip(['    jhjsd   '])"
   ]
  },
  {
   "cell_type": "code",
   "execution_count": 51,
   "id": "ad23cff9",
   "metadata": {},
   "outputs": [
    {
     "data": {
      "text/plain": [
       "array(['jdfj   '], dtype='<U11')"
      ]
     },
     "execution_count": 51,
     "metadata": {},
     "output_type": "execute_result"
    }
   ],
   "source": [
    "np.char.lstrip(['    jdfj   '])"
   ]
  },
  {
   "cell_type": "code",
   "execution_count": 56,
   "id": "5ae272de",
   "metadata": {},
   "outputs": [
    {
     "data": {
      "text/plain": [
       "array(['    sdjh    ', '  sjdhjgh   '], dtype='<U12')"
      ]
     },
     "execution_count": 56,
     "metadata": {},
     "output_type": "execute_result"
    }
   ],
   "source": [
    "np.char.center(['sdjh','sjdhjgh'],12)"
   ]
  },
  {
   "cell_type": "code",
   "execution_count": 58,
   "id": "eb19a3fd",
   "metadata": {},
   "outputs": [
    {
     "data": {
      "text/plain": [
       "array(['aAaAaA', '  aA  ', 'abBABba'], dtype='<U7')"
      ]
     },
     "execution_count": 58,
     "metadata": {},
     "output_type": "execute_result"
    }
   ],
   "source": [
    "np.char.decode([b'\\x81\\xc1\\x81\\xc1\\x81\\xc1', b'@@\\x81\\xc1@@',b'\\x81\\x82\\xc2\\xc1\\xc2\\x82\\x81'],encoding='cp037')"
   ]
  },
  {
   "cell_type": "code",
   "execution_count": 60,
   "id": "d064a4da",
   "metadata": {},
   "outputs": [
    {
     "data": {
      "text/plain": [
       "array([b'\\x81\\xc1\\x81\\xc1\\x81\\xc1', b'@@\\x81\\xc1@@',\n",
       "       b'\\x81\\x82\\xc2\\xc1\\xc2\\x82\\x81'], dtype='|S7')"
      ]
     },
     "execution_count": 60,
     "metadata": {},
     "output_type": "execute_result"
    }
   ],
   "source": [
    "np.char.encode(['aAaAaA', '  aA  ', 'abBABba'],encoding='cp037')"
   ]
  },
  {
   "cell_type": "code",
   "execution_count": 73,
   "id": "bb81d37f",
   "metadata": {},
   "outputs": [
    {
     "name": "stdout",
     "output_type": "stream",
     "text": [
      "['jdh']\n"
     ]
    }
   ],
   "source": [
    "print(np.char.ljust(['jdhhgd'],width=3,fillchar='A'))"
   ]
  },
  {
   "cell_type": "code",
   "execution_count": 75,
   "id": "5b156255",
   "metadata": {},
   "outputs": [
    {
     "name": "stdout",
     "output_type": "stream",
     "text": [
      "['jdh']\n"
     ]
    }
   ],
   "source": [
    "print(np.char.rjust(['jdhhgd'],width=3))"
   ]
  },
  {
   "cell_type": "code",
   "execution_count": 88,
   "id": "5e3c42a7",
   "metadata": {},
   "outputs": [
    {
     "data": {
      "text/plain": [
       "array([['hsj', ' ', 'dhj'],\n",
       "       ['shg', ' ', 'gdg'],\n",
       "       ['skh', ' ', '  djhj']], dtype='<U6')"
      ]
     },
     "execution_count": 88,
     "metadata": {},
     "output_type": "execute_result"
    }
   ],
   "source": [
    "np.char.partition(['hsj dhj','shg gdg','skh   djhj'],sep=\" \")"
   ]
  },
  {
   "cell_type": "code",
   "execution_count": 87,
   "id": "b39b57ac",
   "metadata": {},
   "outputs": [
    {
     "data": {
      "text/plain": [
       "array([['hsj      ', ' ', 'dhj'],\n",
       "       ['shg    ', ' ', 'gdg'],\n",
       "       ['skh    ', ' ', 'djhj']], dtype='<U9')"
      ]
     },
     "execution_count": 87,
     "metadata": {},
     "output_type": "execute_result"
    }
   ],
   "source": [
    "np.char.rpartition(['hsj       dhj','shg     gdg','skh     djhj'],sep=\" \")"
   ]
  },
  {
   "cell_type": "code",
   "execution_count": 93,
   "id": "c7f13dbf",
   "metadata": {},
   "outputs": [
    {
     "data": {
      "text/plain": [
       "array(['Shjh', 'Ajgjhj', 'Hhh'], dtype='<U6')"
      ]
     },
     "execution_count": 93,
     "metadata": {},
     "output_type": "execute_result"
    }
   ],
   "source": [
    "np.char.title(['SHjh','ajgJHJ','HHH'])"
   ]
  },
  {
   "cell_type": "code",
   "execution_count": 102,
   "id": "5dc9d029",
   "metadata": {},
   "outputs": [
    {
     "data": {
      "text/plain": [
       "array([2, 1, 0, 0, 0])"
      ]
     },
     "execution_count": 102,
     "metadata": {},
     "output_type": "execute_result"
    }
   ],
   "source": [
    "a=['akashak','akash','Anup','Basu','Ohggh']\n",
    "\n",
    "np.char.count(a,'ak')   # ocuurance of substring in each word for example a in akashak is twice hence"
   ]
  },
  {
   "cell_type": "code",
   "execution_count": 111,
   "id": "fa774920",
   "metadata": {},
   "outputs": [
    {
     "data": {
      "text/plain": [
       "array([ 4,  0, -1, -1, -1])"
      ]
     },
     "execution_count": 111,
     "metadata": {},
     "output_type": "execute_result"
    }
   ],
   "source": [
    "np.char.find(['akasakash','akash','Anup','Basu','Ohggh'],'akash')\n",
    "# It returns the lowest index of the substring if it is found in given string. If its is not found then it returns -1."
   ]
  },
  {
   "cell_type": "code",
   "execution_count": 112,
   "id": "b8b8f7e6",
   "metadata": {},
   "outputs": [
    {
     "data": {
      "text/plain": [
       "array([ 5,  0, -1, -1, -1])"
      ]
     },
     "execution_count": 112,
     "metadata": {},
     "output_type": "execute_result"
    }
   ],
   "source": [
    "a=['akashak','akash','Anup','Basu','Ohggh']\n",
    "\n",
    "np.char.rfind(a,'ak') #  This function returns the highest index of the substring if found in given string. If not found then it returns -1"
   ]
  },
  {
   "cell_type": "code",
   "execution_count": 110,
   "id": "f60fc185",
   "metadata": {},
   "outputs": [
    {
     "data": {
      "text/plain": [
       "array([False,  True,  True])"
      ]
     },
     "execution_count": 110,
     "metadata": {},
     "output_type": "execute_result"
    }
   ],
   "source": [
    "np.char.isnumeric(['djhskdfh',1,'12'])"
   ]
  },
  {
   "cell_type": "code",
   "execution_count": 141,
   "id": "5c923b8d",
   "metadata": {},
   "outputs": [
    {
     "data": {
      "text/plain": [
       "array([0, 0])"
      ]
     },
     "execution_count": 141,
     "metadata": {},
     "output_type": "execute_result"
    }
   ],
   "source": [
    "a=np.array(['akash','akash'])\n",
    "np.char.index(a,'akash',start=0)"
   ]
  },
  {
   "cell_type": "code",
   "execution_count": 142,
   "id": "b4eb7926",
   "metadata": {},
   "outputs": [
    {
     "data": {
      "text/plain": [
       "array([ True,  True])"
      ]
     },
     "execution_count": 142,
     "metadata": {},
     "output_type": "execute_result"
    }
   ],
   "source": [
    "a=np.array(['akash','akash'])\n",
    "np.char.isalpha(a)"
   ]
  },
  {
   "cell_type": "code",
   "execution_count": 144,
   "id": "bec8808f",
   "metadata": {},
   "outputs": [
    {
     "data": {
      "text/plain": [
       "array([ True,  True])"
      ]
     },
     "execution_count": 144,
     "metadata": {},
     "output_type": "execute_result"
    }
   ],
   "source": [
    "a=np.array(['akash1','akash'])\n",
    "np.char.isalnum(a)"
   ]
  },
  {
   "cell_type": "code",
   "execution_count": 152,
   "id": "c55e4c1b",
   "metadata": {},
   "outputs": [
    {
     "data": {
      "text/plain": [
       "array([ True, False])"
      ]
     },
     "execution_count": 152,
     "metadata": {},
     "output_type": "execute_result"
    }
   ],
   "source": [
    "a=np.array(['2','.1'])\n",
    "np.char.isdecimal(a)"
   ]
  },
  {
   "cell_type": "code",
   "execution_count": 154,
   "id": "70eb4635",
   "metadata": {},
   "outputs": [
    {
     "data": {
      "text/plain": [
       "array([ True, False])"
      ]
     },
     "execution_count": 154,
     "metadata": {},
     "output_type": "execute_result"
    }
   ],
   "source": [
    "a=np.array(['222','ajh2'])\n",
    "np.char.isdecimal(a)"
   ]
  },
  {
   "cell_type": "code",
   "execution_count": 158,
   "id": "61cc522b",
   "metadata": {},
   "outputs": [
    {
     "data": {
      "text/plain": [
       "array([ True, False])"
      ]
     },
     "execution_count": 158,
     "metadata": {},
     "output_type": "execute_result"
    }
   ],
   "source": [
    "np.char.equal(['ahj','jkashdj'],['ahj','dff'])"
   ]
  },
  {
   "cell_type": "markdown",
   "id": "db86ef2c",
   "metadata": {},
   "source": [
    " | FUNCTION  |\tDESCRIPTION |\n",
    "|:----------|:----------------|\n",
    "|__numpy.find()__|\tIt returns the lowest index of the substring if it is found in given string. If its is not found then it |returns -1.\n",
    "|__numpy.index()__|\tIt returns the position of the first occurrence of substring in a string|\n",
    "|__numpy.isalpha()__|\tIt returns “True” if all characters in the string are alphabets, Otherwise, It returns “False”.|\n",
    "|__numpy.isdecimal()__|\tIt returns true if all characters in a string are decimal. If all characters are not decimal then it returns false.|\n",
    "|__numpy.isdigit()__|\tIt returns “True” if all characters in the string are digits, Otherwise, It returns “False”.|\n",
    "|__numpy.islower()__|\tIt returns “True” if all characters in the string are lowercase, Otherwise, It returns “False”|.\n",
    "|__numpy.isspace()__|\tReturns true for each element if there are only whitespace characters in the string and there is at least o__ne character, false otherwise.\n",
    "|__numpy.istitle()__|\tReturns true for each element if the element is a titlecased string and there is at least one character, false otherwise.|\n",
    "|__numpy.isupper()__|\tReturns true for each element if all cased characters in the string are uppercase and there is at least one character, false otherwise.|\n",
    "|__numpy.rindex()__|\tReturns the highest index of the substring inside the string if substring is found. Otherwise it raises an exception.|\n",
    "|__numpy.startswith()__|\tReturns True if a string starts with the given prefix otherwise returns False.|"
   ]
  },
  {
   "cell_type": "markdown",
   "id": "88cdca7d",
   "metadata": {},
   "source": [
    "#### Reshape NumPy Array"
   ]
  },
  {
   "cell_type": "code",
   "execution_count": 173,
   "id": "6a04d029",
   "metadata": {},
   "outputs": [
    {
     "data": {
      "text/plain": [
       "array([[[ 0,  1,  2],\n",
       "        [ 3,  4,  5]],\n",
       "\n",
       "       [[ 6,  7,  8],\n",
       "        [ 9, 10, 11]]])"
      ]
     },
     "execution_count": 173,
     "metadata": {},
     "output_type": "execute_result"
    }
   ],
   "source": [
    "arr=np.arange(0,12).reshape(2,2,3)  #1-d to 2-d/3-d/4-d\n",
    "arr"
   ]
  },
  {
   "cell_type": "code",
   "execution_count": 178,
   "id": "2a5d3aae",
   "metadata": {},
   "outputs": [
    {
     "data": {
      "text/plain": [
       "(array([ 0,  1,  2,  3,  4,  5,  6,  7,  8,  9, 10, 11]), 1)"
      ]
     },
     "execution_count": 178,
     "metadata": {},
     "output_type": "execute_result"
    }
   ],
   "source": [
    "arr_1D=arr.flatten()     #  2-d/3-d/4-d to 1-d\n",
    "arr_1D,arr_1D.ndim"
   ]
  },
  {
   "cell_type": "code",
   "execution_count": 179,
   "id": "a5fe2c10",
   "metadata": {},
   "outputs": [],
   "source": [
    "# Reshaping using unknown dimension \n",
    "# We can reshape a array although we don’t know all the new dimensions by using -1 as one of the dimension,\n",
    "# but we should know all the other dimension to use unknown dimension "
   ]
  },
  {
   "cell_type": "code",
   "execution_count": 182,
   "id": "47772f11",
   "metadata": {},
   "outputs": [
    {
     "data": {
      "text/plain": [
       "array([[[ 0,  1,  2],\n",
       "        [ 3,  4,  5]],\n",
       "\n",
       "       [[ 6,  7,  8],\n",
       "        [ 9, 10, 11]]])"
      ]
     },
     "execution_count": 182,
     "metadata": {},
     "output_type": "execute_result"
    }
   ],
   "source": [
    "arr.reshape(2,2,-1)"
   ]
  },
  {
   "cell_type": "code",
   "execution_count": 183,
   "id": "466e1c6d",
   "metadata": {},
   "outputs": [
    {
     "data": {
      "text/plain": [
       "(2, 2, 3)"
      ]
     },
     "execution_count": 183,
     "metadata": {},
     "output_type": "execute_result"
    }
   ],
   "source": [
    "arr.shape"
   ]
  },
  {
   "cell_type": "code",
   "execution_count": 185,
   "id": "9987418c",
   "metadata": {},
   "outputs": [
    {
     "data": {
      "text/plain": [
       "matrix([[1, 2],\n",
       "        [3, 4]])"
      ]
     },
     "execution_count": 185,
     "metadata": {},
     "output_type": "execute_result"
    }
   ],
   "source": [
    "arr=np.matrix('[1,2;3,4]')\n",
    "arr"
   ]
  },
  {
   "cell_type": "code",
   "execution_count": 195,
   "id": "f5e5c94a",
   "metadata": {},
   "outputs": [
    {
     "data": {
      "text/plain": [
       "matrix([[1, 2, 3, 4]])"
      ]
     },
     "execution_count": 195,
     "metadata": {},
     "output_type": "execute_result"
    }
   ],
   "source": [
    "arr_re=arr.resize(1,4)  # reshape will create a new array where as resize changes the original array \n",
    "arr"
   ]
  },
  {
   "cell_type": "code",
   "execution_count": 206,
   "id": "7e345dc2",
   "metadata": {},
   "outputs": [
    {
     "data": {
      "text/plain": [
       "array([[1, 2, 3],\n",
       "       [4, 5, 6]])"
      ]
     },
     "execution_count": 206,
     "metadata": {},
     "output_type": "execute_result"
    }
   ],
   "source": [
    "arr=np.array([[1,2],[3,4],[5,6]])\n",
    "np.reshape(arr,(2,3),order='A')"
   ]
  },
  {
   "cell_type": "code",
   "execution_count": 207,
   "id": "03d8e9a8",
   "metadata": {},
   "outputs": [
    {
     "data": {
      "text/plain": [
       "array([[1, 2, 3],\n",
       "       [4, 5, 6]])"
      ]
     },
     "execution_count": 207,
     "metadata": {},
     "output_type": "execute_result"
    }
   ],
   "source": [
    "np.resize(arr,(2,3))"
   ]
  },
  {
   "cell_type": "code",
   "execution_count": 225,
   "id": "e2d705b5",
   "metadata": {},
   "outputs": [
    {
     "data": {
      "text/plain": [
       "(array([[[0, 1, 2],\n",
       "         [3, 4, 5],\n",
       "         [6, 7, 8]]]),\n",
       " (1, 3, 3))"
      ]
     },
     "execution_count": 225,
     "metadata": {},
     "output_type": "execute_result"
    }
   ],
   "source": [
    "arr=np.array([[range(3),range(3,6),range(6,9)]])\n",
    "arr,arr.shape"
   ]
  },
  {
   "cell_type": "markdown",
   "id": "7f3a4411",
   "metadata": {},
   "source": [
    "#### numpy.swapaxes() function | Python"
   ]
  },
  {
   "cell_type": "code",
   "execution_count": 294,
   "id": "2db3b277",
   "metadata": {},
   "outputs": [
    {
     "name": "stdout",
     "output_type": "stream",
     "text": [
      "[1 2 3 4 5] (5,) 1\n",
      "[1 2 3 4 5] (5,) 1\n"
     ]
    }
   ],
   "source": [
    "# Transponse on one dimmension will be same .. it begins from 2-d\n",
    "\n",
    "arr=np.array([1,2,3,4,5])\n",
    "print(arr,arr.shape,arr.ndim)\n",
    "\n",
    "trans=arr.T\n",
    "print(trans,trans.shape,trans.ndim)\n",
    "# print(np.swapaxes(arr,0,0))"
   ]
  },
  {
   "cell_type": "code",
   "execution_count": 279,
   "id": "9b8d5b4c",
   "metadata": {},
   "outputs": [
    {
     "name": "stdout",
     "output_type": "stream",
     "text": [
      "[[1 2 3]\n",
      " [4 5 6]] (2, 3) 2 \n",
      "\n",
      "[[1 4]\n",
      " [2 5]\n",
      " [3 6]] (3, 2) 2 \n",
      "\n",
      "[[1 4]\n",
      " [2 5]\n",
      " [3 6]] (3, 2) 2\n"
     ]
    }
   ],
   "source": [
    "# working on 2-d array \n",
    "\n",
    "arr=np.array([[1,2,3],[4,5,6]])\n",
    "print(arr,arr.shape,arr.ndim,'\\n')\n",
    "\n",
    "trans=arr.T\n",
    "print(trans,trans.shape,trans.ndim,'\\n')\n",
    "\n",
    "swapped=np.swapaxes(arr,0,1)\n",
    "\n",
    "print(swapped,swapped.shape,swapped.ndim)\n",
    "\n"
   ]
  },
  {
   "cell_type": "code",
   "execution_count": 291,
   "id": "4158a45e",
   "metadata": {},
   "outputs": [
    {
     "name": "stdout",
     "output_type": "stream",
     "text": [
      "[[[1 2 3]\n",
      "  [4 5 6]]] (1, 2, 3) 3 \n",
      "\n",
      "[[[1]\n",
      "  [4]]\n",
      "\n",
      " [[2]\n",
      "  [5]]\n",
      "\n",
      " [[3]\n",
      "  [6]]] (3, 2, 1) 3\n",
      "[[[1]\n",
      "  [4]]\n",
      "\n",
      " [[2]\n",
      "  [5]]\n",
      "\n",
      " [[3]\n",
      "  [6]]] (3, 2, 1) 3\n",
      "[[[1 2 3]]\n",
      "\n",
      " [[4 5 6]]] (2, 1, 3) 3\n"
     ]
    }
   ],
   "source": [
    "# 3-d\n",
    "\n",
    "arr=np.array([[[1,2,3],[4,5,6]]])\n",
    "print(arr,arr.shape,arr.ndim,'\\n')\n",
    "\n",
    "trans=arr.T\n",
    "print(trans,trans.shape,trans.ndim)\n",
    "\n",
    "swapped=np.swapaxes(arr,0,2)\n",
    "print(swapped,swapped.shape,swapped.ndim)\n",
    "\n",
    "swapped=np.swapaxes(arr,0,1)\n",
    "print(swapped,swapped.shape,swapped.ndim)"
   ]
  },
  {
   "cell_type": "markdown",
   "id": "0932feb0",
   "metadata": {},
   "source": [
    "#### numpy.moveaxis() function | Python"
   ]
  },
  {
   "cell_type": "code",
   "execution_count": 295,
   "id": "f846c779",
   "metadata": {},
   "outputs": [
    {
     "name": "stdout",
     "output_type": "stream",
     "text": [
      "[1 2 3 4 5] (5,) 1\n",
      "[1 2 3 4 5] (5,) 1\n"
     ]
    }
   ],
   "source": [
    "# Transponse on one dimmension will be same .. it begins from 2-d\n",
    "#  to move the axes and swap we need atleat 2 \n",
    "\n",
    "arr=np.array([1,2,3,4,5])\n",
    "print(arr,arr.shape,arr.ndim)\n",
    "\n",
    "trans=arr.T\n",
    "print(trans,trans.shape,trans.ndim)\n",
    "# print(np.swapaxes(arr,0,0))"
   ]
  },
  {
   "cell_type": "code",
   "execution_count": 297,
   "id": "2494c192",
   "metadata": {},
   "outputs": [
    {
     "name": "stdout",
     "output_type": "stream",
     "text": [
      "[[1 2 3]\n",
      " [4 5 6]] (2, 3) 2 \n",
      "\n",
      "[[1 4]\n",
      " [2 5]\n",
      " [3 6]] (3, 2) 2 \n",
      "\n",
      "[[1 4]\n",
      " [2 5]\n",
      " [3 6]] (3, 2) 2\n",
      "[[1 4]\n",
      " [2 5]\n",
      " [3 6]] (3, 2) 2\n"
     ]
    }
   ],
   "source": [
    "arr=np.array([[1,2,3],[4,5,6]])\n",
    "print(arr,arr.shape,arr.ndim,'\\n')\n",
    "\n",
    "trans=arr.T\n",
    "print(trans,trans.shape,trans.ndim,'\\n')\n",
    "\n",
    "swapped=np.swapaxes(arr,0,1)\n",
    "\n",
    "print(swapped,swapped.shape,swapped.ndim)\n",
    "\n",
    "moved=np.moveaxis(arr,1,0)\n",
    "print(moved,moved.shape,moved.ndim)"
   ]
  },
  {
   "cell_type": "code",
   "execution_count": 305,
   "id": "78cc11fa",
   "metadata": {},
   "outputs": [
    {
     "name": "stdout",
     "output_type": "stream",
     "text": [
      "[[[1 2 3]\n",
      "  [4 5 6]]] (1, 2, 3) 3 \n",
      "\n",
      "[[[1]\n",
      "  [4]]\n",
      "\n",
      " [[2]\n",
      "  [5]]\n",
      "\n",
      " [[3]\n",
      "  [6]]] (3, 2, 1) 3\n",
      "[[[1]\n",
      "  [4]]\n",
      "\n",
      " [[2]\n",
      "  [5]]\n",
      "\n",
      " [[3]\n",
      "  [6]]] (3, 2, 1) 3\n",
      "[[[1 2 3]]\n",
      "\n",
      " [[4 5 6]]] (2, 1, 3) 3\n",
      "[[[1]\n",
      "  [2]\n",
      "  [3]]\n",
      "\n",
      " [[4]\n",
      "  [5]\n",
      "  [6]]] (2, 3, 1) 3\n"
     ]
    }
   ],
   "source": [
    "# 3-d\n",
    "\n",
    "arr=np.array([[[1,2,3],[4,5,6]]])\n",
    "print(arr,arr.shape,arr.ndim,'\\n')\n",
    "\n",
    "trans=arr.T\n",
    "print(trans,trans.shape,trans.ndim)\n",
    "\n",
    "swapped=np.swapaxes(arr,0,2)\n",
    "print(swapped,swapped.shape,swapped.ndim)\n",
    "\n",
    "swapped=np.swapaxes(arr,0,1)\n",
    "print(swapped,swapped.shape,swapped.ndim)\n",
    "\n",
    "moved=np.moveaxis(arr,0,2)\n",
    "print(moved,moved.shape,moved.ndim)\n",
    "\n",
    "# swap axis will only swap the particular axis for ex if a array has a dim of 3 as (1,2,3) when you swap 0 and 2nd axis\n",
    "# it wil be (3,2,1) swap on o and 2 axis \n",
    "\n",
    "#  the same axis 0 and 2 are moved it becomses (2,3,1) oberve the shape\n",
    "# move axis andp axis play crucial rule in higer dimm"
   ]
  },
  {
   "cell_type": "markdown",
   "id": "5c6d0ad2",
   "metadata": {},
   "source": [
    "#### Numpy matrix.swapaxes()"
   ]
  },
  {
   "cell_type": "code",
   "execution_count": 311,
   "id": "be1448ca",
   "metadata": {},
   "outputs": [
    {
     "data": {
      "text/plain": [
       "matrix([[1, 3],\n",
       "        [2, 4]])"
      ]
     },
     "execution_count": 311,
     "metadata": {},
     "output_type": "execute_result"
    }
   ],
   "source": [
    "arr=np.matrix('[1,2;,3,4]')\n",
    "arr.swapaxes(1,0)    # only swapaxes is availabe in matrix , moveaxis in not available"
   ]
  },
  {
   "cell_type": "markdown",
   "id": "4ff19d6b",
   "metadata": {},
   "source": [
    "#### Numpy MaskedArray.reshape() function"
   ]
  },
  {
   "cell_type": "markdown",
   "id": "1ee694d1",
   "metadata": {},
   "source": [
    "Masked arrays are a type of array that allows you to store missing or invalid data. This can be useful for a variety of purposes, such as:\n",
    "* Handling missing data in a dataset\n",
    "* Representing data that is uncertain or incomplete\n",
    "* Performing calculations on data that may have missing or invalid values"
   ]
  },
  {
   "cell_type": "code",
   "execution_count": 6,
   "id": "01d958f3",
   "metadata": {},
   "outputs": [
    {
     "data": {
      "text/plain": [
       "masked_array(data=[--, 2, 3, 4, 5],\n",
       "             mask=[ True, False, False, False, False],\n",
       "       fill_value=999999)"
      ]
     },
     "execution_count": 6,
     "metadata": {},
     "output_type": "execute_result"
    }
   ],
   "source": [
    "import numpy as np\n",
    "import numpy.ma as ma\n",
    "\n",
    "arr=np.array([1,2,3,4,5])\n",
    "\n",
    "ma.masked_array(arr,mask=[1,0,0,0,0])"
   ]
  },
  {
   "cell_type": "code",
   "execution_count": 13,
   "id": "4bac7f00",
   "metadata": {},
   "outputs": [
    {
     "data": {
      "text/plain": [
       "masked_array(\n",
       "  data=[[--, --, --],\n",
       "        [--, --, --]],\n",
       "  mask=[[ True,  True,  True],\n",
       "        [ True,  True,  True]],\n",
       "  fill_value=1,\n",
       "  dtype=int32)"
      ]
     },
     "execution_count": 13,
     "metadata": {},
     "output_type": "execute_result"
    }
   ],
   "source": [
    "arr=np.array([[1,2,3],[4,5,6]])\n",
    "\n",
    "masked=ma.masked_array(arr,mask=True,fill_value=1)\n",
    "masked"
   ]
  },
  {
   "cell_type": "markdown",
   "id": "9699f80b",
   "metadata": {},
   "source": [
    "#### numpy.squeeze()"
   ]
  },
  {
   "cell_type": "markdown",
   "id": "672f6657",
   "metadata": {},
   "source": [
    "__numpy.squeeze()__ function is used when we want to remove single-dimensional entries from the shape of an array.\n",
    "\n",
    "__np.matrix()__ : used for 2-d array specially designed"
   ]
  },
  {
   "cell_type": "code",
   "execution_count": 15,
   "id": "7823bcc7",
   "metadata": {},
   "outputs": [
    {
     "data": {
      "text/plain": [
       "(array([[[2, 2, 2],\n",
       "         [2, 2, 2]]]),\n",
       " (1, 2, 3),\n",
       " 3)"
      ]
     },
     "execution_count": 15,
     "metadata": {},
     "output_type": "execute_result"
    }
   ],
   "source": [
    "arr=np.array([[[2, 2, 2], [2, 2, 2]]])\n",
    "arr,arr.shape,arr.ndim"
   ]
  },
  {
   "cell_type": "code",
   "execution_count": 17,
   "id": "2e02074d",
   "metadata": {},
   "outputs": [
    {
     "data": {
      "text/plain": [
       "(array([[2, 2, 2],\n",
       "        [2, 2, 2]]),\n",
       " (2, 3),\n",
       " 2)"
      ]
     },
     "execution_count": 17,
     "metadata": {},
     "output_type": "execute_result"
    }
   ],
   "source": [
    "squ=arr.squeeze()\n",
    "\n",
    "squ,squ.shape,squ.ndim"
   ]
  },
  {
   "cell_type": "markdown",
   "id": "a484d88c",
   "metadata": {},
   "source": [
    "#### Basic Slicing and Advanced Indexing in NumPy "
   ]
  },
  {
   "cell_type": "code",
   "execution_count": 55,
   "id": "294799af",
   "metadata": {},
   "outputs": [
    {
     "data": {
      "text/plain": [
       "array([ 1,  4,  9, 16, 25, 36, 49])"
      ]
     },
     "execution_count": 55,
     "metadata": {},
     "output_type": "execute_result"
    }
   ],
   "source": [
    "l1=[1,2,3,4,5,6,7]\n",
    "l2=[i for i in  range(1,8)]\n",
    "# l1*l2   # results error \n",
    "\n",
    "np.multiply(l1,l2)"
   ]
  },
  {
   "cell_type": "code",
   "execution_count": 63,
   "id": "2de0abcb",
   "metadata": {},
   "outputs": [
    {
     "name": "stdout",
     "output_type": "stream",
     "text": [
      "[1 2 3 4 5 6 7 8 9] 2 [1 2 3]\n",
      "[3 5 9]\n"
     ]
    }
   ],
   "source": [
    "# indexing\n",
    "\n",
    "arr=np.arange(1,10)\n",
    "print(arr,arr[1],arr[:3])\n",
    "\n",
    "\n",
    "# Indexes are specified inside the np.array method.\n",
    "print(arr[np.array([2,4,8])])"
   ]
  },
  {
   "cell_type": "code",
   "execution_count": 72,
   "id": "3e970aaa",
   "metadata": {},
   "outputs": [
    {
     "name": "stdout",
     "output_type": "stream",
     "text": [
      "[ 0  1  2  3  4  5  6  7  8  9 10 11 12 13 14 15 16 17]\n",
      "[10 11 12 13 14 15 16]\n",
      "0\n"
     ]
    }
   ],
   "source": [
    "arr=np.arange(18)\n",
    "print(arr)\n",
    "print(arr[-8:17:1])\n",
    "print(arr[...,0])"
   ]
  },
  {
   "cell_type": "code",
   "execution_count": 86,
   "id": "f0672b28",
   "metadata": {},
   "outputs": [
    {
     "name": "stdout",
     "output_type": "stream",
     "text": [
      "[[[ 1  2  3]\n",
      "  [ 4  5  6]]\n",
      "\n",
      " [[ 7  8  9]\n",
      "  [10 11 12]]] (2, 2, 3) 3\n",
      "6\n",
      "6\n",
      "[[ 8  9]\n",
      " [11 12]]\n",
      "[[2]\n",
      " [5]]\n"
     ]
    }
   ],
   "source": [
    "# A 3 dimensional array. \n",
    "arr = np.array([[[1, 2, 3],[4, 5, 6]], [[7, 8, 9],[10, 11, 12]]]) \n",
    "print(arr,arr.shape,arr.ndim)\n",
    "\n",
    "print(arr[0][1][2])\n",
    "print(arr[0,1,2])\n",
    "print(arr[1,:,1:])\n",
    "print(arr[0,:,1:2])"
   ]
  },
  {
   "cell_type": "code",
   "execution_count": 87,
   "id": "5ad09c43",
   "metadata": {},
   "outputs": [
    {
     "name": "stdout",
     "output_type": "stream",
     "text": [
      "[ 0  1  2  3  4  5  6  7  8  9 10 11 12 13 14 15 16 17]\n",
      "[ 6  7  8  9 10 11 12 13 14 15 16 17]\n"
     ]
    }
   ],
   "source": [
    "# Boolean Indexing \n",
    "arr=np.arange(18)\n",
    "print(arr)\n",
    "\n",
    "print(arr[arr>5])"
   ]
  },
  {
   "cell_type": "markdown",
   "id": "2c17ff5d",
   "metadata": {},
   "source": [
    "#### numpy.compress()"
   ]
  },
  {
   "cell_type": "code",
   "execution_count": 18,
   "id": "ff1acc58",
   "metadata": {},
   "outputs": [
    {
     "data": {
      "text/plain": [
       "array([[1, 2],\n",
       "       [5, 6]])"
      ]
     },
     "execution_count": 18,
     "metadata": {},
     "output_type": "execute_result"
    }
   ],
   "source": [
    "a = np.array([[1, 2], [3, 4], [5, 6]])\n",
    "np.compress([1,0,1],a,axis=0)"
   ]
  },
  {
   "cell_type": "code",
   "execution_count": 21,
   "id": "585227b6",
   "metadata": {},
   "outputs": [
    {
     "data": {
      "text/plain": [
       "array([[1],\n",
       "       [3],\n",
       "       [5]])"
      ]
     },
     "execution_count": 21,
     "metadata": {},
     "output_type": "execute_result"
    }
   ],
   "source": [
    "a = np.array([[1, 2], [3, 4], [5, 6]])\n",
    "np.compress([1,0],a,axis=1)"
   ]
  },
  {
   "cell_type": "code",
   "execution_count": 47,
   "id": "4feccd42",
   "metadata": {},
   "outputs": [
    {
     "name": "stdout",
     "output_type": "stream",
     "text": [
      "[[[ 0  1  2]\n",
      "  [ 3  4  5]]\n",
      "\n",
      " [[ 6  7  8]\n",
      "  [ 9 10 11]]] (2, 2, 3) \n",
      "\n"
     ]
    },
    {
     "data": {
      "text/plain": [
       "array([[[ 3,  4,  5]],\n",
       "\n",
       "       [[ 9, 10, 11]]])"
      ]
     },
     "execution_count": 47,
     "metadata": {},
     "output_type": "execute_result"
    }
   ],
   "source": [
    "a=np.arange(12).reshape(2,2,-1) \n",
    "print(a,a.shape,'\\n')\n",
    "np.compress([0,1],a,axis=1)  # Compress results in values based on axis "
   ]
  },
  {
   "cell_type": "markdown",
   "id": "a587de33",
   "metadata": {},
   "source": [
    "#### access different rows of a multidimensional NumPy"
   ]
  },
  {
   "cell_type": "code",
   "execution_count": 74,
   "id": "f5c6285c",
   "metadata": {},
   "outputs": [],
   "source": [
    "array3D = np.array([[[ 0,  1,  2],\n",
    "                     [ 3,  4,  5],\n",
    "                     [ 6,  7,  8]],\n",
    "  \n",
    "                    [[ 9, 10, 11],\n",
    "                     [12, 13, 14],\n",
    "                     [15, 16, 17]],\n",
    " \n",
    "                    [[18, 19, 20],\n",
    "                     [21, 22, 23],\n",
    "                     [24, 25, 26]]])\n",
    "\n",
    "# print(array3D,array3D.shape)\n",
    "# print(array3D[0])\n",
    "# print(array3D[-1])\n",
    "# print(array3D[2])\n",
    "# print(array3D[:,:,0])\n",
    "# print(array3D[:,:,-1])\n",
    "# print(array3D[1,1:3,1:3])\n",
    "# print(array3D[[[0]]])\n",
    "# print(array3D[[0]])\n",
    "# print(array3D[0])\n"
   ]
  },
  {
   "cell_type": "code",
   "execution_count": 92,
   "id": "ed50cae1",
   "metadata": {},
   "outputs": [
    {
     "data": {
      "text/plain": [
       "array([[ 40,   5,  66,   7],\n",
       "       [ 70,  88,   9,  11],\n",
       "       [ 80, 100,  50,  77]])"
      ]
     },
     "execution_count": 92,
     "metadata": {},
     "output_type": "execute_result"
    }
   ],
   "source": [
    "arr = np.array([[1, 20, 3, 1],  \n",
    "                [40, 5, 66, 7],  \n",
    "                [70, 88, 9, 11], \n",
    "               [80, 100, 50, 77]])\n",
    "\n",
    "arr[::2,]\n",
    "arr[1,]\n",
    "arr[-1:-4:-1]\n",
    "arr[1:]"
   ]
  },
  {
   "cell_type": "code",
   "execution_count": 94,
   "id": "87a48269",
   "metadata": {},
   "outputs": [
    {
     "data": {
      "text/plain": [
       "(array([[[10, 25, 70],\n",
       "         [30, 45, 55],\n",
       "         [20, 45,  7]],\n",
       " \n",
       "        [[50, 65,  8],\n",
       "         [70, 85, 10],\n",
       "         [11, 22, 33]]]),\n",
       " (2, 3, 3))"
      ]
     },
     "execution_count": 94,
     "metadata": {},
     "output_type": "execute_result"
    }
   ],
   "source": [
    "n_arr = np.array([[[10, 25, 70], [30, 45, 55], [20, 45, 7]],  \n",
    "                  [[50, 65, 8], [70, 85, 10], [11, 22, 33]]]) \n",
    "\n",
    "n_arr,n_arr.shape"
   ]
  },
  {
   "cell_type": "code",
   "execution_count": 96,
   "id": "aa8317c9",
   "metadata": {},
   "outputs": [
    {
     "data": {
      "text/plain": [
       "array([[30, 45, 55],\n",
       "       [70, 85, 10]])"
      ]
     },
     "execution_count": 96,
     "metadata": {},
     "output_type": "execute_result"
    }
   ],
   "source": [
    "n_arr[:,1]"
   ]
  },
  {
   "cell_type": "code",
   "execution_count": 97,
   "id": "f176191c",
   "metadata": {},
   "outputs": [
    {
     "data": {
      "text/plain": [
       "array([[[10, 25, 70],\n",
       "        [30, 45, 55],\n",
       "        [20, 45,  7]],\n",
       "\n",
       "       [[50, 65,  8],\n",
       "        [70, 85, 10],\n",
       "        [11, 22, 33]],\n",
       "\n",
       "       [[19, 69, 36],\n",
       "        [ 1,  5, 24],\n",
       "        [ 4, 20, 96]]])"
      ]
     },
     "execution_count": 97,
     "metadata": {},
     "output_type": "execute_result"
    }
   ],
   "source": [
    "n_arr = np.array([[[10, 25, 70], [30, 45, 55], [20, 45, 7]],  \n",
    "                  [[50, 65, 8], [70, 85, 10], [11, 22, 33]], \n",
    "                 [[19, 69, 36], [1, 5, 24], [4, 20, 96]]]) \n",
    "n_arr"
   ]
  },
  {
   "cell_type": "code",
   "execution_count": 100,
   "id": "1df2ec7e",
   "metadata": {},
   "outputs": [
    {
     "data": {
      "text/plain": [
       "array([[19, 69, 36],\n",
       "       [ 4, 20, 96]])"
      ]
     },
     "execution_count": 100,
     "metadata": {},
     "output_type": "execute_result"
    }
   ],
   "source": [
    "n_arr[2,0:3:2]"
   ]
  },
  {
   "cell_type": "markdown",
   "id": "899079df",
   "metadata": {},
   "source": [
    "#### numpy.tril_indices() "
   ]
  },
  {
   "cell_type": "code",
   "execution_count": 115,
   "id": "6d01f269",
   "metadata": {},
   "outputs": [
    {
     "name": "stdout",
     "output_type": "stream",
     "text": [
      "(array([0, 1, 1, 2, 2, 2, 3, 3, 3, 3]), array([0, 0, 1, 0, 1, 2, 0, 1, 2, 3]))\n"
     ]
    },
    {
     "data": {
      "text/plain": [
       "array([[ 0,  1,  2,  3],\n",
       "       [ 4,  5,  6,  7],\n",
       "       [ 8,  9, 10, 11],\n",
       "       [12, 13, 14, 15]])"
      ]
     },
     "execution_count": 115,
     "metadata": {},
     "output_type": "execute_result"
    }
   ],
   "source": [
    "il1=np.tril_indices(4)\n",
    "print(il1)\n",
    "a = np.arange(16).reshape(4, 4)\n",
    "a"
   ]
  },
  {
   "cell_type": "code",
   "execution_count": 118,
   "id": "fb64bf81",
   "metadata": {},
   "outputs": [
    {
     "data": {
      "text/plain": [
       "array([ 0,  4,  5,  8,  9, 10, 12, 13, 14, 15])"
      ]
     },
     "execution_count": 118,
     "metadata": {},
     "output_type": "execute_result"
    }
   ],
   "source": [
    "a[il1]"
   ]
  },
  {
   "cell_type": "code",
   "execution_count": 124,
   "id": "6620f355",
   "metadata": {},
   "outputs": [
    {
     "name": "stdout",
     "output_type": "stream",
     "text": [
      "(array([0, 0, 0, 1, 1, 1, 1, 2, 2, 2, 2, 3, 3, 3, 3]), array([0, 1, 2, 0, 1, 2, 3, 0, 1, 2, 3, 0, 1, 2, 3]))\n"
     ]
    },
    {
     "data": {
      "text/plain": [
       "array([[ 0,  1,  2,  3],\n",
       "       [ 4,  5,  6,  7],\n",
       "       [ 8,  9, 10, 11],\n",
       "       [12, 13, 14, 15]])"
      ]
     },
     "execution_count": 124,
     "metadata": {},
     "output_type": "execute_result"
    }
   ],
   "source": [
    "il1=np.tril_indices(4,2)\n",
    "print(il1)\n",
    "a=np.arange(16).reshape(4,4)\n",
    "a"
   ]
  },
  {
   "cell_type": "code",
   "execution_count": 125,
   "id": "add48dc8",
   "metadata": {},
   "outputs": [
    {
     "data": {
      "text/plain": [
       "array([ 0,  1,  2,  4,  5,  6,  7,  8,  9, 10, 11, 12, 13, 14, 15])"
      ]
     },
     "execution_count": 125,
     "metadata": {},
     "output_type": "execute_result"
    }
   ],
   "source": [
    "a[il1]"
   ]
  },
  {
   "cell_type": "code",
   "execution_count": 126,
   "id": "d6702c0a",
   "metadata": {},
   "outputs": [
    {
     "name": "stdout",
     "output_type": "stream",
     "text": [
      "(array([0, 0, 0, 0, 1, 1, 1, 1, 2, 2, 2, 2, 3, 3, 3, 3]), array([0, 1, 2, 3, 0, 1, 2, 3, 0, 1, 2, 3, 0, 1, 2, 3]))\n"
     ]
    },
    {
     "data": {
      "text/plain": [
       "array([[ 0,  1,  2,  3],\n",
       "       [ 4,  5,  6,  7],\n",
       "       [ 8,  9, 10, 11],\n",
       "       [12, 13, 14, 15]])"
      ]
     },
     "execution_count": 126,
     "metadata": {},
     "output_type": "execute_result"
    }
   ],
   "source": [
    "il1=np.tril_indices(4,3)  \n",
    "print(il1)\n",
    "a=np.arange(16).reshape(4,4)\n",
    "a"
   ]
  },
  {
   "cell_type": "code",
   "execution_count": 127,
   "id": "ad516841",
   "metadata": {},
   "outputs": [
    {
     "data": {
      "text/plain": [
       "array([ 0,  1,  2,  3,  4,  5,  6,  7,  8,  9, 10, 11, 12, 13, 14, 15])"
      ]
     },
     "execution_count": 127,
     "metadata": {},
     "output_type": "execute_result"
    }
   ],
   "source": [
    "a[il1]"
   ]
  },
  {
   "cell_type": "code",
   "execution_count": 131,
   "id": "5467cce8",
   "metadata": {},
   "outputs": [
    {
     "name": "stdout",
     "output_type": "stream",
     "text": [
      "(array([0, 1, 1, 2, 2, 2, 3, 3, 3]), array([0, 0, 1, 0, 1, 2, 0, 1, 2]))\n"
     ]
    },
    {
     "data": {
      "text/plain": [
       "array([[ 0,  1,  2],\n",
       "       [ 3,  4,  5],\n",
       "       [ 6,  7,  8],\n",
       "       [ 9, 10, 11]])"
      ]
     },
     "execution_count": 131,
     "metadata": {},
     "output_type": "execute_result"
    }
   ],
   "source": [
    "il1=np.tril_indices(4,m=3)  \n",
    "print(il1)\n",
    "a=np.arange(12).reshape(4,3)\n",
    "a"
   ]
  },
  {
   "cell_type": "code",
   "execution_count": 132,
   "id": "6e02e029",
   "metadata": {},
   "outputs": [
    {
     "data": {
      "text/plain": [
       "array([ 0,  3,  4,  6,  7,  8,  9, 10, 11])"
      ]
     },
     "execution_count": 132,
     "metadata": {},
     "output_type": "execute_result"
    }
   ],
   "source": [
    "a[il1]"
   ]
  },
  {
   "cell_type": "code",
   "execution_count": 135,
   "id": "fbf3ec36",
   "metadata": {},
   "outputs": [
    {
     "name": "stdout",
     "output_type": "stream",
     "text": [
      "(array([0, 0, 1, 1, 1, 2, 2, 2, 3, 3, 3]), array([0, 1, 0, 1, 2, 0, 1, 2, 0, 1, 2]))\n"
     ]
    },
    {
     "data": {
      "text/plain": [
       "array([[ 0,  1,  2],\n",
       "       [ 3,  4,  5],\n",
       "       [ 6,  7,  8],\n",
       "       [ 9, 10, 11]])"
      ]
     },
     "execution_count": 135,
     "metadata": {},
     "output_type": "execute_result"
    }
   ],
   "source": [
    "il1=np.tril_indices(4,m=3,k=1)  \n",
    "print(il1)\n",
    "a=np.arange(12).reshape(4,3)\n",
    "a"
   ]
  },
  {
   "cell_type": "code",
   "execution_count": 136,
   "id": "ab7fd6d6",
   "metadata": {},
   "outputs": [
    {
     "data": {
      "text/plain": [
       "array([ 0,  1,  3,  4,  5,  6,  7,  8,  9, 10, 11])"
      ]
     },
     "execution_count": 136,
     "metadata": {},
     "output_type": "execute_result"
    }
   ],
   "source": [
    "a[il1]"
   ]
  },
  {
   "cell_type": "code",
   "execution_count": 144,
   "id": "5783f846",
   "metadata": {},
   "outputs": [
    {
     "name": "stdout",
     "output_type": "stream",
     "text": [
      "(array([0, 0, 0, 0, 1, 1, 1, 2, 2, 3]), array([0, 1, 2, 3, 1, 2, 3, 2, 3, 3]))\n",
      "[[ 0  1  2  3]\n",
      " [ 4  5  6  7]\n",
      " [ 8  9 10 11]\n",
      " [12 13 14 15]]\n"
     ]
    },
    {
     "data": {
      "text/plain": [
       "array([ 0,  1,  2,  3,  5,  6,  7, 10, 11, 15])"
      ]
     },
     "execution_count": 144,
     "metadata": {},
     "output_type": "execute_result"
    }
   ],
   "source": [
    "# similarl you can do for upper triangle \n",
    "iu1=np.triu_indices(4)\n",
    "print(iu1)\n",
    "a=np.arange(16).reshape(4,4)\n",
    "print(a)\n",
    "a[iu1]"
   ]
  },
  {
   "cell_type": "code",
   "execution_count": 145,
   "id": "b919b77e",
   "metadata": {},
   "outputs": [
    {
     "name": "stdout",
     "output_type": "stream",
     "text": [
      "(array([0, 0, 0, 0, 1, 1, 1, 1, 2, 2, 2, 3, 3]), array([0, 1, 2, 3, 0, 1, 2, 3, 1, 2, 3, 2, 3]))\n",
      "[[ 0  1  2  3]\n",
      " [ 4  5  6  7]\n",
      " [ 8  9 10 11]\n",
      " [12 13 14 15]]\n"
     ]
    },
    {
     "data": {
      "text/plain": [
       "array([ 0,  1,  2,  3,  4,  5,  6,  7,  9, 10, 11, 14, 15])"
      ]
     },
     "execution_count": 145,
     "metadata": {},
     "output_type": "execute_result"
    }
   ],
   "source": [
    "iu1=np.triu_indices(4,k=-1)\n",
    "print(iu1)\n",
    "a=np.arange(16).reshape(4,4)\n",
    "print(a)\n",
    "a[iu1]"
   ]
  },
  {
   "cell_type": "code",
   "execution_count": 149,
   "id": "be382818",
   "metadata": {},
   "outputs": [
    {
     "name": "stdout",
     "output_type": "stream",
     "text": [
      "(array([0, 0, 0, 0, 1, 1, 1, 1, 2, 2, 2, 2, 3, 3, 3]), array([0, 1, 2, 3, 0, 1, 2, 3, 0, 1, 2, 3, 1, 2, 3]))\n",
      "[[ 0  1  2  3]\n",
      " [ 4  5  6  7]\n",
      " [ 8  9 10 11]\n",
      " [12 13 14 15]]\n"
     ]
    },
    {
     "data": {
      "text/plain": [
       "array([ 0,  1,  2,  3,  4,  5,  6,  7,  8,  9, 10, 11, 13, 14, 15])"
      ]
     },
     "execution_count": 149,
     "metadata": {},
     "output_type": "execute_result"
    }
   ],
   "source": [
    "iu1=np.triu_indices(4,k=-2)\n",
    "print(iu1)\n",
    "a=np.arange(16).reshape(4,4)\n",
    "print(a)\n",
    "a[iu1]"
   ]
  },
  {
   "cell_type": "code",
   "execution_count": 150,
   "id": "3f5ebd41",
   "metadata": {},
   "outputs": [
    {
     "name": "stdout",
     "output_type": "stream",
     "text": [
      "(array([0, 0, 1]), array([0, 1, 1]))\n",
      "[[0 1]\n",
      " [2 3]\n",
      " [4 5]\n",
      " [6 7]]\n"
     ]
    },
    {
     "data": {
      "text/plain": [
       "array([0, 1, 3])"
      ]
     },
     "execution_count": 150,
     "metadata": {},
     "output_type": "execute_result"
    }
   ],
   "source": [
    "iu1=np.triu_indices(4,k=0,m=2)\n",
    "print(iu1)\n",
    "a=np.arange(8).reshape(4,2)\n",
    "print(a)\n",
    "a[iu1]"
   ]
  },
  {
   "cell_type": "code",
   "execution_count": 151,
   "id": "ea1ff93e",
   "metadata": {},
   "outputs": [
    {
     "name": "stdout",
     "output_type": "stream",
     "text": [
      "(array([0, 0, 1, 1, 2]), array([0, 1, 0, 1, 1]))\n",
      "[[0 1]\n",
      " [2 3]\n",
      " [4 5]\n",
      " [6 7]]\n"
     ]
    },
    {
     "data": {
      "text/plain": [
       "array([0, 1, 2, 3, 5])"
      ]
     },
     "execution_count": 151,
     "metadata": {},
     "output_type": "execute_result"
    }
   ],
   "source": [
    "iu1=np.triu_indices(4,k=-1,m=2)\n",
    "print(iu1)\n",
    "a=np.arange(8).reshape(4,2)\n",
    "print(a)\n",
    "a[iu1]"
   ]
  },
  {
   "cell_type": "code",
   "execution_count": 152,
   "id": "ba68f570",
   "metadata": {},
   "outputs": [
    {
     "name": "stdout",
     "output_type": "stream",
     "text": [
      "(array([0, 0, 1, 1, 2, 2, 3]), array([0, 1, 0, 1, 0, 1, 1]))\n",
      "[[0 1]\n",
      " [2 3]\n",
      " [4 5]\n",
      " [6 7]]\n"
     ]
    },
    {
     "data": {
      "text/plain": [
       "array([0, 1, 2, 3, 4, 5, 7])"
      ]
     },
     "execution_count": 152,
     "metadata": {},
     "output_type": "execute_result"
    }
   ],
   "source": [
    "iu1=np.triu_indices(4,k=-2,m=2)\n",
    "print(iu1)\n",
    "a=np.arange(8).reshape(4,2)\n",
    "print(a)\n",
    "a[iu1]"
   ]
  }
 ],
 "metadata": {
  "kernelspec": {
   "display_name": "Python 3 (ipykernel)",
   "language": "python",
   "name": "python3"
  },
  "language_info": {
   "codemirror_mode": {
    "name": "ipython",
    "version": 3
   },
   "file_extension": ".py",
   "mimetype": "text/x-python",
   "name": "python",
   "nbconvert_exporter": "python",
   "pygments_lexer": "ipython3",
   "version": "3.11.5"
  }
 },
 "nbformat": 4,
 "nbformat_minor": 5
}
