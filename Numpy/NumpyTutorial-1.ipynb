{
 "cells": [
  {
   "cell_type": "markdown",
   "id": "0dab637c",
   "metadata": {},
   "source": [
    "### NUMPY\n",
    "\n",
    "* numerical python called as numpy\n",
    "* used for ML, data manipulation, all operations of mathematics"
   ]
  },
  {
   "cell_type": "code",
   "execution_count": 2,
   "id": "f6509103",
   "metadata": {},
   "outputs": [
    {
     "name": "stdout",
     "output_type": "stream",
     "text": [
      "[[1 2 3]\n",
      " [4 5 6]]\n"
     ]
    }
   ],
   "source": [
    "# Arrays in NumPy\n",
    "\n",
    "import numpy as np\n",
    "\n",
    "arr=np.array([[1,2,3],\n",
    "             [4,5,6]])\n",
    "print(arr)"
   ]
  },
  {
   "cell_type": "code",
   "execution_count": 7,
   "id": "a99cd157",
   "metadata": {},
   "outputs": [
    {
     "data": {
      "text/plain": [
       "1"
      ]
     },
     "execution_count": 7,
     "metadata": {},
     "output_type": "execute_result"
    }
   ],
   "source": [
    "arr[0][0]"
   ]
  },
  {
   "cell_type": "code",
   "execution_count": 9,
   "id": "65419c28",
   "metadata": {},
   "outputs": [
    {
     "data": {
      "text/plain": [
       "numpy.ndarray"
      ]
     },
     "execution_count": 9,
     "metadata": {},
     "output_type": "execute_result"
    }
   ],
   "source": [
    "type(arr)"
   ]
  },
  {
   "cell_type": "code",
   "execution_count": 10,
   "id": "43d05891",
   "metadata": {},
   "outputs": [
    {
     "data": {
      "text/plain": [
       "2"
      ]
     },
     "execution_count": 10,
     "metadata": {},
     "output_type": "execute_result"
    }
   ],
   "source": [
    "arr.ndim"
   ]
  },
  {
   "cell_type": "code",
   "execution_count": 11,
   "id": "826bd81c",
   "metadata": {},
   "outputs": [
    {
     "data": {
      "text/plain": [
       "(2, 3)"
      ]
     },
     "execution_count": 11,
     "metadata": {},
     "output_type": "execute_result"
    }
   ],
   "source": [
    "arr.shape"
   ]
  },
  {
   "cell_type": "code",
   "execution_count": 12,
   "id": "1e85eeaf",
   "metadata": {},
   "outputs": [
    {
     "data": {
      "text/plain": [
       "6"
      ]
     },
     "execution_count": 12,
     "metadata": {},
     "output_type": "execute_result"
    }
   ],
   "source": [
    "arr.size"
   ]
  },
  {
   "cell_type": "code",
   "execution_count": 13,
   "id": "1dddd1f7",
   "metadata": {},
   "outputs": [
    {
     "data": {
      "text/plain": [
       "dtype('int32')"
      ]
     },
     "execution_count": 13,
     "metadata": {},
     "output_type": "execute_result"
    }
   ],
   "source": [
    "arr.dtype"
   ]
  },
  {
   "cell_type": "code",
   "execution_count": 18,
   "id": "e30e5afc",
   "metadata": {},
   "outputs": [
    {
     "name": "stdout",
     "output_type": "stream",
     "text": [
      "[[1 2 3]\n",
      " [4 5 6]]\n"
     ]
    }
   ],
   "source": [
    "a=np.array([[1,2,3],[4,5,6]],dtype='int')\n",
    "print(a)"
   ]
  },
  {
   "cell_type": "code",
   "execution_count": 19,
   "id": "0589855a",
   "metadata": {},
   "outputs": [
    {
     "name": "stdout",
     "output_type": "stream",
     "text": [
      "[[1. 2. 3.]\n",
      " [4. 5. 6.]]\n"
     ]
    }
   ],
   "source": [
    "b=np.array(((1,2,3),(4,5,6)) ,dtype='float')\n",
    "print(b)"
   ]
  },
  {
   "cell_type": "code",
   "execution_count": 20,
   "id": "fd1a4fef",
   "metadata": {},
   "outputs": [
    {
     "data": {
      "text/plain": [
       "array([1, 2, 3])"
      ]
     },
     "execution_count": 20,
     "metadata": {},
     "output_type": "execute_result"
    }
   ],
   "source": [
    "c=np.array((1,2,3))\n",
    "c"
   ]
  },
  {
   "cell_type": "code",
   "execution_count": 27,
   "id": "6713a6d6",
   "metadata": {},
   "outputs": [
    {
     "name": "stdout",
     "output_type": "stream",
     "text": [
      "[[0 0 0]\n",
      " [0 0 0]]\n"
     ]
    }
   ],
   "source": [
    "# what if we dont know the size of the array\n",
    "c=np.zeros((2,3), dtype='int')\n",
    "print(c)"
   ]
  },
  {
   "cell_type": "code",
   "execution_count": 28,
   "id": "05846933",
   "metadata": {},
   "outputs": [
    {
     "name": "stdout",
     "output_type": "stream",
     "text": [
      "[[1 1 1]\n",
      " [1 1 1]]\n"
     ]
    }
   ],
   "source": [
    "c=np.ones((2,3), dtype='int')\n",
    "print(c)"
   ]
  },
  {
   "cell_type": "code",
   "execution_count": 30,
   "id": "542391f6",
   "metadata": {},
   "outputs": [
    {
     "name": "stdout",
     "output_type": "stream",
     "text": [
      "[[10 10 10]\n",
      " [10 10 10]]\n"
     ]
    }
   ],
   "source": [
    "c=np.full((2,3),10, dtype='int')\n",
    "print(c)"
   ]
  },
  {
   "cell_type": "code",
   "execution_count": 37,
   "id": "c32c0bdb",
   "metadata": {},
   "outputs": [
    {
     "data": {
      "text/plain": [
       "(4, 4)"
      ]
     },
     "execution_count": 37,
     "metadata": {},
     "output_type": "execute_result"
    }
   ],
   "source": [
    "arr = np.array([[-1, 2, 0, 4],\n",
    "                [4, -0.5, 6, 0],\n",
    "                [2.6, 0, 7, 8],\n",
    "                [3, -7, 4, 2.0]], dtype='float')\n",
    "\n",
    "arr.shape"
   ]
  },
  {
   "cell_type": "code",
   "execution_count": 38,
   "id": "40f8cc88",
   "metadata": {},
   "outputs": [
    {
     "data": {
      "text/plain": [
       "6.0"
      ]
     },
     "execution_count": 38,
     "metadata": {},
     "output_type": "execute_result"
    }
   ],
   "source": [
    "arr[1][2]"
   ]
  },
  {
   "cell_type": "code",
   "execution_count": 61,
   "id": "9273068b",
   "metadata": {},
   "outputs": [
    {
     "data": {
      "text/plain": [
       "array([[-1.,  0.],\n",
       "       [ 4.,  6.]])"
      ]
     },
     "execution_count": 61,
     "metadata": {},
     "output_type": "execute_result"
    }
   ],
   "source": [
    "# array slicing\n",
    "arr[0:2,::2]"
   ]
  },
  {
   "cell_type": "code",
   "execution_count": 62,
   "id": "78890f4e",
   "metadata": {},
   "outputs": [
    {
     "data": {
      "text/plain": [
       "array([[ 0.,  7.],\n",
       "       [-7.,  4.]])"
      ]
     },
     "execution_count": 62,
     "metadata": {},
     "output_type": "execute_result"
    }
   ],
   "source": [
    "arr[2:4,1:3]"
   ]
  },
  {
   "cell_type": "code",
   "execution_count": 63,
   "id": "dec9e67e",
   "metadata": {},
   "outputs": [
    {
     "data": {
      "text/plain": [
       "array([ 4. , -0.5,  6. ,  0. ])"
      ]
     },
     "execution_count": 63,
     "metadata": {},
     "output_type": "execute_result"
    }
   ],
   "source": [
    "arr[1]"
   ]
  },
  {
   "cell_type": "code",
   "execution_count": 69,
   "id": "f0a17311",
   "metadata": {},
   "outputs": [
    {
     "data": {
      "text/plain": [
       "array([[ 4. , -0.5,  6. ,  0. ]])"
      ]
     },
     "execution_count": 69,
     "metadata": {},
     "output_type": "execute_result"
    }
   ],
   "source": [
    "arr[1:2]"
   ]
  },
  {
   "cell_type": "code",
   "execution_count": 74,
   "id": "4b01dfa9",
   "metadata": {},
   "outputs": [
    {
     "data": {
      "text/plain": [
       "array([[-1. ,  2. ,  0. ,  4. ],\n",
       "       [ 4. , -0.5,  6. ,  0. ]])"
      ]
     },
     "execution_count": 74,
     "metadata": {},
     "output_type": "execute_result"
    }
   ],
   "source": [
    "arr[:2]"
   ]
  },
  {
   "cell_type": "code",
   "execution_count": 77,
   "id": "26afb415",
   "metadata": {},
   "outputs": [
    {
     "data": {
      "text/plain": [
       "array([[ 4. , -0.5,  6. ,  0. ]])"
      ]
     },
     "execution_count": 77,
     "metadata": {},
     "output_type": "execute_result"
    }
   ],
   "source": [
    "arr[1:2]"
   ]
  },
  {
   "cell_type": "code",
   "execution_count": 79,
   "id": "56c21b22",
   "metadata": {},
   "outputs": [
    {
     "data": {
      "text/plain": [
       "array([-1. ,  4. ,  2.6,  3. ])"
      ]
     },
     "execution_count": 79,
     "metadata": {},
     "output_type": "execute_result"
    }
   ],
   "source": [
    "arr[:,0]"
   ]
  },
  {
   "cell_type": "code",
   "execution_count": 80,
   "id": "c00fea68",
   "metadata": {},
   "outputs": [
    {
     "data": {
      "text/plain": [
       "array([0., 6., 7., 4.])"
      ]
     },
     "execution_count": 80,
     "metadata": {},
     "output_type": "execute_result"
    }
   ],
   "source": [
    "arr[:,2]"
   ]
  },
  {
   "cell_type": "code",
   "execution_count": 81,
   "id": "66359a50",
   "metadata": {},
   "outputs": [
    {
     "data": {
      "text/plain": [
       "array([[-1. ,  2. ],\n",
       "       [ 4. , -0.5],\n",
       "       [ 2.6,  0. ],\n",
       "       [ 3. , -7. ]])"
      ]
     },
     "execution_count": 81,
     "metadata": {},
     "output_type": "execute_result"
    }
   ],
   "source": [
    "arr[:,0:2]"
   ]
  },
  {
   "cell_type": "code",
   "execution_count": 83,
   "id": "ec60687f",
   "metadata": {},
   "outputs": [
    {
     "data": {
      "text/plain": [
       "34.1"
      ]
     },
     "execution_count": 83,
     "metadata": {},
     "output_type": "execute_result"
    }
   ],
   "source": [
    "arr.sum()"
   ]
  },
  {
   "cell_type": "code",
   "execution_count": 85,
   "id": "52ed226b",
   "metadata": {},
   "outputs": [
    {
     "data": {
      "text/plain": [
       "array([[ 0. ,  3. ,  1. ,  5. ],\n",
       "       [ 5. ,  0.5,  7. ,  1. ],\n",
       "       [ 3.6,  1. ,  8. ,  9. ],\n",
       "       [ 4. , -6. ,  5. ,  3. ]])"
      ]
     },
     "execution_count": 85,
     "metadata": {},
     "output_type": "execute_result"
    }
   ],
   "source": [
    "# adding 1 to all elemtns\n",
    "arr=arr+1\n",
    "arr"
   ]
  },
  {
   "cell_type": "code",
   "execution_count": 86,
   "id": "9b70761d",
   "metadata": {},
   "outputs": [
    {
     "data": {
      "text/plain": [
       "array([[-1. ,  2. ,  0. ,  4. ],\n",
       "       [ 4. , -0.5,  6. ,  0. ],\n",
       "       [ 2.6,  0. ,  7. ,  8. ],\n",
       "       [ 3. , -7. ,  4. ,  2. ]])"
      ]
     },
     "execution_count": 86,
     "metadata": {},
     "output_type": "execute_result"
    }
   ],
   "source": [
    "# substracting 1 to all elemnts\n",
    "\n",
    "arr=arr-1\n",
    "arr"
   ]
  },
  {
   "cell_type": "code",
   "execution_count": 94,
   "id": "ee69778e",
   "metadata": {},
   "outputs": [],
   "source": [
    "# First Array\n",
    "arr1 = np.array([[4, 7], [2, 6]], \n",
    "                 dtype = np.float64)\n",
    "                  \n",
    "# Second Array\n",
    "arr2 = np.array([[3, 6], [2, 8]], \n",
    "                 dtype = np.float64) "
   ]
  },
  {
   "cell_type": "code",
   "execution_count": 96,
   "id": "241d41ca",
   "metadata": {},
   "outputs": [
    {
     "data": {
      "text/plain": [
       "array([[3., 6.],\n",
       "       [2., 8.]])"
      ]
     },
     "execution_count": 96,
     "metadata": {},
     "output_type": "execute_result"
    }
   ],
   "source": [
    "arr2"
   ]
  },
  {
   "cell_type": "code",
   "execution_count": 98,
   "id": "c1ed921b",
   "metadata": {},
   "outputs": [
    {
     "data": {
      "text/plain": [
       "19.0"
      ]
     },
     "execution_count": 98,
     "metadata": {},
     "output_type": "execute_result"
    }
   ],
   "source": [
    "c=np.sum(arr1)\n",
    "c"
   ]
  },
  {
   "cell_type": "code",
   "execution_count": 101,
   "id": "8dd109bb",
   "metadata": {},
   "outputs": [
    {
     "data": {
      "text/plain": [
       "19.0"
      ]
     },
     "execution_count": 101,
     "metadata": {},
     "output_type": "execute_result"
    }
   ],
   "source": [
    "c=np.sum(arr2)\n",
    "c"
   ]
  },
  {
   "cell_type": "code",
   "execution_count": 102,
   "id": "366cd194",
   "metadata": {},
   "outputs": [
    {
     "data": {
      "text/plain": [
       "array([[2.        , 2.64575131],\n",
       "       [1.41421356, 2.44948974]])"
      ]
     },
     "execution_count": 102,
     "metadata": {},
     "output_type": "execute_result"
    }
   ],
   "source": [
    "c=np.sqrt(arr1)\n",
    "c"
   ]
  },
  {
   "cell_type": "code",
   "execution_count": 104,
   "id": "e7bce612",
   "metadata": {},
   "outputs": [
    {
     "data": {
      "text/plain": [
       "array([[4., 2.],\n",
       "       [7., 6.]])"
      ]
     },
     "execution_count": 104,
     "metadata": {},
     "output_type": "execute_result"
    }
   ],
   "source": [
    "# Trnasponse of array\n",
    "transponsearr1=arr1.T\n",
    "transponsearr1"
   ]
  },
  {
   "cell_type": "code",
   "execution_count": 105,
   "id": "16ecb8df",
   "metadata": {},
   "outputs": [
    {
     "data": {
      "text/plain": [
       "array([[3., 2.],\n",
       "       [6., 8.]])"
      ]
     },
     "execution_count": 105,
     "metadata": {},
     "output_type": "execute_result"
    }
   ],
   "source": [
    "transponsearr2=arr2.T\n",
    "transponsearr2"
   ]
  },
  {
   "cell_type": "code",
   "execution_count": 125,
   "id": "73961a9d",
   "metadata": {},
   "outputs": [
    {
     "data": {
      "text/plain": [
       "(array([[ 7., 13.],\n",
       "        [ 4., 14.]]),\n",
       " (2, 2),\n",
       " 2)"
      ]
     },
     "execution_count": 125,
     "metadata": {},
     "output_type": "execute_result"
    }
   ],
   "source": [
    "arr3=arr1+arr2\n",
    "arr3,arr3.shape,arr3.ndim"
   ]
  },
  {
   "cell_type": "code",
   "execution_count": 121,
   "id": "72b72dad",
   "metadata": {},
   "outputs": [
    {
     "name": "stdout",
     "output_type": "stream",
     "text": [
      "[1 2 3 4 5]\n"
     ]
    }
   ],
   "source": [
    "list1=[1,2,3,4,5]\n",
    "\n",
    "arr=np.array(list1)\n",
    "# print(list1)\n",
    "print(arr)"
   ]
  },
  {
   "cell_type": "code",
   "execution_count": 132,
   "id": "747e9f86",
   "metadata": {},
   "outputs": [
    {
     "data": {
      "text/plain": [
       "array([0.])"
      ]
     },
     "execution_count": 132,
     "metadata": {},
     "output_type": "execute_result"
    }
   ],
   "source": [
    "# Numpy.fromiter()\n",
    "\n",
    "iterable=(i for i in range(9))\n",
    "np.fromiter(iterable,dtype='float',count=1)"
   ]
  },
  {
   "cell_type": "code",
   "execution_count": 142,
   "id": "2f14a7df",
   "metadata": {},
   "outputs": [
    {
     "data": {
      "text/plain": [
       "array(['a', 'k', 'a', 's', 'h', 'h', 'u', 'd', 'e', 'h'], dtype='<U3')"
      ]
     },
     "execution_count": 142,
     "metadata": {},
     "output_type": "execute_result"
    }
   ],
   "source": [
    "str1=\"akashhudeh\"\n",
    "\n",
    "np.fromiter(str1,dtype='U3')"
   ]
  },
  {
   "cell_type": "code",
   "execution_count": 224,
   "id": "fe54a51b",
   "metadata": {},
   "outputs": [
    {
     "data": {
      "text/plain": [
       "array([ 0,  2,  4,  6,  8, 10, 12, 14, 16, 18, 20, 22, 24, 26, 28, 30, 32,\n",
       "       34, 36, 38, 40, 42, 44, 46, 48, 50, 52, 54, 56, 58, 60, 62, 64, 66,\n",
       "       68, 70, 72, 74, 76, 78, 80, 82, 84, 86, 88, 90, 92, 94, 96, 98])"
      ]
     },
     "execution_count": 224,
     "metadata": {},
     "output_type": "execute_result"
    }
   ],
   "source": [
    "# numpy.arange()\n",
    "\n",
    "c=np.arange(0,100,2)\n",
    "c"
   ]
  },
  {
   "cell_type": "code",
   "execution_count": 223,
   "id": "bc01f853",
   "metadata": {},
   "outputs": [
    {
     "data": {
      "text/plain": [
       "array([   0,   45,   90,  136,  181,  227,  272,  318,  363,  409,  454,\n",
       "        500,  545,  590,  636,  681,  727,  772,  818,  863,  909,  954,\n",
       "       1000])"
      ]
     },
     "execution_count": 223,
     "metadata": {},
     "output_type": "execute_result"
    }
   ],
   "source": [
    "# numpy.linespace()\n",
    "\n",
    "c=np.linspace(0,1000,num=23,dtype=int)\n",
    "c"
   ]
  },
  {
   "cell_type": "code",
   "execution_count": 231,
   "id": "46f9eb45",
   "metadata": {},
   "outputs": [
    {
     "data": {
      "text/plain": [
       "array([[-361873256,        489,         50,          0],\n",
       "       [         0,          0,          0,          0],\n",
       "       [         0,         55, 1852990827,  808348773],\n",
       "       [1647338594,  758538553,  859256630,  895562797],\n",
       "       [ 808988006,  892154416,  946157877, 1630823475],\n",
       "       [ 778450534, 1952543859,      29557,         90]])"
      ]
     },
     "execution_count": 231,
     "metadata": {},
     "output_type": "execute_result"
    }
   ],
   "source": [
    "###### numpy.empty()\n",
    "\n",
    "# np.empty array will not set the value to 0 instead it createa a array of shape as defined and value in undfined whenev the function is called\n",
    "# the order indicates storing thearray in C for row majoir and F for column major \n",
    "c=np.empty((6,4),dtype='int',order='C')\n",
    "c"
   ]
  },
  {
   "cell_type": "code",
   "execution_count": 240,
   "id": "6bdfcfe3",
   "metadata": {},
   "outputs": [
    {
     "data": {
      "text/plain": [
       "array([[ 1, 16],\n",
       "       [ 4, 25],\n",
       "       [ 9, 36]])"
      ]
     },
     "execution_count": 240,
     "metadata": {},
     "output_type": "execute_result"
    }
   ],
   "source": [
    "a=np.array([[1,2,3],\n",
    "           [4,5,6]],dtype='int')\n",
    "a=a*a\n",
    "t=a.T\n",
    "t"
   ]
  },
  {
   "cell_type": "code",
   "execution_count": 242,
   "id": "cd3ac6c5",
   "metadata": {},
   "outputs": [
    {
     "data": {
      "text/plain": [
       "(36,\n",
       " 1,\n",
       " 91,\n",
       " array([[ 1, 16],\n",
       "        [ 5, 41],\n",
       "        [14, 77]]))"
      ]
     },
     "execution_count": 242,
     "metadata": {},
     "output_type": "execute_result"
    }
   ],
   "source": [
    "# cumsum() cumulitive sum along the axis 0 or 1\n",
    "t.max(),t.min(),t.sum(),t.cumsum(axis=0)"
   ]
  },
  {
   "cell_type": "code",
   "execution_count": 247,
   "id": "cca4b237",
   "metadata": {},
   "outputs": [
    {
     "data": {
      "text/plain": [
       "array([[ 7, 10],\n",
       "       [15, 22]])"
      ]
     },
     "execution_count": 247,
     "metadata": {},
     "output_type": "execute_result"
    }
   ],
   "source": [
    "d=np.array([[1,2],\n",
    "        [3,4]],dtype='int')\n",
    "\n",
    "res=d.dot(d)\n",
    "res"
   ]
  },
  {
   "cell_type": "code",
   "execution_count": 252,
   "id": "093cbfe0",
   "metadata": {},
   "outputs": [
    {
     "data": {
      "text/plain": [
       "(array([0.00000000e+00, 8.41470985e-01, 1.22464680e-16, 1.00000000e+00]),\n",
       " array([ 1.        ,  2.71828183, 23.14069263,  4.81047738]),\n",
       " array([0.       , 1.       , 9.8696044, 2.4674011]))"
      ]
     },
     "execution_count": 252,
     "metadata": {},
     "output_type": "execute_result"
    }
   ],
   "source": [
    "a=np.array([0,1,np.pi,np.pi/2])\n",
    "c1=np.sin(a)\n",
    "c2=np.exp(a)\n",
    "c3=np.square(a)\n",
    "c1,c2,c3"
   ]
  },
  {
   "cell_type": "code",
   "execution_count": 267,
   "id": "9f44c605",
   "metadata": {},
   "outputs": [
    {
     "data": {
      "text/plain": [
       "('>', 4, 'int32')"
      ]
     },
     "execution_count": 267,
     "metadata": {},
     "output_type": "execute_result"
    }
   ],
   "source": [
    "import numpy as np\n",
    "\n",
    "dt=np.dtype('>i4')\n",
    "dt.byteorder,dt.itemsize,dt.name"
   ]
  },
  {
   "cell_type": "code",
   "execution_count": 276,
   "id": "34574eb2",
   "metadata": {},
   "outputs": [
    {
     "name": "stdout",
     "output_type": "stream",
     "text": [
      "('Sarah', [8., 7.])\n",
      "Grades of John are:  [6. 7.]\n",
      "Names are:  ['Sarah' 'John']\n",
      "[('Sarah', [8., 7.]) ('John', [6., 7.])]\n"
     ]
    }
   ],
   "source": [
    "# Python program to demonstrate\n",
    "# the use of data type object with structured array.\n",
    "import numpy as np\n",
    "\n",
    "dt = np.dtype([('name', np.unicode_, 16), ('grades', np.float64, (2,))])\n",
    "\n",
    "# x is a structured array with names and marks of students.\n",
    "# Data type of name of the student is np.unicode_ and\n",
    "# data type of marks is np.float(64)\n",
    "x = np.array([('Sarah', (8.0, 7.0)), ('John', (6.0, 7.0))], dtype=dt)\n",
    "\n",
    "print(x[0])\n",
    "print(\"Grades of John are: \",x[1]['grades'])\n",
    "print(\"Names are: \",x['name'])\n",
    "\n",
    "print(x)"
   ]
  },
  {
   "cell_type": "code",
   "execution_count": 290,
   "id": "d450b803",
   "metadata": {},
   "outputs": [
    {
     "data": {
      "text/plain": [
       "array([(23, [1., 2.])], dtype=[('age', '<i2'), ('values', '<f8', (2,))])"
      ]
     },
     "execution_count": 290,
     "metadata": {},
     "output_type": "execute_result"
    }
   ],
   "source": [
    "dt=np.dtype([(\"age\",np.int16),(\"values\",np.float64,(2,))])\n",
    "x=np.array([(23,(1,2))], dtype=dt)\n",
    "            \n",
    "x"
   ]
  },
  {
   "cell_type": "code",
   "execution_count": 293,
   "id": "b05134b9",
   "metadata": {},
   "outputs": [
    {
     "data": {
      "text/plain": [
       "(dtype('int32'), numpy.ndarray)"
      ]
     },
     "execution_count": 293,
     "metadata": {},
     "output_type": "execute_result"
    }
   ],
   "source": [
    "a= np.array([1])\n",
    "a.dtype,type(a)"
   ]
  },
  {
   "cell_type": "code",
   "execution_count": 306,
   "id": "96c8a3eb",
   "metadata": {},
   "outputs": [
    {
     "name": "stdout",
     "output_type": "stream",
     "text": [
      "('<f8', (2,))\n",
      "<U16\n"
     ]
    }
   ],
   "source": [
    "dt = np.dtype([('name', np.unicode_, 16), ('grades', np.float64, (2,))])\n",
    "print(dt['grades'])\n",
    "print(dt['name'])"
   ]
  },
  {
   "cell_type": "code",
   "execution_count": 311,
   "id": "724f604f",
   "metadata": {},
   "outputs": [
    {
     "data": {
      "text/plain": [
       "array([[1., 2., 3., 4.],\n",
       "       [5., 6., 7., 8.]])"
      ]
     },
     "execution_count": 311,
     "metadata": {},
     "output_type": "execute_result"
    }
   ],
   "source": [
    "c=np.empty((2,4),dtype='float')\n",
    "c"
   ]
  },
  {
   "cell_type": "code",
   "execution_count": 313,
   "id": "3aca306d",
   "metadata": {},
   "outputs": [
    {
     "data": {
      "text/plain": [
       "array([[0, 0],\n",
       "       [0, 0]])"
      ]
     },
     "execution_count": 313,
     "metadata": {},
     "output_type": "execute_result"
    }
   ],
   "source": [
    "c=np.zeros((2,2),dtype='int')\n",
    "c"
   ]
  },
  {
   "cell_type": "code",
   "execution_count": 320,
   "id": "422823f9",
   "metadata": {},
   "outputs": [
    {
     "data": {
      "text/plain": [
       "array([[0, 1],\n",
       "       [2, 3],\n",
       "       [4, 5],\n",
       "       [6, 7]])"
      ]
     },
     "execution_count": 320,
     "metadata": {},
     "output_type": "execute_result"
    }
   ],
   "source": [
    "c= np.arange(8)\n",
    "c.reshape(4,2)"
   ]
  },
  {
   "cell_type": "code",
   "execution_count": 321,
   "id": "208bbe8d",
   "metadata": {},
   "outputs": [
    {
     "data": {
      "text/plain": [
       "array([[[0, 1],\n",
       "        [2, 3]],\n",
       "\n",
       "       [[4, 5],\n",
       "        [6, 7]]])"
      ]
     },
     "execution_count": 321,
     "metadata": {},
     "output_type": "execute_result"
    }
   ],
   "source": [
    "c= np.arange(8)\n",
    "c.reshape(2,2,2)"
   ]
  },
  {
   "cell_type": "code",
   "execution_count": 323,
   "id": "551b3fbc",
   "metadata": {},
   "outputs": [
    {
     "data": {
      "text/plain": [
       "array([[ 1,  2,  3,  4,  5],\n",
       "       [ 6,  7,  8,  9, 10]])"
      ]
     },
     "execution_count": 323,
     "metadata": {},
     "output_type": "execute_result"
    }
   ],
   "source": [
    "c=np.arange(1,11).reshape(2,5)\n"
   ]
  },
  {
   "cell_type": "code",
   "execution_count": 330,
   "id": "b9750e67",
   "metadata": {},
   "outputs": [
    {
     "data": {
      "text/plain": [
       "(array([  0.,  25.,  50.,  75., 100.]), 25.0)"
      ]
     },
     "execution_count": 330,
     "metadata": {},
     "output_type": "execute_result"
    }
   ],
   "source": [
    "c=np.linspace(0,100,num=5,retstep=True)\n",
    "c"
   ]
  },
  {
   "cell_type": "code",
   "execution_count": 333,
   "id": "09ce28ae",
   "metadata": {},
   "outputs": [
    {
     "data": {
      "text/plain": [
       "array([0.        , 0.66666667, 1.33333333, 2.        ])"
      ]
     },
     "execution_count": 333,
     "metadata": {},
     "output_type": "execute_result"
    }
   ],
   "source": [
    "c=np.linspace(0,2,4)\n",
    "c"
   ]
  },
  {
   "cell_type": "code",
   "execution_count": 339,
   "id": "45af2c28",
   "metadata": {},
   "outputs": [
    {
     "data": {
      "text/plain": [
       "array([1, 3, 2, 4])"
      ]
     },
     "execution_count": 339,
     "metadata": {},
     "output_type": "execute_result"
    }
   ],
   "source": [
    "c=np.array([(1,2),(3,4)])\n",
    "c.flatten(\"F\")"
   ]
  },
  {
   "cell_type": "code",
   "execution_count": 349,
   "id": "b7fbfdbf",
   "metadata": {},
   "outputs": [
    {
     "data": {
      "text/plain": [
       "array([[1647390768,  859517275],\n",
       "       [ 757951794,  540945709]])"
      ]
     },
     "execution_count": 349,
     "metadata": {},
     "output_type": "execute_result"
    }
   ],
   "source": [
    "# numpy.empty_like method \n",
    "\n",
    "\n",
    "c=np.empty_like([(1,2),(3,4)])\n",
    "c"
   ]
  },
  {
   "cell_type": "code",
   "execution_count": 5,
   "id": "c5eb9dd9",
   "metadata": {},
   "outputs": [
    {
     "data": {
      "text/plain": [
       "array([[          0,           0],\n",
       "       [-1469527647, -2147479808],\n",
       "       [          0,           0]])"
      ]
     },
     "execution_count": 5,
     "metadata": {},
     "output_type": "execute_result"
    }
   ],
   "source": [
    "import numpy as np\n",
    "a=((1,2),(3,4),(5,6))\n",
    "c=np.empty_like(a)\n",
    "c"
   ]
  },
  {
   "cell_type": "code",
   "execution_count": 354,
   "id": "bee992d9",
   "metadata": {},
   "outputs": [
    {
     "data": {
      "text/plain": [
       "array([[1., 1.],\n",
       "       [1., 1.]])"
      ]
     },
     "execution_count": 354,
     "metadata": {},
     "output_type": "execute_result"
    }
   ],
   "source": [
    "c=np.ones((2,2))\n",
    "c"
   ]
  },
  {
   "cell_type": "code",
   "execution_count": 357,
   "id": "72704fd8",
   "metadata": {},
   "outputs": [
    {
     "data": {
      "text/plain": [
       "array([[1, 1],\n",
       "       [1, 1],\n",
       "       [1, 1]])"
      ]
     },
     "execution_count": 357,
     "metadata": {},
     "output_type": "execute_result"
    }
   ],
   "source": [
    "a=((1,2),(3,4),(5,6))\n",
    "c=np.ones_like(a)\n",
    "c"
   ]
  },
  {
   "cell_type": "code",
   "execution_count": 360,
   "id": "4ad3aa64",
   "metadata": {},
   "outputs": [
    {
     "data": {
      "text/plain": [
       "array([[0., 0.],\n",
       "       [0., 0.]])"
      ]
     },
     "execution_count": 360,
     "metadata": {},
     "output_type": "execute_result"
    }
   ],
   "source": [
    "c=np.zeros((2,2))\n",
    "c"
   ]
  },
  {
   "cell_type": "code",
   "execution_count": 364,
   "id": "80f74bd4",
   "metadata": {},
   "outputs": [
    {
     "data": {
      "text/plain": [
       "array([[0, 0],\n",
       "       [0, 0],\n",
       "       [0, 0]])"
      ]
     },
     "execution_count": 364,
     "metadata": {},
     "output_type": "execute_result"
    }
   ],
   "source": [
    "a=((1,2),(3,4),(5,6))\n",
    "\n",
    "c=np.zeros_like(a)\n",
    "c"
   ]
  },
  {
   "cell_type": "code",
   "execution_count": 367,
   "id": "629fbb23",
   "metadata": {},
   "outputs": [
    {
     "data": {
      "text/plain": [
       "array([[3, 3],\n",
       "       [3, 3]])"
      ]
     },
     "execution_count": 367,
     "metadata": {},
     "output_type": "execute_result"
    }
   ],
   "source": [
    "c=np.full((2,2),3,dtype='int')\n",
    "c"
   ]
  },
  {
   "cell_type": "code",
   "execution_count": 370,
   "id": "8e7af04a",
   "metadata": {},
   "outputs": [
    {
     "data": {
      "text/plain": [
       "array([[4, 4],\n",
       "       [4, 4],\n",
       "       [4, 4]])"
      ]
     },
     "execution_count": 370,
     "metadata": {},
     "output_type": "execute_result"
    }
   ],
   "source": [
    "a=((1,2),(3,4),(5,6))\n",
    "c=np.full_like(a,4,dtype='int')\n",
    "c"
   ]
  },
  {
   "cell_type": "code",
   "execution_count": 384,
   "id": "90b3d90a",
   "metadata": {},
   "outputs": [
    {
     "data": {
      "text/plain": [
       "array([[1, 0, 0, 0],\n",
       "       [0, 1, 0, 0],\n",
       "       [0, 0, 1, 0]])"
      ]
     },
     "execution_count": 384,
     "metadata": {},
     "output_type": "execute_result"
    }
   ],
   "source": [
    "# eye alwaysprints one in diagonal \n",
    "c= np.eye(3,4,dtype='int')\n",
    "c"
   ]
  },
  {
   "cell_type": "code",
   "execution_count": 422,
   "id": "8e2cfe16",
   "metadata": {},
   "outputs": [
    {
     "data": {
      "text/plain": [
       "array([[1, 0, 0],\n",
       "       [0, 1, 0],\n",
       "       [0, 0, 1]])"
      ]
     },
     "execution_count": 422,
     "metadata": {},
     "output_type": "execute_result"
    }
   ],
   "source": [
    "c=np.eye(3,dtype='int')\n",
    "c"
   ]
  },
  {
   "cell_type": "code",
   "execution_count": 6,
   "id": "6c46b683",
   "metadata": {},
   "outputs": [
    {
     "data": {
      "text/plain": [
       "array([[1, 0, 0, 0],\n",
       "       [0, 1, 0, 0],\n",
       "       [0, 0, 1, 0]])"
      ]
     },
     "execution_count": 6,
     "metadata": {},
     "output_type": "execute_result"
    }
   ],
   "source": [
    "c= np.eye(3,4,k=0,dtype='int',order='F')# k will shift the diagonal negative will be below diagonal\n",
    "c"
   ]
  },
  {
   "cell_type": "code",
   "execution_count": 7,
   "id": "ea33b3aa",
   "metadata": {},
   "outputs": [
    {
     "data": {
      "text/plain": [
       "array([[1., 0., 0., 0.],\n",
       "       [0., 1., 0., 0.],\n",
       "       [0., 0., 1., 0.],\n",
       "       [0., 0., 0., 1.]])"
      ]
     },
     "execution_count": 7,
     "metadata": {},
     "output_type": "execute_result"
    }
   ],
   "source": [
    "# returns 2 d array with diagonal with 1  , eye function provides more  editable tool than identity\n",
    "c=np.identity(4)\n",
    "c"
   ]
  },
  {
   "cell_type": "code",
   "execution_count": 8,
   "id": "205e777a",
   "metadata": {},
   "outputs": [
    {
     "data": {
      "text/plain": [
       "array([[1, 2, 3],\n",
       "       [2, 3, 4]])"
      ]
     },
     "execution_count": 8,
     "metadata": {},
     "output_type": "execute_result"
    }
   ],
   "source": [
    "a=[[1,2,3],[2,3,4]]\n",
    "c=np.asarray(a)\n",
    "c"
   ]
  },
  {
   "cell_type": "code",
   "execution_count": 395,
   "id": "2750e24e",
   "metadata": {},
   "outputs": [
    {
     "data": {
      "text/plain": [
       "array([[1, 2, 3],\n",
       "       [2, 3, 4]])"
      ]
     },
     "execution_count": 395,
     "metadata": {},
     "output_type": "execute_result"
    }
   ],
   "source": [
    "a=[[1,2,3],[2,3,4]]\n",
    "c=np.asanyarray(a)\n",
    "c"
   ]
  },
  {
   "cell_type": "code",
   "execution_count": 401,
   "id": "3968cdcf",
   "metadata": {},
   "outputs": [
    {
     "name": "stdout",
     "output_type": "stream",
     "text": [
      "<class 'numpy.ndarray'>\n",
      "<class 'numpy.ndarray'>\n",
      "-------------------------------------\n",
      "<class 'numpy.ndarray'>\n",
      "<class '__main__.Myarray'>\n"
     ]
    }
   ],
   "source": [
    "import numpy as np\n",
    "\n",
    "class Myarray(np.ndarray):\n",
    "    pass\n",
    "\n",
    "arr=np.array([1,2,3,4])\n",
    "my_arr=Myarray([1,2,3,4])\n",
    "\n",
    "arr_asarray=np.asarray(arr)\n",
    "my_arr_asarray=np.asarray(my_arr)\n",
    "\n",
    "arr_asanyarray=np.asanyarray(arr)\n",
    "my_arr_asanyarray=np.asanyarray(my_arr)\n",
    "\n",
    "print(type(arr_asarray))\n",
    "print(type(my_arr_asarray))\n",
    "\n",
    "print(\"-------------------------------------\")\n",
    "\n",
    "print(type(arr_asanyarray))\n",
    "print(type(my_arr_asanyarray))\n"
   ]
  },
  {
   "cell_type": "code",
   "execution_count": 420,
   "id": "8fe309c8",
   "metadata": {},
   "outputs": [
    {
     "data": {
      "text/plain": [
       "[<matplotlib.lines.Line2D at 0x1e9f3e17590>]"
      ]
     },
     "execution_count": 420,
     "metadata": {},
     "output_type": "execute_result"
    },
    {
     "data": {
      "image/png": "[encoded data removed]",
      "text/plain": [
       "<Figure size 640x480 with 1 Axes>"
      ]
     },
     "metadata": {},
     "output_type": "display_data"
    }
   ],
   "source": [
    "import matplotlib.pyplot as plt\n",
    "\n",
    "x=np.linspace(0,5,6,dtype='int')\n",
    "y=np.ones(6,dtype='int')\n",
    "\n",
    "plt.plot(x,y,'cp')"
   ]
  },
  {
   "cell_type": "code",
   "execution_count": 441,
   "id": "0478c661",
   "metadata": {},
   "outputs": [
    {
     "data": {
      "text/plain": [
       "array(['a', 'h', 'h'], dtype='<U2')"
      ]
     },
     "execution_count": 441,
     "metadata": {},
     "output_type": "execute_result"
    }
   ],
   "source": [
    "c=np.arange(2,10,2)\n",
    "c=np.linspace(0,100,6)\n",
    "a=\"ahhagshghs\"\n",
    "c=np.fromiter(a,dtype='U2',count=3)\n",
    "c"
   ]
  },
  {
   "cell_type": "code",
   "execution_count": 443,
   "id": "c87165ac",
   "metadata": {},
   "outputs": [
    {
     "data": {
      "text/plain": [
       "array([[0.33049416, 0.00934003, 0.06464374, 0.93101245, 0.63159124,\n",
       "        0.60231764, 0.28956129, 0.8644861 , 0.91943234],\n",
       "       [0.48334443, 0.15524406, 0.26077559, 0.89327907, 0.58246254,\n",
       "        0.27843142, 0.68105756, 0.99136115, 0.13831424]])"
      ]
     },
     "execution_count": 443,
     "metadata": {},
     "output_type": "execute_result"
    }
   ],
   "source": [
    "c=np.random.rand(2,9) # value will be in range of 0 and 1\n",
    "c"
   ]
  },
  {
   "cell_type": "code",
   "execution_count": 444,
   "id": "b13e15b3",
   "metadata": {},
   "outputs": [
    {
     "data": {
      "text/plain": [
       "array([[-0.38621989, -1.35299336,  0.52452252, -0.18823739],\n",
       "       [-0.3094056 , -0.85946337,  0.48454533,  0.87317497]])"
      ]
     },
     "execution_count": 444,
     "metadata": {},
     "output_type": "execute_result"
    }
   ],
   "source": [
    "c=np.random.randn(2,4)\n",
    "c"
   ]
  },
  {
   "cell_type": "code",
   "execution_count": 12,
   "id": "640c580e",
   "metadata": {},
   "outputs": [
    {
     "data": {
      "text/plain": [
       "array([[ 1.79426422, -0.70517965,  2.24540984,  3.87837879],\n",
       "       [ 0.55276368,  5.60695231,  0.9138    ,  2.10371758]])"
      ]
     },
     "execution_count": 12,
     "metadata": {},
     "output_type": "execute_result"
    }
   ],
   "source": [
    "c=np.random.randn() # a normal distrubtion with mean 0 and sd 1\n",
    "\n",
    "c=3+2.5*np.random.randn(2,4)  # here 3 is mean and 2.5 is sd\n",
    "\n",
    "c"
   ]
  },
  {
   "cell_type": "code",
   "execution_count": 478,
   "id": "2510514d",
   "metadata": {},
   "outputs": [
    {
     "data": {
      "text/plain": [
       "(99, 1, 98, 0)"
      ]
     },
     "execution_count": 478,
     "metadata": {},
     "output_type": "execute_result"
    }
   ],
   "source": [
    "c=np.arange(1,100)\n",
    "c.max(),c.min(),c.argmax(),c.argmin()\n"
   ]
  },
  {
   "cell_type": "markdown",
   "id": "934039d8",
   "metadata": {},
   "source": [
    "### Meshgrid"
   ]
  },
  {
   "cell_type": "code",
   "execution_count": 487,
   "id": "9c45f83e",
   "metadata": {},
   "outputs": [
    {
     "data": {
      "text/plain": [
       "(array([[1, 2, 3, 4, 5, 6],\n",
       "        [1, 2, 3, 4, 5, 6],\n",
       "        [1, 2, 3, 4, 5, 6],\n",
       "        [1, 2, 3, 4, 5, 6],\n",
       "        [1, 2, 3, 4, 5, 6]]),\n",
       " array([[10, 10, 10, 10, 10, 10],\n",
       "        [20, 20, 20, 20, 20, 20],\n",
       "        [30, 30, 30, 30, 30, 30],\n",
       "        [40, 40, 40, 40, 40, 40],\n",
       "        [50, 50, 50, 50, 50, 50]]))"
      ]
     },
     "execution_count": 487,
     "metadata": {},
     "output_type": "execute_result"
    }
   ],
   "source": [
    "array_a = [1,2,3,4,5,6]\n",
    "array_b = [10,20,30,40,50]\n",
    " \n",
    "XX,YY = np.meshgrid(array_a, array_b)\n",
    "XX,YY"
   ]
  },
  {
   "cell_type": "code",
   "execution_count": 488,
   "id": "97f579e5",
   "metadata": {},
   "outputs": [
    {
     "data": {
      "image/png": "[encoded data removed]",
      "text/plain": [
       "<Figure size 640x480 with 1 Axes>"
      ]
     },
     "metadata": {},
     "output_type": "display_data"
    }
   ],
   "source": [
    "plt.plot(XX, YY, marker=\".\", color='k', linestyle='none')\n",
    " \n",
    "plt.xticks(array_a)\n",
    "plt.yticks(array_b)\n",
    " \n",
    "plt.show()"
   ]
  },
  {
   "cell_type": "code",
   "execution_count": 13,
   "id": "5338f2fd",
   "metadata": {},
   "outputs": [
    {
     "data": {
      "text/plain": [
       "array([[[0, 0, 0, 0, 0],\n",
       "        [1, 1, 1, 1, 1],\n",
       "        [2, 2, 2, 2, 2],\n",
       "        [3, 3, 3, 3, 3],\n",
       "        [4, 4, 4, 4, 4],\n",
       "        [5, 5, 5, 5, 5]],\n",
       "\n",
       "       [[0, 1, 2, 3, 4],\n",
       "        [0, 1, 2, 3, 4],\n",
       "        [0, 1, 2, 3, 4],\n",
       "        [0, 1, 2, 3, 4],\n",
       "        [0, 1, 2, 3, 4],\n",
       "        [0, 1, 2, 3, 4]]])"
      ]
     },
     "execution_count": 13,
     "metadata": {},
     "output_type": "execute_result"
    }
   ],
   "source": [
    "np.mgrid[0:6,0:5]"
   ]
  },
  {
   "cell_type": "code",
   "execution_count": 17,
   "id": "0d444cb5",
   "metadata": {},
   "outputs": [
    {
     "data": {
      "text/plain": [
       "array([[1., 0., 0., 0., 0.],\n",
       "       [1., 1., 0., 0., 0.],\n",
       "       [1., 1., 1., 0., 0.],\n",
       "       [1., 1., 1., 1., 0.],\n",
       "       [1., 1., 1., 1., 1.]])"
      ]
     },
     "execution_count": 17,
     "metadata": {},
     "output_type": "execute_result"
    }
   ],
   "source": [
    "np.tri(5,k=0)"
   ]
  },
  {
   "cell_type": "code",
   "execution_count": 20,
   "id": "14e9bf60",
   "metadata": {},
   "outputs": [
    {
     "data": {
      "text/plain": [
       "array([[ 1,  0,  0],\n",
       "       [ 5,  6,  0],\n",
       "       [ 8,  9, 10]])"
      ]
     },
     "execution_count": 20,
     "metadata": {},
     "output_type": "execute_result"
    }
   ],
   "source": [
    "a=[(1,2,3),(5,6,7),(8,9,10)]\n",
    "np.tril(a ,k=0)"
   ]
  },
  {
   "cell_type": "code",
   "execution_count": 514,
   "id": "090e0967",
   "metadata": {},
   "outputs": [
    {
     "data": {
      "text/plain": [
       "array([[ 1,  2,  3],\n",
       "       [ 0,  6,  7],\n",
       "       [ 0,  0, 10]])"
      ]
     },
     "execution_count": 514,
     "metadata": {},
     "output_type": "execute_result"
    }
   ],
   "source": [
    "np.triu(a)"
   ]
  },
  {
   "cell_type": "code",
   "execution_count": 29,
   "id": "fb34edca",
   "metadata": {},
   "outputs": [
    {
     "name": "stdout",
     "output_type": "stream",
     "text": [
      "[ 1  2  3  4  5 12] 2307015497584\n",
      "[ 1  2  3  4  5 12] 2307015497584\n"
     ]
    }
   ],
   "source": [
    "# copy and view of an array \n",
    "\n",
    "# assiging\n",
    "arr=np.array([1,2,3,4,5,6])\n",
    "\n",
    "nc=arr\n",
    "nc[5]=12\n",
    "print(arr,id(arr))\n",
    "print(nc,id(arr))"
   ]
  },
  {
   "cell_type": "code",
   "execution_count": 54,
   "id": "0bfb38a6",
   "metadata": {},
   "outputs": [
    {
     "name": "stdout",
     "output_type": "stream",
     "text": [
      "[12  2  3  4  5  6] 2307026936880\n",
      "[12  2  3  4  5  6] 2307026937360\n"
     ]
    }
   ],
   "source": [
    "# view\n",
    "arr=np.array([1,2,3,4,5,6])\n",
    "v=arr.view()\n",
    "\n",
    "v[0]=12\n",
    "\n",
    "print(arr,id(arr))\n",
    "print(v,id(v))\n",
    "\n"
   ]
  },
  {
   "cell_type": "code",
   "execution_count": 56,
   "id": "4a2ca1ec",
   "metadata": {},
   "outputs": [
    {
     "name": "stdout",
     "output_type": "stream",
     "text": [
      "[12  4  6  8 10] 2307015503344\n",
      "[ 2  4  6  8 10] 2307042841136\n"
     ]
    }
   ],
   "source": [
    "arr = np.array([2, 4, 6, 8, 10]) \n",
    "c=arr.copy()\n",
    "\n",
    "arr[0]=12\n",
    "print(arr,id(arr))\n",
    "print(c,id(c))"
   ]
  },
  {
   "cell_type": "code",
   "execution_count": 60,
   "id": "3750f777",
   "metadata": {},
   "outputs": [
    {
     "name": "stdout",
     "output_type": "stream",
     "text": [
      "None\n",
      "[1 2 3 4 5 6]\n"
     ]
    }
   ],
   "source": [
    "# Array Owning it’s Data:\n",
    "# To check whether array own it’s data in view and copy we can use the fact that every NumPy array has the attribute \n",
    "# base that returns None if the array owns the data. Else, the base attribute refers to the original object.\n",
    "\n",
    "arr=np.array([1,2,3,4,5,6])\n",
    "\n",
    "c=arr.copy()\n",
    "v=arr.view()\n",
    "\n",
    "print(c.base)   \n",
    "print(v.base)"
   ]
  },
  {
   "cell_type": "code",
   "execution_count": 65,
   "id": "8ad0feee",
   "metadata": {},
   "outputs": [
    {
     "name": "stdout",
     "output_type": "stream",
     "text": [
      "original array:  [ 1.54  2.99  3.42  4.87  6.94  8.21  7.65 10.5  77.5 ], 2307042844592\n",
      "copied array:  [ 1.54  2.99  3.42  4.87  6.94  8.21  7.65 10.5  77.5 ],2307056805488\n"
     ]
    }
   ],
   "source": [
    "# copy one array to another array\n",
    "\n",
    "org_array = np.array([1.54, 2.99, 3.42, 4.87, 6.94,\n",
    "                      8.21, 7.65, 10.50, 77.5])\n",
    "copy_array= np.copy(org_array)\n",
    "\n",
    "print(f'original array:  {org_array}, {id(org_array)}')\n",
    "print(f'copied array:  {copy_array},{id(copy_array)}')"
   ]
  },
  {
   "cell_type": "markdown",
   "id": "11f1ddf1",
   "metadata": {},
   "source": [
    "### Appending Values at the End of an NumPy Array"
   ]
  },
  {
   "cell_type": "markdown",
   "id": "a9b8b044",
   "metadata": {},
   "source": [
    "#### Appending a Single Value to a 1D Array"
   ]
  },
  {
   "cell_type": "code",
   "execution_count": 67,
   "id": "9cdd4f7d",
   "metadata": {},
   "outputs": [
    {
     "name": "stdout",
     "output_type": "stream",
     "text": [
      "original array [1 2 3 4 5 6]\n",
      "arra apended with new value [1 2 3 4 5 6 7]\n"
     ]
    }
   ],
   "source": [
    "arr=np.array([1,2,3,4,5,6])\n",
    "print(f'original array {arr}')\n",
    "\n",
    "arr=np.append(arr,7)\n",
    "print(f'array apended with new value {arr}')"
   ]
  },
  {
   "cell_type": "markdown",
   "id": "ca392b32",
   "metadata": {},
   "source": [
    "#### Appending Another Array at the End of a 1D Array"
   ]
  },
  {
   "cell_type": "code",
   "execution_count": 69,
   "id": "41c0a87f",
   "metadata": {},
   "outputs": [
    {
     "name": "stdout",
     "output_type": "stream",
     "text": [
      "original array [1 2 3 4 5 6]\n",
      "new array [1 2 3 4 5 6 7 8 9]\n"
     ]
    }
   ],
   "source": [
    "arr=np.array([1,2,3,4,5,6])\n",
    "print(f'original array {arr}')\n",
    "\n",
    "arr=np.append(arr, [7,8,9])\n",
    "print(f'new array {arr}')"
   ]
  },
  {
   "cell_type": "markdown",
   "id": "372baea8",
   "metadata": {},
   "source": [
    "#### Appending Values at the End Using Concatenation"
   ]
  },
  {
   "cell_type": "code",
   "execution_count": 305,
   "id": "cd7ba002",
   "metadata": {},
   "outputs": [
    {
     "name": "stdout",
     "output_type": "stream",
     "text": [
      "[[1 2 5 6]\n",
      " [3 4 7 8]]\n"
     ]
    }
   ],
   "source": [
    "arr1 = np.array([[1, 2], [3, 4]])\n",
    "arr2 = np.array([[5, 6],[7,8]])\n",
    "\n",
    "combined = np.concatenate((arr1, arr2), axis=1)\n",
    "print(combined)"
   ]
  },
  {
   "cell_type": "markdown",
   "id": "1063abb9",
   "metadata": {},
   "source": [
    "#### Appending with a Different Array Type"
   ]
  },
  {
   "cell_type": "code",
   "execution_count": 306,
   "id": "174e340a",
   "metadata": {},
   "outputs": [
    {
     "name": "stdout",
     "output_type": "stream",
     "text": [
      "[1. 2. 3. 4. 5.]\n"
     ]
    }
   ],
   "source": [
    "arr = np.array([1, 2, 3])\n",
    "arr_float = np.array([4.0, 5.0])\n",
    "\n",
    "combined=np.append(arr,arr_float)\n",
    "print(combined)"
   ]
  },
  {
   "cell_type": "code",
   "execution_count": 307,
   "id": "3632cca4",
   "metadata": {},
   "outputs": [
    {
     "name": "stdout",
     "output_type": "stream",
     "text": [
      "[1. 2. 3. 7. 8. 9. 4. 5. 4.]\n",
      "[[1. 2. 3.]\n",
      " [7. 8. 9.]\n",
      " [4. 5. 4.]]\n"
     ]
    }
   ],
   "source": [
    "arr = np.array([[1, 2, 3],[7, 8, 9]])\n",
    "\n",
    "arr_float = np.array([[4., 5, 4]])\n",
    "\n",
    "combined=np.append(arr,arr_float)\n",
    "print(combined)\n",
    "combined1 = np.concatenate((arr, arr_float), axis=0)\n",
    "print(combined1)"
   ]
  },
  {
   "cell_type": "markdown",
   "id": "f82f9826",
   "metadata": {},
   "source": [
    "#### Appending Using List Comprehension and numpy.concatenate"
   ]
  },
  {
   "cell_type": "code",
   "execution_count": 308,
   "id": "5f5ccf4d",
   "metadata": {},
   "outputs": [
    {
     "name": "stdout",
     "output_type": "stream",
     "text": [
      "[1 2 3 4 5 6 7 8 9]\n"
     ]
    }
   ],
   "source": [
    "arr=np.array([1,2,3,4,5])\n",
    "values_to_append=[np.array([6,7]),np.array([8,9])]\n",
    "res=np.concatenate([arr]+values_to_append)\n",
    "print(res)"
   ]
  },
  {
   "cell_type": "markdown",
   "id": "ca47ab28",
   "metadata": {},
   "source": [
    "#### Appending Values at the End of the N-Dimensional Array"
   ]
  },
  {
   "cell_type": "code",
   "execution_count": 301,
   "id": "33b77ce9",
   "metadata": {},
   "outputs": [
    {
     "name": "stdout",
     "output_type": "stream",
     "text": [
      "[[0 1 2 3 4]\n",
      " [5 6 7 8 9]\n",
      " [5 6 7 8 9]]\n",
      "[[0 1 2 3 4 1 2]\n",
      " [5 6 7 8 9 3 4]\n",
      " [5 6 7 8 9 5 6]]\n"
     ]
    }
   ],
   "source": [
    "arr=np.arange(0,10).reshape(2,5)\n",
    "arr1=np.arange(5,10).reshape(1,5)\n",
    "\n",
    "res=np.append(arr,arr1,axis=0)\n",
    "print(res)\n",
    "arr2=np.arange(1,7).reshape(3,2)\n",
    "final_res=np.append(res,arr2,axis=1)\n",
    "print(final_res)"
   ]
  },
  {
   "cell_type": "code",
   "execution_count": 105,
   "id": "7457a967",
   "metadata": {},
   "outputs": [
    {
     "name": "stdout",
     "output_type": "stream",
     "text": [
      "[[ 0  1  2]\n",
      " [ 3  4  5]\n",
      " [ 6  7  8]\n",
      " [ 9 10 11]]\n",
      "[[ 2  1  0]\n",
      " [ 5  4  3]\n",
      " [ 8  7  6]\n",
      " [11 10  9]]\n"
     ]
    }
   ],
   "source": [
    "arr=np.arange(12).reshape(4,3)\n",
    "print(arr)\n",
    "arr[:,[0,2]]=arr[:,[2,0]] # swapped along the column\n",
    "print(arr)"
   ]
  },
  {
   "cell_type": "code",
   "execution_count": 106,
   "id": "4d2b61cd",
   "metadata": {},
   "outputs": [
    {
     "name": "stdout",
     "output_type": "stream",
     "text": [
      "[[ 8  7  6]\n",
      " [ 5  4  3]\n",
      " [ 2  1  0]\n",
      " [11 10  9]]\n"
     ]
    }
   ],
   "source": [
    "arr[[0,2]]=arr[[2,0]]  # swapped along the row \n",
    "print(arr)"
   ]
  },
  {
   "cell_type": "code",
   "execution_count": 111,
   "id": "28ebab71",
   "metadata": {},
   "outputs": [
    {
     "data": {
      "text/plain": [
       "array([[ 1,  0,  2],\n",
       "       [ 4,  3,  5],\n",
       "       [ 7,  6,  8],\n",
       "       [10,  9, 11]])"
      ]
     },
     "execution_count": 111,
     "metadata": {},
     "output_type": "execute_result"
    }
   ],
   "source": [
    "def Swap(arr,fi,se):\n",
    "    arr[:,[fi,se]]=arr[:,[se,fi]]\n",
    "    return arr\n",
    "arr=np.arange(12).reshape(4,3)\n",
    "Swap(arr,0,1)"
   ]
  },
  {
   "cell_type": "markdown",
   "id": "b6214dc6",
   "metadata": {},
   "source": [
    "#### Add a New Axis to a Numpy Array\n",
    "There are various ways to add a new axis to a NumPy array, here we are discussing some generally used methods for adding a new axis to a numpy array those are following.\n",
    "\n",
    "*  Using numpy.newaxis()\n",
    "*  Using numpy.expand_dims()\n",
    "*  Simultaneously insert many axes in the array\n",
    "*  Using numpy.reshape() a Single Axis"
   ]
  },
  {
   "cell_type": "code",
   "execution_count": 149,
   "id": "35bc03e6",
   "metadata": {},
   "outputs": [
    {
     "name": "stdout",
     "output_type": "stream",
     "text": [
      "[[ 0  1  2  3  4]\n",
      " [ 5  6  7  8  9]\n",
      " [10 11 12 13 14]\n",
      " [15 16 17 18 19]\n",
      " [20 21 22 23 24]] (5, 5) 2\n"
     ]
    },
    {
     "data": {
      "text/plain": [
       "(array([[[[[ 0]],\n",
       " \n",
       "          [[ 1]],\n",
       " \n",
       "          [[ 2]],\n",
       " \n",
       "          [[ 3]],\n",
       " \n",
       "          [[ 4]]],\n",
       " \n",
       " \n",
       "         [[[ 5]],\n",
       " \n",
       "          [[ 6]],\n",
       " \n",
       "          [[ 7]],\n",
       " \n",
       "          [[ 8]],\n",
       " \n",
       "          [[ 9]]],\n",
       " \n",
       " \n",
       "         [[[10]],\n",
       " \n",
       "          [[11]],\n",
       " \n",
       "          [[12]],\n",
       " \n",
       "          [[13]],\n",
       " \n",
       "          [[14]]],\n",
       " \n",
       " \n",
       "         [[[15]],\n",
       " \n",
       "          [[16]],\n",
       " \n",
       "          [[17]],\n",
       " \n",
       "          [[18]],\n",
       " \n",
       "          [[19]]],\n",
       " \n",
       " \n",
       "         [[[20]],\n",
       " \n",
       "          [[21]],\n",
       " \n",
       "          [[22]],\n",
       " \n",
       "          [[23]],\n",
       " \n",
       "          [[24]]]]]),\n",
       " 5,\n",
       " (1, 5, 5, 1, 1))"
      ]
     },
     "execution_count": 149,
     "metadata": {},
     "output_type": "execute_result"
    }
   ],
   "source": [
    "# using numpy.newaxis\n",
    "\n",
    "arr=np.arange(5*5).reshape(5,5)\n",
    "print(arr,arr.shape,arr.ndim)\n",
    "arr_5D = arr[np.newaxis,...,np.newaxis,np.newaxis]\n",
    "arr_5D,arr_5D.ndim,arr_5D.shape"
   ]
  },
  {
   "cell_type": "markdown",
   "id": "97911414",
   "metadata": {},
   "source": [
    "#### Using numpy.expand_dims()"
   ]
  },
  {
   "cell_type": "code",
   "execution_count": 309,
   "id": "6dfc8cd7",
   "metadata": {},
   "outputs": [
    {
     "name": "stdout",
     "output_type": "stream",
     "text": [
      "[[0 1 2]\n",
      " [3 4 5]] (2, 3) 2\n",
      "[[[0 1 2]\n",
      "  [3 4 5]]] (1, 2, 3) 3\n"
     ]
    }
   ],
   "source": [
    "res=np.arange(6).reshape(2,3)\n",
    "print(res,res.shape,res.ndim)\n",
    "modi=np.expand_dims(res,axis=0)\n",
    "print(modi,modi.shape,modi.ndim)\n"
   ]
  },
  {
   "cell_type": "markdown",
   "id": "0ddfdd8b",
   "metadata": {},
   "source": [
    "<!-- Simultaneously insert many axes in the array -->"
   ]
  },
  {
   "cell_type": "markdown",
   "id": "116271db",
   "metadata": {},
   "source": [
    "#### Simultaneously insert many axes in the array"
   ]
  },
  {
   "cell_type": "code",
   "execution_count": 168,
   "id": "77a83330",
   "metadata": {},
   "outputs": [
    {
     "name": "stdout",
     "output_type": "stream",
     "text": [
      "(5, 5)\n",
      "(1, 5, 5, 1, 1)\n"
     ]
    }
   ],
   "source": [
    "arr = np.arange(5*5).reshape(5,5)\n",
    "print(arr.shape)\n",
    "\n",
    "newaxes = (0, 3, -1)\n",
    "arr_5D = np.expand_dims(arr, axis=newaxes)\n",
    "print(arr_5D.shape)\n"
   ]
  },
  {
   "cell_type": "markdown",
   "id": "c391c53b",
   "metadata": {},
   "source": [
    "#### Using numpy.reshape() for a Single Axis"
   ]
  },
  {
   "cell_type": "code",
   "execution_count": 172,
   "id": "7f1c379f",
   "metadata": {},
   "outputs": [
    {
     "name": "stdout",
     "output_type": "stream",
     "text": [
      "(6,) 1\n",
      "(2, 3) 2\n"
     ]
    }
   ],
   "source": [
    "arr=np.array([0,1,2,3,4,5])\n",
    "print(arr.shape,arr.ndim)\n",
    "res=arr.reshape(2,3)\n",
    "print(res.shape,res.ndim)"
   ]
  },
  {
   "cell_type": "markdown",
   "id": "6687e69d",
   "metadata": {},
   "source": [
    "#### numpy.hstack() function is used to stack the sequence of input arrays horizontally (i.e. column wise) to make a single array."
   ]
  },
  {
   "cell_type": "code",
   "execution_count": 315,
   "id": "c134fb4d",
   "metadata": {},
   "outputs": [
    {
     "name": "stdout",
     "output_type": "stream",
     "text": [
      "[[ 1  2  3  4  5]\n",
      " [11 12 13 14 15]] [[ 6  7  8  9 10]\n",
      " [16 17 18 19 20]]\n",
      "[[ 1  2  3  4  5  6  7  8  9 10]\n",
      " [11 12 13 14 15 16 17 18 19 20]]\n",
      "[[ 1  2  3  4  5  6  7  8  9 10]\n",
      " [11 12 13 14 15 16 17 18 19 20]]\n",
      "[[ 1  2  3  4  5  6  7  8  9 10]\n",
      " [11 12 13 14 15 16 17 18 19 20]]\n",
      "[[[ 1  2  3  4  5]\n",
      "  [ 6  7  8  9 10]]\n",
      "\n",
      " [[11 12 13 14 15]\n",
      "  [16 17 18 19 20]]] 3\n"
     ]
    }
   ],
   "source": [
    "arr1=np.array([[1,2,3,4,5],[11,12,13,14,15]])\n",
    "arr2=np.array([[6,7,8,9,10],[16,17,18,19,20]]) #hstack wil be same when u concate with axis=1/append axis=1\n",
    "\n",
    "print(arr1,arr2)\n",
    "\n",
    "res=np.hstack((arr1,arr2))\n",
    "print(res)\n",
    "res1=np.concatenate((arr1,arr2),axis=1)\n",
    "print(res1)\n",
    "res2=np.append(arr1,arr2,axis=1)\n",
    "print(res2)\n",
    "res3=np.stack((arr1,arr2),axis=1)    # output will be same as that of hstack/concat axis=1 but stack adds new dim measn 2d to 3d\n",
    "print(res3,res3.ndim)"
   ]
  },
  {
   "cell_type": "markdown",
   "id": "1c916ee5",
   "metadata": {},
   "source": [
    "#### numpy.vstack() function is used to stack the sequence of input arrays vertically to make a single array."
   ]
  },
  {
   "cell_type": "code",
   "execution_count": 313,
   "id": "a46093e1",
   "metadata": {},
   "outputs": [
    {
     "name": "stdout",
     "output_type": "stream",
     "text": [
      "[[ 1  2  3  4  5]\n",
      " [11 12 13 14 15]] \n",
      " [[ 6  7  8  9 10]\n",
      " [16 17 18 19 20]]\n",
      "[[ 1  2  3  4  5]\n",
      " [11 12 13 14 15]\n",
      " [ 6  7  8  9 10]\n",
      " [16 17 18 19 20]]\n",
      "[[ 1  2  3  4  5]\n",
      " [11 12 13 14 15]\n",
      " [ 6  7  8  9 10]\n",
      " [16 17 18 19 20]]\n",
      "[[ 1  2  3  4  5]\n",
      " [11 12 13 14 15]\n",
      " [ 6  7  8  9 10]\n",
      " [16 17 18 19 20]]\n",
      "[[[ 1  2  3  4  5]\n",
      "  [11 12 13 14 15]]\n",
      "\n",
      " [[ 6  7  8  9 10]\n",
      "  [16 17 18 19 20]]]\n"
     ]
    }
   ],
   "source": [
    "arr1=np.array([[1,2,3,4,5],[11,12,13,14,15]])\n",
    "arr2=np.array([[6,7,8,9,10],[16,17,18,19,20]]) # vstack will be same when you concatenate axis=0/append axis=0\n",
    "\n",
    "print(arr1,'\\n',arr2)\n",
    "\n",
    "res=np.vstack((arr1,arr2))\n",
    "print(res)\n",
    "res1=np.concatenate((arr1,arr2),axis=0)\n",
    "print(res1)\n",
    "res2=np.append(arr1,arr2,axis=0)\n",
    "print(res2)\n",
    "res3=np.stack((arr1,arr2),axis=0)   # output will be same as that of vstack/concat axis=0 but stack adds new dim measn 2d to 3d\n",
    "print(res3)"
   ]
  },
  {
   "cell_type": "markdown",
   "id": "3e5fa8a7",
   "metadata": {},
   "source": [
    "### Joining NumPy Array\n",
    "\n",
    "* numpy.concatenate\n",
    "* numpy.stack\n",
    "* numpy.block"
   ]
  },
  {
   "cell_type": "code",
   "execution_count": 193,
   "id": "a9cba1f5",
   "metadata": {},
   "outputs": [
    {
     "name": "stdout",
     "output_type": "stream",
     "text": [
      "[[ 1  2  3  4  5  6  7  8  9 10]\n",
      " [11 12 13 14 15 16 17 18 19 20]]\n"
     ]
    }
   ],
   "source": [
    "# numpy.concatenate\n",
    "# array_1 = np.array([1, 2]) \n",
    "# array_2 = np.array([3, 4]) \n",
    "\n",
    "arr1=np.array([[1,2,3,4,5],[11,12,13,14,15]])\n",
    "arr2=np.array([[6,7,8,9,10],[16,17,18,19,20]])\n",
    "\n",
    "\n",
    "# array_new = np.concatenate((array_1,array_2),)\n",
    "array_new=np.concatenate((arr1,arr2),axis=1)\n",
    "print(array_new) \n",
    "# no need to remember the hstack and vstack w can perform the same using concatenate operations"
   ]
  },
  {
   "cell_type": "code",
   "execution_count": 198,
   "id": "48842c0a",
   "metadata": {},
   "outputs": [
    {
     "name": "stdout",
     "output_type": "stream",
     "text": [
      "[[1 5]\n",
      " [2 6]\n",
      " [3 7]\n",
      " [4 8]]\n"
     ]
    }
   ],
   "source": [
    "# numpy.stack\n",
    "array_1 = np.array([1, 2, 3, 4]) \n",
    "array_2 = np.array([5, 6, 7, 8]) \n",
    "\n",
    "array_new = np.stack((array_1, array_2), axis=1) \n",
    "print(array_new) \n",
    "\n"
   ]
  },
  {
   "cell_type": "code",
   "execution_count": 317,
   "id": "b8484755",
   "metadata": {},
   "outputs": [
    {
     "data": {
      "text/plain": [
       "(2,\n",
       " array([[1, 1, 2, 2, 2, 2, 2],\n",
       "        [1, 1, 2, 2, 2, 2, 2],\n",
       "        [3, 3, 4, 4, 4, 4, 4],\n",
       "        [3, 3, 4, 4, 4, 4, 4],\n",
       "        [3, 3, 4, 4, 4, 4, 4]]))"
      ]
     },
     "execution_count": 317,
     "metadata": {},
     "output_type": "execute_result"
    }
   ],
   "source": [
    "#  numpy.block()\n",
    "\n",
    "arr1=np.array([[1,1],\n",
    "               [1,1]])\n",
    "arr2=np.array([[2,2,2,2,2],\n",
    "               [2,2,2,2,2]])\n",
    "arr3=np.array([[3,3],\n",
    "               [3,3],\n",
    "               [3,3]])\n",
    "arr4=np.array([[4,4,4,4,4],\n",
    "               [4,4,4,4,4],\n",
    "               [4,4,4,4,4]])\n",
    "\n",
    "final=np.block([\n",
    "    [arr1,arr2],\n",
    "    [arr3,arr4]\n",
    "])\n",
    "final.ndim,final"
   ]
  },
  {
   "cell_type": "markdown",
   "id": "a6a830ad",
   "metadata": {},
   "source": [
    "#### Combining a one and a two-dimensional NumPy Array"
   ]
  },
  {
   "cell_type": "code",
   "execution_count": 232,
   "id": "9393c49b",
   "metadata": {},
   "outputs": [
    {
     "name": "stdout",
     "output_type": "stream",
     "text": [
      "[[[ 5  6  7  8  9]]\n",
      "\n",
      " [[10 11 12 13 14]]]\n",
      "0:5:5\n",
      "1:6:6\n",
      "2:7:7\n",
      "3:8:8\n",
      "4:9:9\n",
      "0:10:5\n",
      "1:11:6\n",
      "2:12:7\n",
      "3:13:8\n",
      "4:14:9\n",
      "0:5:10\n",
      "1:6:11\n",
      "2:7:12\n",
      "3:8:13\n",
      "4:9:14\n",
      "0:10:10\n",
      "1:11:11\n",
      "2:12:12\n",
      "3:13:13\n",
      "4:14:14\n"
     ]
    }
   ],
   "source": [
    "# 1-d\n",
    "num_1d = np.arange(5) \n",
    "# 2-d\n",
    "num_2d = np.arange(5,15).reshape(2,5) \n",
    "# 3-d\n",
    "num_3d=np.expand_dims(num_2d,axis=1)\n",
    "print(num_3d)\n",
    "\n",
    "# iter_obj=np.nditer((num_1d,num_2d),flags=['multi_index'], op_flags=['readwrite'])\n",
    "\n",
    "for a,b,c in np.nditer((num_1d,num_2d,num_3d)) :\n",
    "    print(f'{a}:{b}:{c}')"
   ]
  },
  {
   "cell_type": "code",
   "execution_count": 247,
   "id": "1d08fdfe",
   "metadata": {},
   "outputs": [
    {
     "name": "stdout",
     "output_type": "stream",
     "text": [
      "1 (0, 0)\n",
      "2 (0, 1)\n",
      "3 (0, 2)\n",
      "4 (1, 0)\n",
      "5 (1, 1)\n",
      "6 (1, 2)\n"
     ]
    }
   ],
   "source": [
    "arr = np.array([[1, 2, 3], [4, 5, 6]])\n",
    "\n",
    "\n",
    "iter_obj = np.nditer(arr, flags=['multi_index'], op_flags=['readwrite'])\n",
    "\n",
    "for x in iter_obj:\n",
    "    print(x, iter_obj.multi_index)"
   ]
  },
  {
   "cell_type": "markdown",
   "id": "9570d6b5",
   "metadata": {},
   "source": [
    "#### Numpy np.ma.concatenate() method"
   ]
  },
  {
   "cell_type": "code",
   "execution_count": 253,
   "id": "d4d43e84",
   "metadata": {},
   "outputs": [
    {
     "name": "stdout",
     "output_type": "stream",
     "text": [
      "[[1 2 3 4]\n",
      " [5 6 7 8]]\n"
     ]
    }
   ],
   "source": [
    "import numpy.ma as ma\n",
    "\n",
    "arr1=np.array([1,2,3,4])\n",
    "arr2=np.array([5,6,7,8])\n",
    "\n",
    "res=ma.concatenate([[arr1],[arr2]])\n",
    "print(res)"
   ]
  },
  {
   "cell_type": "markdown",
   "id": "16f769d3",
   "metadata": {},
   "source": [
    "#### Numpy dstack() method"
   ]
  },
  {
   "cell_type": "code",
   "execution_count": 254,
   "id": "2153372b",
   "metadata": {},
   "outputs": [
    {
     "data": {
      "text/plain": [
       "array([[[1, 5],\n",
       "        [2, 6],\n",
       "        [3, 7],\n",
       "        [4, 8]]])"
      ]
     },
     "execution_count": 254,
     "metadata": {},
     "output_type": "execute_result"
    }
   ],
   "source": [
    "arr1=np.array([1,2,3,4])\n",
    "arr2=np.array([5,6,7,8])\n",
    "res=np.dstack((arr1,arr2))\n",
    "res"
   ]
  },
  {
   "cell_type": "code",
   "execution_count": 262,
   "id": "6a735476",
   "metadata": {},
   "outputs": [
    {
     "data": {
      "text/plain": [
       "array([[[1, 4]],\n",
       "\n",
       "       [[2, 5]],\n",
       "\n",
       "       [[3, 6]]])"
      ]
     },
     "execution_count": 262,
     "metadata": {},
     "output_type": "execute_result"
    }
   ],
   "source": [
    "arr1=np.array([[1],[2],[3]])\n",
    "arr2=np.array([[4],[5],[6]])\n",
    "\n",
    "res=np.dstack((arr1,arr2))\n",
    "res"
   ]
  },
  {
   "cell_type": "code",
   "execution_count": 296,
   "id": "d19d989a",
   "metadata": {},
   "outputs": [
    {
     "data": {
      "text/plain": [
       "(array([[[1, 2],\n",
       "         [5, 6]],\n",
       " \n",
       "        [[3, 4],\n",
       "         [7, 8]]]),\n",
       " 3)"
      ]
     },
     "execution_count": 296,
     "metadata": {},
     "output_type": "execute_result"
    }
   ],
   "source": [
    "arr1=np.array([[1,2],[3,4]])\n",
    "arr2=np.array([[5,6],[7,8]])\n",
    "res1=np.stack((arr1,arr2) ,axis=1)\n",
    "res1 ,res1.ndim"
   ]
  },
  {
   "cell_type": "code",
   "execution_count": 284,
   "id": "408768a8",
   "metadata": {},
   "outputs": [
    {
     "data": {
      "text/plain": [
       "(array([[1, 2, 5, 6],\n",
       "        [3, 4, 7, 8]]),\n",
       " 2)"
      ]
     },
     "execution_count": 284,
     "metadata": {},
     "output_type": "execute_result"
    }
   ],
   "source": [
    "res2=np.hstack((arr1,arr2))\n",
    "res2,res2.ndim"
   ]
  },
  {
   "cell_type": "code",
   "execution_count": 285,
   "id": "e9ca597f",
   "metadata": {},
   "outputs": [
    {
     "data": {
      "text/plain": [
       "(array([[1, 2],\n",
       "        [3, 4],\n",
       "        [5, 6],\n",
       "        [7, 8]]),\n",
       " 2)"
      ]
     },
     "execution_count": 285,
     "metadata": {},
     "output_type": "execute_result"
    }
   ],
   "source": [
    "res2=np.vstack((arr1,arr2))\n",
    "res2,res2.ndim"
   ]
  },
  {
   "cell_type": "code",
   "execution_count": 295,
   "id": "8fe7be7c",
   "metadata": {},
   "outputs": [
    {
     "data": {
      "text/plain": [
       "array([[1, 5],\n",
       "       [2, 6],\n",
       "       [3, 7],\n",
       "       [4, 8]])"
      ]
     },
     "execution_count": 295,
     "metadata": {},
     "output_type": "execute_result"
    }
   ],
   "source": [
    "arr1=np.array([1,2,3,4])\n",
    "arr2=np.array([5,6,7,8])\n",
    "res4=np.stack((arr1,arr2),axis=1)\n",
    "res4"
   ]
  },
  {
   "cell_type": "code",
   "execution_count": 297,
   "id": "19b63345",
   "metadata": {},
   "outputs": [
    {
     "data": {
      "text/plain": [
       "array([[[1, 5],\n",
       "        [2, 6],\n",
       "        [3, 7],\n",
       "        [4, 8]]])"
      ]
     },
     "execution_count": 297,
     "metadata": {},
     "output_type": "execute_result"
    }
   ],
   "source": [
    "arr1=np.array([1,2,3,4])\n",
    "arr2=np.array([5,6,7,8])\n",
    "res5=np.dstack([arr1,arr2])\n",
    "res5"
   ]
  },
  {
   "cell_type": "code",
   "execution_count": 299,
   "id": "fd6a4403",
   "metadata": {},
   "outputs": [
    {
     "data": {
      "text/plain": [
       "array([[[1, 5],\n",
       "        [2, 6]],\n",
       "\n",
       "       [[3, 7],\n",
       "        [4, 8]]])"
      ]
     },
     "execution_count": 299,
     "metadata": {},
     "output_type": "execute_result"
    }
   ],
   "source": [
    "arr1=np.array([[1,2],[3,4]])\n",
    "arr2=np.array([[5,6],[7,8]])\n",
    "res6=np.dstack([arr1,arr2])\n",
    "res6"
   ]
  },
  {
   "cell_type": "markdown",
   "id": "036e0f54",
   "metadata": {},
   "source": [
    "#### NumPy Splitting Array"
   ]
  },
  {
   "cell_type": "code",
   "execution_count": 325,
   "id": "bddccbaf",
   "metadata": {},
   "outputs": [
    {
     "name": "stdout",
     "output_type": "stream",
     "text": [
      "[0 1 2 3 4 5 6 7]\n",
      "[array([0, 1, 2, 3]), array([4, 5, 6, 7])]\n"
     ]
    }
   ],
   "source": [
    "arr=np.arange(8)\n",
    "print(arr)\n",
    "res=np.split(arr,2)\n",
    "# np.array_split()\n",
    "print(res)"
   ]
  },
  {
   "cell_type": "code",
   "execution_count": 349,
   "id": "7a027afd",
   "metadata": {},
   "outputs": [
    {
     "name": "stdout",
     "output_type": "stream",
     "text": [
      "[0 1 2 3 4 5 6 7 8]\n",
      "[array([0, 1, 2]), array([3, 4]), array([5, 6]), array([7, 8])]\n"
     ]
    }
   ],
   "source": [
    "arr=np.arange(9)\n",
    "print(arr)\n",
    "# res=np.split(arr,2)\n",
    "res=np.array_split(arr,4)   # for unequl spliing \n",
    "print(res)"
   ]
  },
  {
   "cell_type": "markdown",
   "id": "edfa4d2b",
   "metadata": {},
   "source": [
    "#### Splitting NumPy 2D Arrays"
   ]
  },
  {
   "cell_type": "code",
   "execution_count": 398,
   "id": "fcfcd306",
   "metadata": {},
   "outputs": [
    {
     "name": "stdout",
     "output_type": "stream",
     "text": [
      "[[3 2 1]\n",
      " [8 9 7]\n",
      " [4 6 5]]\n",
      "[array([[3, 2, 1]]), array([[8, 9, 7]]), array([[4, 6, 5]])]\n",
      "[array([[3, 2, 1]]), array([[8, 9, 7]]), array([[4, 6, 5]])]\n"
     ]
    },
    {
     "data": {
      "text/plain": [
       "[array([[3, 2, 1],\n",
       "        [8, 9, 7]]),\n",
       " array([[4, 6, 5]])]"
      ]
     },
     "execution_count": 398,
     "metadata": {},
     "output_type": "execute_result"
    }
   ],
   "source": [
    "arr = np.array([[3, 2, 1], [8, 9, 7], [4, 6, 5]])\n",
    "print(arr)\n",
    "\n",
    "res=np.split(arr,3,axis=0)\n",
    "print(res)\n",
    "res=np.vsplit(arr,3)       # vsplit and split along axis=0\n",
    "print(res)\n",
    "res1=np.array_split(arr,2,axis=0)\n",
    "res1"
   ]
  },
  {
   "cell_type": "code",
   "execution_count": 15,
   "id": "5c9d46ac",
   "metadata": {},
   "outputs": [
    {
     "name": "stdout",
     "output_type": "stream",
     "text": [
      "[array([[3],\n",
      "       [8],\n",
      "       [4]]), array([[2],\n",
      "       [9],\n",
      "       [6]]), array([[1],\n",
      "       [7],\n",
      "       [5]])]\n",
      "[array([[3],\n",
      "       [8],\n",
      "       [4]]), array([[2],\n",
      "       [9],\n",
      "       [6]]), array([[1],\n",
      "       [7],\n",
      "       [5]])]\n"
     ]
    },
    {
     "data": {
      "text/plain": [
       "[array([[3, 2],\n",
       "        [8, 9],\n",
       "        [4, 6]]),\n",
       " array([[1],\n",
       "        [7],\n",
       "        [5]])]"
      ]
     },
     "execution_count": 15,
     "metadata": {},
     "output_type": "execute_result"
    }
   ],
   "source": [
    "arr = np.array([[3, 2, 1], [8, 9, 7], [4, 6, 5]])\n",
    "res=np.split(arr,3,axis=1)\n",
    "print(res)\n",
    "res=np.hsplit(arr,3)       # hsplit and split along axis=1\n",
    "print(res)\n",
    "res1=np.array_split(arr,2,axis=1)\n",
    "res1"
   ]
  },
  {
   "cell_type": "code",
   "execution_count": 401,
   "id": "d34e2f81",
   "metadata": {},
   "outputs": [
    {
     "name": "stdout",
     "output_type": "stream",
     "text": [
      "[[ 0  1  2  3]\n",
      " [ 4  5  6  7]\n",
      " [ 8  9 10 11]\n",
      " [12 13 14 15]]\n",
      "[array([[ 0,  1],\n",
      "       [ 4,  5],\n",
      "       [ 8,  9],\n",
      "       [12, 13]]), array([[ 2,  3],\n",
      "       [ 6,  7],\n",
      "       [10, 11],\n",
      "       [14, 15]])]\n",
      "[array([[ 0,  1],\n",
      "       [ 4,  5],\n",
      "       [ 8,  9],\n",
      "       [12, 13]]), array([[ 2,  3],\n",
      "       [ 6,  7],\n",
      "       [10, 11],\n",
      "       [14, 15]])]\n"
     ]
    },
    {
     "data": {
      "text/plain": [
       "[array([[ 0,  1],\n",
       "        [ 4,  5],\n",
       "        [ 8,  9],\n",
       "        [12, 13]]),\n",
       " array([[ 2],\n",
       "        [ 6],\n",
       "        [10],\n",
       "        [14]]),\n",
       " array([[ 3],\n",
       "        [ 7],\n",
       "        [11],\n",
       "        [15]])]"
      ]
     },
     "execution_count": 401,
     "metadata": {},
     "output_type": "execute_result"
    }
   ],
   "source": [
    "arr=np.arange(16).reshape(4,4)\n",
    "print(arr)\n",
    "\n",
    "res=np.split(arr,2,axis=1)\n",
    "print(res)\n",
    "res1=np.hsplit(arr,2)\n",
    "print(res1)\n",
    "res2=np.array_split(arr,3,axis=1)\n",
    "res2"
   ]
  },
  {
   "cell_type": "code",
   "execution_count": 403,
   "id": "31e1dd7b",
   "metadata": {},
   "outputs": [
    {
     "name": "stdout",
     "output_type": "stream",
     "text": [
      "[[ 0  1  2  3]\n",
      " [ 4  5  6  7]\n",
      " [ 8  9 10 11]\n",
      " [12 13 14 15]]\n",
      "[array([[0, 1, 2, 3],\n",
      "       [4, 5, 6, 7]]), array([[ 8,  9, 10, 11],\n",
      "       [12, 13, 14, 15]])]\n",
      "[array([[0, 1, 2, 3],\n",
      "       [4, 5, 6, 7]]), array([[ 8,  9, 10, 11],\n",
      "       [12, 13, 14, 15]])]\n"
     ]
    },
    {
     "data": {
      "text/plain": [
       "[array([[0, 1, 2, 3],\n",
       "        [4, 5, 6, 7]]),\n",
       " array([[ 8,  9, 10, 11]]),\n",
       " array([[12, 13, 14, 15]])]"
      ]
     },
     "execution_count": 403,
     "metadata": {},
     "output_type": "execute_result"
    }
   ],
   "source": [
    "arr=np.arange(16).reshape(4,4)\n",
    "print(arr)\n",
    "\n",
    "res=np.split(arr,2,axis=0)\n",
    "print(res)\n",
    "res1=np.vsplit(arr,2)\n",
    "print(res1)\n",
    "res2=np.array_split(arr,3,axis=0)\n",
    "res2"
   ]
  },
  {
   "cell_type": "code",
   "execution_count": 404,
   "id": "b75f4efb",
   "metadata": {},
   "outputs": [],
   "source": [
    "# will see next for for 3d 4d splitting"
   ]
  },
  {
   "cell_type": "markdown",
   "id": "66bcee11",
   "metadata": {},
   "source": [
    "#### compare two NumPy arrays"
   ]
  },
  {
   "cell_type": "code",
   "execution_count": 422,
   "id": "a4daf667",
   "metadata": {},
   "outputs": [
    {
     "name": "stdout",
     "output_type": "stream",
     "text": [
      "[[0 1 2 3 4]\n",
      " [5 6 7 8 9]] \n",
      " [[0 1 2 3 4]\n",
      " [5 6 7 8 9]]\n",
      "True\n",
      "[[ True  True  True  True  True]\n",
      " [ True  True  True  True  True]]\n"
     ]
    }
   ],
   "source": [
    "arr1=np.arange(10).reshape(2,5)\n",
    "arr2=np.arange(10).reshape(2,5)\n",
    "print(arr1,'\\n',arr2)\n",
    "\n",
    "comp=arr1==arr2\n",
    "print(comp.all())\n",
    "\n",
    "# equal\n",
    "print(np.equal(arr1,arr2))"
   ]
  },
  {
   "cell_type": "code",
   "execution_count": 423,
   "id": "d3931210",
   "metadata": {},
   "outputs": [
    {
     "name": "stdout",
     "output_type": "stream",
     "text": [
      "[[False False False  True  True]\n",
      " [ True  True  True False  True]]\n",
      "[[False False False  True  True]\n",
      " [ True  True  True False  True]]\n",
      "[[False False False  True  True]\n",
      " [ True  True  True  True  True]]\n",
      "[[False False False  True  True]\n",
      " [ True  True  True  True  True]]\n",
      "[[ True  True  True False False]\n",
      " [False False False False False]]\n",
      "[[ True  True  True False False]\n",
      " [False False False False False]]\n",
      "[[ True  True  True False False]\n",
      " [False False False  True False]]\n",
      "[[ True  True  True False False]\n",
      " [False False False  True False]]\n"
     ]
    }
   ],
   "source": [
    "arr1=np.arange(10).reshape(2,5)\n",
    "arr2=np.array([[4,6,7,1,0],[3,2,6,8,1]])\n",
    "\n",
    "# for greater \n",
    "print(arr1>arr2)\n",
    "print(np.greater(arr1,arr2))\n",
    "\n",
    "# for greater than =\n",
    "print(arr1>=arr2)\n",
    "print(np.greater_equal(arr1,arr2))\n",
    "\n",
    "# for less \n",
    "print(arr1<arr2)\n",
    "print(np.less(arr1,arr2))\n",
    "\n",
    "# for less than =\n",
    "print(arr1<=arr2)\n",
    "print(np.less_equal(arr1,arr2))\n",
    "\n"
   ]
  },
  {
   "cell_type": "markdown",
   "id": "a52f21c2",
   "metadata": {},
   "source": [
    "#### union of two NumPy arrays"
   ]
  },
  {
   "cell_type": "code",
   "execution_count": 429,
   "id": "69e560bc",
   "metadata": {},
   "outputs": [
    {
     "name": "stdout",
     "output_type": "stream",
     "text": [
      "[1 2 3 4 5 6 7 8]\n",
      "[1 2 3 4 5 6 7 8]\n"
     ]
    }
   ],
   "source": [
    "arr1=np.array([1,2,3,4])\n",
    "arr2=np.array([5,6,7,8])\n",
    "\n",
    "print(np.union1d(arr1,arr2))"
   ]
  },
  {
   "cell_type": "code",
   "execution_count": 432,
   "id": "f31914dc",
   "metadata": {},
   "outputs": [
    {
     "name": "stdout",
     "output_type": "stream",
     "text": [
      "[[ 1  2  3  4  5  6  7  8  9 10]\n",
      " [11 12 13 14 15 16 17 18 19 20]]\n"
     ]
    },
    {
     "data": {
      "text/plain": [
       "array([ 1,  2,  3,  4,  5,  6,  7,  8,  9, 10, 11, 12, 13, 14, 15, 16, 17,\n",
       "       18, 19, 20])"
      ]
     },
     "execution_count": 432,
     "metadata": {},
     "output_type": "execute_result"
    }
   ],
   "source": [
    "arr1=np.array([[1,2,3,4,5],[11,12,13,14,15]])\n",
    "arr2=np.array([[6,7,8,9,10],[16,17,18,19,20]])\n",
    "\n",
    "np.union1d(arr1,arr2)"
   ]
  },
  {
   "cell_type": "markdown",
   "id": "175d7c6e",
   "metadata": {},
   "source": [
    "#### unique rows in a NumPy array"
   ]
  },
  {
   "cell_type": "code",
   "execution_count": 442,
   "id": "e1046083",
   "metadata": {},
   "outputs": [
    {
     "data": {
      "text/plain": [
       "(array([ 1,  2,  3,  4,  5,  6,  7,  8,  9, 13, 15, 16, 19]),\n",
       " array([ 0,  1,  2,  3,  4,  5,  6,  7,  8, 12, 14, 15, 18], dtype=int64),\n",
       " array([ 0,  1,  2,  3,  4,  5,  6,  7,  8,  0,  0,  1,  9,  3, 10, 11,  6,\n",
       "         7, 12,  1], dtype=int64),\n",
       " array([3, 3, 1, 2, 1, 1, 2, 2, 1, 1, 1, 1, 1], dtype=int64))"
      ]
     },
     "execution_count": 442,
     "metadata": {},
     "output_type": "execute_result"
    }
   ],
   "source": [
    "ar2D=np.array([[1,2,3,4,5],[6,7,8,9,1],[1,2,13,4,15],[16,7,8,19,2]])\n",
    "ar2D\n",
    "np.unique(ar2D,return_index=True,return_counts=True,return_inverse=True)\n"
   ]
  },
  {
   "cell_type": "code",
   "execution_count": 17,
   "id": "d3b349a8",
   "metadata": {},
   "outputs": [
    {
     "data": {
      "text/plain": [
       "array([[11, 11, 12],\n",
       "       [11, 13, 12],\n",
       "       [11, 16, 12],\n",
       "       [11, 11, 12]])"
      ]
     },
     "execution_count": 17,
     "metadata": {},
     "output_type": "execute_result"
    }
   ],
   "source": [
    "arr2D = np.array([[11, 11, 12, 11],\n",
    "                     [13, 11, 12, 11],\n",
    "                     [16, 11, 12, 11],\n",
    "                     [11, 11, 12, 11]])\n",
    " \n",
    "uniqueRows = np.unique(arr2D, axis=1)  #axis 0 /1 returns unique rows/columns\n",
    "uniqueRows"
   ]
  },
  {
   "cell_type": "code",
   "execution_count": 459,
   "id": "b946373f",
   "metadata": {},
   "outputs": [
    {
     "data": {
      "text/plain": [
       "(array([11, 12, 13, 16]),\n",
       " array([0, 2, 4, 8], dtype=int64),\n",
       " array([10,  4,  1,  1], dtype=int64),\n",
       " array([0, 0, 1, 0, 2, 0, 1, 0, 3, 0, 1, 0, 0, 0, 1, 0], dtype=int64))"
      ]
     },
     "execution_count": 459,
     "metadata": {},
     "output_type": "execute_result"
    }
   ],
   "source": [
    "val,ind,inv,count=np.unique(arr2D,return_index=True,return_counts=True,return_inverse=True)\n",
    "val,ind,count,inv"
   ]
  },
  {
   "cell_type": "markdown",
   "id": "f1a36363",
   "metadata": {},
   "source": [
    "#### numpy.trim_zeros()"
   ]
  },
  {
   "cell_type": "code",
   "execution_count": 469,
   "id": "bfeb6979",
   "metadata": {},
   "outputs": [
    {
     "data": {
      "text/plain": [
       "array([   2,    3, 4000])"
      ]
     },
     "execution_count": 469,
     "metadata": {},
     "output_type": "execute_result"
    }
   ],
   "source": [
    "arr1=np.array((0,0,0,0,0,0,0,0,0,0,2,3,4000,0,0,0,0,0,0,0,0,0,0,0,0,0,0,0,0))\n",
    "\n",
    "np.trim_zeros(arr1)"
   ]
  },
  {
   "cell_type": "code",
   "execution_count": 470,
   "id": "94f545db",
   "metadata": {},
   "outputs": [
    {
     "data": {
      "text/plain": [
       "array([   2,    3, 4000,    0,    0,    0,    0,    0,    0,    0,    0,\n",
       "          0,    0,    0,    0,    0,    0,    0,    0])"
      ]
     },
     "execution_count": 470,
     "metadata": {},
     "output_type": "execute_result"
    }
   ],
   "source": [
    "np.trim_zeros(arr1,'f') # trim starting zeros"
   ]
  },
  {
   "cell_type": "code",
   "execution_count": 468,
   "id": "c43fd5c2",
   "metadata": {},
   "outputs": [
    {
     "data": {
      "text/plain": [
       "array([   0,    0,    0,    0,    0,    0,    0,    0,    0,    0,    2,\n",
       "          3, 4000])"
      ]
     },
     "execution_count": 468,
     "metadata": {},
     "output_type": "execute_result"
    }
   ],
   "source": [
    "np.trim_zeros(arr1,'b')  # trims leading zeros"
   ]
  }
 ],
 "metadata": {
  "kernelspec": {
   "display_name": "Python 3 (ipykernel)",
   "language": "python",
   "name": "python3"
  },
  "language_info": {
   "codemirror_mode": {
    "name": "ipython",
    "version": 3
   },
   "file_extension": ".py",
   "mimetype": "text/x-python",
   "name": "python",
   "nbconvert_exporter": "python",
   "pygments_lexer": "ipython3",
   "version": "3.11.5"
  }
 },
 "nbformat": 4,
 "nbformat_minor": 5
}
