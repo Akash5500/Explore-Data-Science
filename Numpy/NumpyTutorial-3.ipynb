{
 "cells": [
  {
   "cell_type": "markdown",
   "id": "f7dc9013",
   "metadata": {},
   "source": [
    "#### Broadcasting with NumPy Arrays"
   ]
  },
  {
   "cell_type": "markdown",
   "id": "7aa62ed0",
   "metadata": {},
   "source": [
    "The term broadcasting refers to how NumPy treats arrays with different dimensions during arithmetic operations \n",
    "which lead to certain constraints, the smaller array is broadcast across the larger array so that they have \n",
    "compatible shapes."
   ]
  },
  {
   "cell_type": "markdown",
   "id": "62059903",
   "metadata": {},
   "source": [
    "### NumPy Array Broadcasting Algorithm"
   ]
  },
  {
   "cell_type": "markdown",
   "id": "0fd16a99",
   "metadata": {},
   "source": [
    "p = max(m, n)\n",
    "\n",
    "if m < p:\n",
    "\n",
    "    left-pad A's shape with 1s until it also has p dimensions\n",
    "    \n",
    "else if n < p:\n",
    "\n",
    "    left-pad B's shape with 1s until it also has p dimensions\n",
    "    \n",
    "result_dims = new list with p elements\n",
    "\n",
    "for i in p-1 ... 0:\n",
    "\n",
    "    A_dim_i = A.shape[i]\n",
    "    B_dim_i = B.shape[i]\n",
    "    if A_dim_i != 1 and B_dim_i != 1 and A_dim_i != B_dim_i:\n",
    "        raise ValueError(\"could not broadcast\")\n",
    "    else:\n",
    "        # Pick the Array which is having maximum Dimension\n",
    "        result_dims[i] = max(A_dim_i, B_dim_i)"
   ]
  },
  {
   "cell_type": "code",
   "execution_count": 1,
   "id": "8635998c",
   "metadata": {},
   "outputs": [
    {
     "name": "stdout",
     "output_type": "stream",
     "text": [
      "[17 11 19]\n",
      "3\n",
      "[20 14 22]\n"
     ]
    }
   ],
   "source": [
    "import numpy as np\n",
    "a = np.array([17, 11, 19]) # 1x3 Dimension array\n",
    "print(a)\n",
    "b = 3\n",
    "print(b)\n",
    "\n",
    "# Broadcasting happened because of\n",
    "# miss match in array Dimension.\n",
    "c = a + b \n",
    "print(c)\n"
   ]
  },
  {
   "cell_type": "code",
   "execution_count": 3,
   "id": "f31774c9",
   "metadata": {},
   "outputs": [
    {
     "name": "stdout",
     "output_type": "stream",
     "text": [
      "[[11 22 33]\n",
      " [10 20 30]]\n",
      "4\n",
      "[[15 26 37]\n",
      " [14 24 34]]\n"
     ]
    }
   ],
   "source": [
    "import numpy as np\n",
    "A = np.array([[11, 22, 33], [10, 20, 30]])\n",
    "print(A)\n",
    "\n",
    "b = 4\n",
    "print(b)\n",
    "\n",
    "C = A + b\n",
    "print(C)\n"
   ]
  },
  {
   "cell_type": "code",
   "execution_count": 12,
   "id": "8858be83",
   "metadata": {},
   "outputs": [
    {
     "name": "stdout",
     "output_type": "stream",
     "text": [
      "[[ 0.  0.  0.]\n",
      " [10. 10. 10.]\n",
      " [20. 20. 20.]\n",
      " [30. 30. 30.]] \n",
      " [1. 2. 3.] \n",
      " (4, 3) (3,)\n"
     ]
    },
    {
     "data": {
      "text/plain": [
       "array([[ 0.,  0.,  0.],\n",
       "       [10., 20., 30.],\n",
       "       [20., 40., 60.],\n",
       "       [30., 60., 90.]])"
      ]
     },
     "execution_count": 12,
     "metadata": {},
     "output_type": "execute_result"
    }
   ],
   "source": [
    "a = np.array([[ 0.0,  0.0,  0.0],\n",
    "              [10.0, 10.0, 10.0],\n",
    "              [20.0, 20.0, 20.0],\n",
    "              [30.0, 30.0, 30.0]]) #(4,3)\n",
    "b = np.array([1.0, 2.0, 3.0])      #( 1,3)\n",
    "\n",
    "print(a,'\\n',b,'\\n',a.shape,b.shape) # broadcasting happens result (4,3)\n",
    "\n",
    "res=a*b\n",
    "res"
   ]
  },
  {
   "cell_type": "code",
   "execution_count": 20,
   "id": "d9cc64af",
   "metadata": {},
   "outputs": [
    {
     "data": {
      "text/plain": [
       "array([[ 2., 13., 24., 35.],\n",
       "       [ 3., 14., 25., 36.],\n",
       "       [ 4., 15., 26., 37.]])"
      ]
     },
     "execution_count": 20,
     "metadata": {},
     "output_type": "execute_result"
    }
   ],
   "source": [
    "# no broadcasting example \n",
    "a=np.array([[  1.,   2.,   3.],\n",
    "        [11.,  12.,  13.],\n",
    "        [21.,  22.,  23.],\n",
    "        [31.,  32.,  33.]])        #(4,3)\n",
    "b = np.array([1.0, 2.0, 3.0, 4.0]) #(1,4) \n",
    "# res=a + b  Not possible because dim not match \n",
    "\n",
    "# solve this by transpose of b \n",
    "trans=a.T\n",
    "trans\n",
    "res=b+trans\n",
    "res"
   ]
  },
  {
   "cell_type": "markdown",
   "id": "caa200b5",
   "metadata": {},
   "source": [
    "### Estimation of Variable"
   ]
  },
  {
   "cell_type": "markdown",
   "id": "dcdd8d18",
   "metadata": {},
   "source": [
    "__Variability__: It is the import dimension that measures the data variation i.e. whether the data is spread out or \n",
    "tightly clustered. Also known as Dispersion When working on data sets in Machine Learning or Data Science, \n",
    "involves many steps – variance measurement, reduction, and distinguishing random variability from the real one. \n",
    "identifying sources of real variability, making decisions regarding the pre-processing choice or model selection based on it."
   ]
  },
  {
   "cell_type": "markdown",
   "id": "b2f33a3a",
   "metadata": {},
   "source": [
    "####  Terms related to Variability Metrics : \n",
    "* -> Deviation \n",
    "* -> Variance\n",
    "* -> Standard Deviation\n",
    "* -> Mean Absolute Deviation\n",
    "* -> Median Absolute Deviation\n",
    "* -> Order Statistics\n",
    "* -> Range\n",
    "* -> Percentile \n",
    "* -> Inter-quartile Range"
   ]
  },
  {
   "cell_type": "markdown",
   "id": "b43c88aa",
   "metadata": {},
   "source": [
    "__Deviation__: We can call it – errors or residuals also. \n",
    "It is the measure of how different/dispersed the values are, from the central/observed value. "
   ]
  },
  {
   "attachments": {
    "image-2.png": {
     "image/png": "[encoded data removed]"
    },
    "image.png": {
     "image/png": "[encoded data removed]"
    }
   },
   "cell_type": "markdown",
   "id": "32ea9b6a",
   "metadata": {},
   "source": [
    "__Variance (s2)__: It is the best-known measure to estimate the variability as it is Squared Deviation. One can call it mean squared error as it is the average of standard deviation.\n",
    "\n",
    "__Standard Deviation__: It is the square root of Variance. Is also referred to as __Euclidean Norm__.\n",
    "<div>\n",
    "<img src=\"attachment:image.png\" width=\"200\">\n",
    "<img src=\"attachment:image-2.png\" width=\"500\">\n",
    "</div>"
   ]
  },
  {
   "cell_type": "code",
   "execution_count": 25,
   "id": "4508e7f3",
   "metadata": {},
   "outputs": [
    {
     "name": "stdout",
     "output_type": "stream",
     "text": [
      "Variance :  5.5555555555555545\n",
      "Sd : 2.357022603955158\n"
     ]
    }
   ],
   "source": [
    "# Variance and sd\n",
    "\n",
    "import numpy as np\n",
    "\n",
    "Sequence = [2, 3, 5, 6, 7, 9]\n",
    "\n",
    "var = np.var(Sequence)\n",
    "\n",
    "print(\"Variance : \", var)\n",
    "print(\"Sd :\", np.std(Sequence))\n",
    "\n",
    "# mathematically explaination\n",
    "\n",
    "# Sequence : [2, 3, 5, 6, 7, 9] \n",
    "# Mean              = 5.33\n",
    "# Total Terms, n    = 6\n",
    "# Squared Deviation = (2 - 5.33)2 + (3 - 5.33)2 + (5 - 5.33)2\n",
    "#                     (6 - 5.33)2 + (7 - 5.33)2 + (9 - 5.33)2\n",
    "# Variance          = Squared Deviation / n\n",
    "# sd                =sqrt(variance)"
   ]
  },
  {
   "attachments": {
    "image.png": {
     "image/png": "[encoded data removed]"
    }
   },
   "cell_type": "markdown",
   "id": "f4ddfab7",
   "metadata": {},
   "source": [
    "__Mean Absolute Deviation__: One can estimate a typical estimation for these deviations. If we average the values, the negative deviations would offset the positive ones. Also, the sum of deviations from the mean is always zero. So, it is a simple approach to take the average deviation itself.\n",
    "\n",
    "<div>\n",
    "<img src=\"attachment:image.png\" width=\"400\">\n",
    "</div>\n"
   ]
  },
  {
   "cell_type": "code",
   "execution_count": 31,
   "id": "64e74bea",
   "metadata": {},
   "outputs": [
    {
     "name": "stdout",
     "output_type": "stream",
     "text": [
      "Absolute mean deviation :2.0\n"
     ]
    }
   ],
   "source": [
    "# mathematical exp\n",
    "\n",
    "# Sequence : [2, 4, 6, 8] \n",
    "# Mean     = 5\n",
    "# Deviation around mean = [-3, -1, 1, 3]\n",
    "\n",
    "# Mean Absolute Deviation = (3 + 1 + 1 + 3)/ 4\n",
    "\n",
    "Sequence = [2, 4, 6, 8] \n",
    "\n",
    "res=np.mean(np.absolute(Sequence-np.mean(Sequence)))\n",
    "print(f'Absolute mean deviation :{res}')\n"
   ]
  },
  {
   "cell_type": "code",
   "execution_count": 74,
   "id": "65110fff",
   "metadata": {},
   "outputs": [
    {
     "data": {
      "text/plain": [
       "20.055"
      ]
     },
     "execution_count": 74,
     "metadata": {},
     "output_type": "execute_result"
    }
   ],
   "source": [
    "from numpy import mean, absolute\n",
    "data = [75, 69, 56, 46, 47, 79, 92, 97, 89, 88, \n",
    "        36, 96, 105, 32, 116, 101, 79, 93, 91, 112] \n",
    "\n",
    "# np.mean(np.absolute(data-np.mean(data))) # same results \n",
    "# mean(absolute(data-mean(data)))"
   ]
  },
  {
   "cell_type": "code",
   "execution_count": 83,
   "id": "f0dbe89a",
   "metadata": {},
   "outputs": [
    {
     "data": {
      "text/plain": [
       "0    20.055\n",
       "dtype: float64"
      ]
     },
     "execution_count": 83,
     "metadata": {},
     "output_type": "execute_result"
    }
   ],
   "source": [
    "import pandas as pd \n",
    "\n",
    "df=pd.DataFrame(data)\n",
    "abs(df-df.mean()).mean()"
   ]
  },
  {
   "cell_type": "markdown",
   "id": "ffc546fb",
   "metadata": {},
   "source": [
    "* The data set having a higher value of absolute mean deviation (or absolute deviation) has more variability.\n",
    "* The data set with a lower value of absolute mean deviation (or absolute deviation) is preferable.\n",
    "If there are two data sets with absolute mean values AMD1 and AMD2, and AMD1>AMD2 then the data in AMD1 is said to have more variability than the data in AMD2.\n",
    "* __If the Absolute Mean Deviation (AMD) is higher, it suggests that the data points are more spread out from the mean, indicating higher variability or dispersion. In practical terms, higher AMD values often imply less consistency or stability in the dataset because the values deviate more from the central tendency (mean).__"
   ]
  },
  {
   "attachments": {
    "image.png": {
     "image/png": "[encoded data removed]"
    }
   },
   "cell_type": "markdown",
   "id": "cf0bdc01",
   "metadata": {},
   "source": [
    "__Median Absolute Deviation__: Mean Absolute Deviation, Variance, and Standard deviation (discussed in the previous section) are not robust to extreme values and outliers. We average the sum of deviations from the median. \n",
    "<div>\n",
    "<img src=\"attachment:image.png\" width=\"400\">\n",
    "</div>\n"
   ]
  },
  {
   "cell_type": "code",
   "execution_count": 39,
   "id": "a6ddeb90",
   "metadata": {},
   "outputs": [
    {
     "name": "stdout",
     "output_type": "stream",
     "text": [
      "median absolute deviation :2.0\n"
     ]
    }
   ],
   "source": [
    "\n",
    "\n",
    "\n",
    "# Mathematically\n",
    "# Sequence : [2, 4, 6, 8] \n",
    "# median     = 5\n",
    "# Deviation around mean = [-3, -1, 1, 3]\n",
    "\n",
    "# Mean Absolute Deviation = (3 + 1 + 1 + 3)/ 4\n",
    "Sequence : [2, 4, 6, 8] \n",
    "\n",
    "res=np.median(np.absolute(Sequence-np.median(Sequence)))\n",
    "\n",
    "print(f'median absolute deviation :{res}')"
   ]
  },
  {
   "cell_type": "markdown",
   "id": "aa117e20",
   "metadata": {},
   "source": [
    "__Order Statistics__: This variability measurement approach is based on the spread of ranked (sorted) data.\n",
    "\n",
    "__Range__: It is the most basic measurement belonging to Order Statistics. It is the difference between the largest and the smallest value of the dataset. It is good to know the spread of data but it is very sensitive to outliers. We can make it better by dropping the extreme values. "
   ]
  },
  {
   "cell_type": "code",
   "execution_count": 40,
   "id": "f051f1a6",
   "metadata": {},
   "outputs": [],
   "source": [
    "# Sequence : [2, 30, 50, 46, 37, 91]\n",
    "# Here, 2 and 91 are outliers\n",
    "\n",
    "# Range = 91 - 2 = 89\n",
    "# Range without outliers = 50 - 30 = 20"
   ]
  },
  {
   "cell_type": "markdown",
   "id": "5630b00c",
   "metadata": {},
   "source": [
    "__Percentile__: It is a very good measure to measure the variability in data, avoiding outliers. The Pth percentile in data is a value such that atleast P% or fewer values are lesser than it and atleast (100 – P)% values are more than P.\n",
    "\n",
    "__The Median is the 50th percentile of the data.__\n"
   ]
  },
  {
   "cell_type": "code",
   "execution_count": 22,
   "id": "94e8d1de",
   "metadata": {},
   "outputs": [],
   "source": [
    "# What is the 50th percentile for the given scores of 8 persons are 50, 100, 70, 80, 56, 60, 80, 75.\n",
    "\n",
    "# Solution:\n",
    "\n",
    "# sort the number : 50 56 60 70 75 80 80 100\n",
    "# total numbers =8\n",
    "\n",
    "# n is even so (70+75)/2=72.5\n",
    "\n",
    "# for n odd follow below procedure\n",
    "\n",
    "# sequence =50, 100, 70, 80, 56, 60, 75\n",
    "# sort the number : 50 56 60 70 75 80  100\n",
    "\n",
    "# 50%*7= 3.5~4\n",
    "\n",
    "# the value at 4 is 70 \n",
    "# hence in general meaning 50% of values in dataset are less than equal to 70 and remaining are greater than 70 "
   ]
  },
  {
   "cell_type": "code",
   "execution_count": 23,
   "id": "afeddb18",
   "metadata": {},
   "outputs": [
    {
     "data": {
      "text/plain": [
       "52.94"
      ]
     },
     "execution_count": 23,
     "metadata": {},
     "output_type": "execute_result"
    }
   ],
   "source": [
    "import numpy as np\n",
    "arr1=[50, 100, 70, 80, 56, 60, 80, 75]\n",
    "np.percentile(arr1,7)"
   ]
  },
  {
   "cell_type": "code",
   "execution_count": 24,
   "id": "d2be584f",
   "metadata": {},
   "outputs": [
    {
     "name": "stdout",
     "output_type": "stream",
     "text": [
      "50th Percentile :  41.5\n",
      "60th Percentile :  46.0\n"
     ]
    }
   ],
   "source": [
    "# Percentile\n",
    "\n",
    "import numpy as np\n",
    "\n",
    "\t\n",
    "Sequence = [2, 30, 50, 46, 37, 91] \n",
    "\n",
    "print (\"50th Percentile : \", np.percentile(Sequence, 50))\n",
    "\t\n",
    "print (\"60th Percentile : \", np.percentile(Sequence, 60))\n"
   ]
  },
  {
   "cell_type": "markdown",
   "id": "6a5c0afa",
   "metadata": {},
   "source": [
    "__Inter-Quartile Range(IQR)__: It works for the ranked(sorted data). It has 3 quartiles dividing data – Q1(25th percentile), Q2(50th percentile), and Q3(75th percentile). Inter-quartile Range is the difference between Q3 and Q1. "
   ]
  },
  {
   "cell_type": "code",
   "execution_count": 25,
   "id": "d7f5f6af",
   "metadata": {},
   "outputs": [
    {
     "name": "stdout",
     "output_type": "stream",
     "text": [
      "IQR 17.25\n"
     ]
    }
   ],
   "source": [
    "Sequence = [2, 30, 50, 46, 37, 91] \n",
    "\n",
    "Q1=np.percentile(Sequence,25)\n",
    "Q2=np.percentile(Sequence,50)\n",
    "Q3=np.percentile(Sequence,75)\n",
    "print(\"IQR\",Q3-Q1)"
   ]
  },
  {
   "cell_type": "markdown",
   "id": "ba01768f",
   "metadata": {},
   "source": [
    "#### Operations on Numpy Arrays"
   ]
  },
  {
   "cell_type": "markdown",
   "id": "702f06bf",
   "metadata": {},
   "source": [
    "__numpy.reciprocal()__ This function returns the reciprocal of argument, element-wise. \n",
    "For elements with absolute values larger than 1, the result is always 0 and for integer 0, overflow warning is issued."
   ]
  },
  {
   "cell_type": "code",
   "execution_count": 27,
   "id": "6aea3294",
   "metadata": {},
   "outputs": [
    {
     "data": {
      "text/plain": [
       "array([1.        , 0.5       , 0.33333333, 0.25      , 0.2       ])"
      ]
     },
     "execution_count": 27,
     "metadata": {},
     "output_type": "execute_result"
    }
   ],
   "source": [
    "arr=np.array([1,2,3,4,5],dtype='float') # dtype should be float if its integer it will be 0\n",
    "np.reciprocal(arr)"
   ]
  },
  {
   "cell_type": "code",
   "execution_count": 28,
   "id": "79aae26b",
   "metadata": {},
   "outputs": [
    {
     "data": {
      "text/plain": [
       "array([0.04     , 0.7518797, 1.       , 1.       , 0.01     ])"
      ]
     },
     "execution_count": 28,
     "metadata": {},
     "output_type": "execute_result"
    }
   ],
   "source": [
    "arr = np.array([25, 1.33, 1, 1, 100]) \n",
    "np.reciprocal(arr)"
   ]
  },
  {
   "cell_type": "code",
   "execution_count": 31,
   "id": "ebfd3d7e",
   "metadata": {},
   "outputs": [
    {
     "data": {
      "text/plain": [
       "array([1, 4, 9])"
      ]
     },
     "execution_count": 31,
     "metadata": {},
     "output_type": "execute_result"
    }
   ],
   "source": [
    "np.power([1,2,3],[2,2,2])"
   ]
  },
  {
   "cell_type": "code",
   "execution_count": 32,
   "id": "ac3b74b4",
   "metadata": {},
   "outputs": [
    {
     "data": {
      "text/plain": [
       "array([5, 0, 5], dtype=int32)"
      ]
     },
     "execution_count": 32,
     "metadata": {},
     "output_type": "execute_result"
    }
   ],
   "source": [
    "np.mod([5,10,15],10)"
   ]
  },
  {
   "cell_type": "code",
   "execution_count": 33,
   "id": "8f5260ac",
   "metadata": {},
   "outputs": [
    {
     "data": {
      "text/plain": [
       "array([5, 0, 5], dtype=int32)"
      ]
     },
     "execution_count": 33,
     "metadata": {},
     "output_type": "execute_result"
    }
   ],
   "source": [
    "np.remainder([5,10,15],10)"
   ]
  },
  {
   "cell_type": "code",
   "execution_count": 35,
   "id": "07c7a032",
   "metadata": {},
   "outputs": [
    {
     "data": {
      "text/plain": [
       "(array([0, 1, 1], dtype=int32), array([5, 0, 5], dtype=int32))"
      ]
     },
     "execution_count": 35,
     "metadata": {},
     "output_type": "execute_result"
    }
   ],
   "source": [
    "np.divmod([5,10,15],10)"
   ]
  },
  {
   "cell_type": "code",
   "execution_count": 42,
   "id": "79eddfe9",
   "metadata": {},
   "outputs": [
    {
     "name": "stdout",
     "output_type": "stream",
     "text": [
      "[[1, 3.4, 4.5], [3.45, 5.6, 9.8], [2, 5, 6.3]] \n",
      " 41.05\n",
      "[ 6.45 14.   20.6 ]\n",
      "[ 8.9  18.85 13.3 ]\n"
     ]
    }
   ],
   "source": [
    "array = [[1, 3.4, 4.5], [3.45, 5.6, 9.8], \n",
    "         [2, 5, 6.3]]\n",
    "\n",
    "print(array,'\\n',np.sum(array))\n",
    "print(np.sum(array,axis=0))\n",
    "print(np.sum(array,axis=1))"
   ]
  },
  {
   "cell_type": "code",
   "execution_count": 43,
   "id": "55e48035",
   "metadata": {},
   "outputs": [
    {
     "data": {
      "text/plain": [
       "13.1"
      ]
     },
     "execution_count": 43,
     "metadata": {},
     "output_type": "execute_result"
    }
   ],
   "source": [
    "# Let’s try using the initial parameter to initialize our sum value. Essentially, \n",
    "# the initial value gets added to the sum of the elements of the array. \n",
    "# This is useful in certain problems utilizing counters.\n",
    "\n",
    "\n",
    "array = [1.5, 3, 5.6]\n",
    "\n",
    "np.sum(array,initial=3)"
   ]
  },
  {
   "cell_type": "code",
   "execution_count": 47,
   "id": "d3372bf0",
   "metadata": {},
   "outputs": [
    {
     "name": "stdout",
     "output_type": "stream",
     "text": [
      "-6\n"
     ]
    }
   ],
   "source": [
    "# Import NumPy Library\n",
    "import numpy as np\n",
    "\n",
    "# Initialize our array\n",
    "array = np.ones(250, dtype=np.int8)\n",
    "\n",
    "# Call our sum() function with a specified\n",
    "# accumulator type\n",
    "print(np.sum(array, dtype=np.int8))\n",
    "\n",
    "# Expected Output: 250 \n",
    "# result is -6 because the output value is out of bounds"
   ]
  },
  {
   "cell_type": "code",
   "execution_count": 48,
   "id": "36b9e811",
   "metadata": {},
   "outputs": [
    {
     "data": {
      "text/plain": [
       "array([1.        , 9.        , 0.5       , 4.2       , 3.83333333])"
      ]
     },
     "execution_count": 48,
     "metadata": {},
     "output_type": "execute_result"
    }
   ],
   "source": [
    "arr1 = [2, 27, 2, 21, 23] \n",
    "arr2 = [2, 3, 4, 5, 6] \n",
    "np.divide(arr1,arr2)"
   ]
  },
  {
   "cell_type": "code",
   "execution_count": 49,
   "id": "6971798e",
   "metadata": {},
   "outputs": [
    {
     "data": {
      "text/plain": [
       "array([0.66666667, 9.        , 0.66666667, 7.        , 7.66666667])"
      ]
     },
     "execution_count": 49,
     "metadata": {},
     "output_type": "execute_result"
    }
   ],
   "source": [
    "np.divide(arr1,3)"
   ]
  },
  {
   "cell_type": "code",
   "execution_count": 55,
   "id": "6017709c",
   "metadata": {},
   "outputs": [
    {
     "name": "stderr",
     "output_type": "stream",
     "text": [
      "C:\\Users\\akash\\AppData\\Local\\Temp\\ipykernel_5328\\2763528478.py:3: RuntimeWarning: divide by zero encountered in divide\n",
      "  np.divide(arr1,arr2)\n",
      "C:\\Users\\akash\\AppData\\Local\\Temp\\ipykernel_5328\\2763528478.py:3: RuntimeWarning: invalid value encountered in divide\n",
      "  np.divide(arr1,arr2)\n"
     ]
    },
    {
     "data": {
      "text/plain": [
       "array([1.        , 9.        ,        inf, 4.2       , 3.83333333,\n",
       "       0.        ,        inf,        nan])"
      ]
     },
     "execution_count": 55,
     "metadata": {},
     "output_type": "execute_result"
    }
   ],
   "source": [
    "arr1 = [2, 27, 2, 21, 23,0,1,0] \n",
    "arr2 = [2, 3, 0, 5, 6,3,0,0] \n",
    "np.divide(arr1,arr2)"
   ]
  },
  {
   "cell_type": "code",
   "execution_count": 52,
   "id": "51c40546",
   "metadata": {},
   "outputs": [
    {
     "name": "stderr",
     "output_type": "stream",
     "text": [
      "C:\\Users\\akash\\AppData\\Local\\Temp\\ipykernel_5328\\3633022146.py:3: RuntimeWarning: divide by zero encountered in divide\n",
      "  np.divide(x1, x2)\n",
      "C:\\Users\\akash\\AppData\\Local\\Temp\\ipykernel_5328\\3633022146.py:3: RuntimeWarning: invalid value encountered in divide\n",
      "  np.divide(x1, x2)\n"
     ]
    },
    {
     "data": {
      "text/plain": [
       "array([[nan, 1. , 1. ],\n",
       "       [inf, 4. , 2.5],\n",
       "       [inf, 7. , 4. ]])"
      ]
     },
     "execution_count": 52,
     "metadata": {},
     "output_type": "execute_result"
    }
   ],
   "source": [
    "x1 = np.arange(9.0).reshape((3, 3))\n",
    "x2 = np.arange(3.0)\n",
    "np.divide(x1, x2)"
   ]
  },
  {
   "attachments": {
    "image.png": {
     "image/png": "[encoded data removed]"
    }
   },
   "cell_type": "markdown",
   "id": "e13063d6",
   "metadata": {},
   "source": [
    "#### numpy.inner()\n",
    "\n",
    "<div>\n",
    "    <img src=\"attachment:image.png\" width=\"400\">\n",
    "</div>"
   ]
  },
  {
   "cell_type": "code",
   "execution_count": 57,
   "id": "cf126e85",
   "metadata": {},
   "outputs": [
    {
     "data": {
      "text/plain": [
       "2"
      ]
     },
     "execution_count": 57,
     "metadata": {},
     "output_type": "execute_result"
    }
   ],
   "source": [
    "a = np.array([1,2,3])\n",
    "b = np.array([0,1,0])\n",
    "np.inner(a, b)"
   ]
  },
  {
   "cell_type": "code",
   "execution_count": 17,
   "id": "72a74ca0",
   "metadata": {},
   "outputs": [
    {
     "name": "stdout",
     "output_type": "stream",
     "text": [
      "[[17 23]\n",
      " [39 53]]\n",
      "[[ 5 12]\n",
      " [21 32]]\n",
      "[[19 22]\n",
      " [43 50]]\n",
      "[[ 5  6  7  8]\n",
      " [10 12 14 16]\n",
      " [15 18 21 24]\n",
      " [20 24 28 32]]\n"
     ]
    }
   ],
   "source": [
    "a=np.array([[1,2],[3,4]])\n",
    "b=np.array([[5,6],[7,8]])\n",
    "\n",
    "print(np.inner(a,b))  # inner!= a*b !=dot\n",
    "print(np.multiply(a,b))\n",
    "print(a.dot(b))\n",
    "print(np.outer(a,b))  # one multiplied to all elemnts in other matrix and so on \n"
   ]
  },
  {
   "cell_type": "code",
   "execution_count": 68,
   "id": "0c1b3fa7",
   "metadata": {},
   "outputs": [
    {
     "name": "stdout",
     "output_type": "stream",
     "text": [
      "inner Product :  (-7+22j)\n"
     ]
    }
   ],
   "source": [
    "# Python Program illustrating \n",
    "# numpy.inner() method \n",
    "# 1D array \n",
    "vector_a = 2 + 3j\n",
    "vector_b = 4 + 5j\n",
    "\n",
    "product = np.inner(vector_a, vector_b) \n",
    "print(\"inner Product : \", product) \n"
   ]
  },
  {
   "cell_type": "code",
   "execution_count": 85,
   "id": "f5a20723",
   "metadata": {},
   "outputs": [
    {
     "data": {
      "text/plain": [
       "array([1, 2, 1, 2])"
      ]
     },
     "execution_count": 85,
     "metadata": {},
     "output_type": "execute_result"
    }
   ],
   "source": [
    "np.gcd([12,4,5,6],[1,2,3,4])"
   ]
  },
  {
   "cell_type": "markdown",
   "id": "5e558ff3",
   "metadata": {},
   "source": [
    "#### Linear Algebra"
   ]
  },
  {
   "cell_type": "code",
   "execution_count": 16,
   "id": "001107df",
   "metadata": {},
   "outputs": [
    {
     "name": "stdout",
     "output_type": "stream",
     "text": [
      "Rank of array :2\n",
      "Trace of array :11\n",
      "Determinate of matrix /array :-306.0 or it can be -306.0\n",
      "inverse of matrix /array :[[ 0.17647059 -0.00326797 -0.02287582]\n",
      " [ 0.05882353 -0.13071895  0.08496732]\n",
      " [-0.11764706  0.1503268   0.05228758]] \"\n",
      "\" OR it can be: \"\n",
      "\" [[ 0.17647059 -0.00326797 -0.02287582]\n",
      " [ 0.05882353 -0.13071895  0.08496732]\n",
      " [-0.11764706  0.1503268   0.05228758]]\n",
      "eigen values : [11.24862343  5.09285054 -5.34147398]\n",
      "(array([-7.15957544,  4.56008699, 13.59948845]), array([[ 0.192948  , -0.86902847, -0.45558818],\n",
      "       [-0.86570993,  0.06778288, -0.49593528],\n",
      "       [ 0.46186296,  0.49009693, -0.739248  ]]))\n",
      "(array([11.24862343,  5.09285054, -5.34147398]), array([[ 0.24511338,  0.75669314,  0.02645665],\n",
      "       [ 0.40622202, -0.03352363, -0.84078293],\n",
      "       [ 0.88028581, -0.65291014,  0.54072554]]))\n",
      "[-7.15957544  4.56008699 13.59948845]\n"
     ]
    }
   ],
   "source": [
    "import numpy.linalg as LA\n",
    "import numpy as np\n",
    "\n",
    "a = np.array([[6, 1, 1],\n",
    "              [4, -2, 5],\n",
    "              [2, 8, 7]])\n",
    "\n",
    "ac = np.array([[1, -2j], [2j, 5]])\n",
    "\n",
    "print(f'Rank of array :{a.ndim}')\n",
    "print(f'Trace of array :{np.trace(a)}')  # trace is sum along  the daigonal\n",
    "print(f'Determinate of matrix /array :{LA.det(a)} or it can be {np.linalg.det(a)}')\n",
    "print(f'inverse of matrix /array :{LA.inv(a)} \"\\n\" OR it can be: \"\\n\" {np.linalg.inv(a)}')\n",
    "print(f'eigen values : {np.linalg.eigvals(a)}')  # Compute the eigenvalues of a general matrix.\n",
    "print(np.linalg.eigh(a))# This function is used to return the eigenvalues and eigenvectors of a complex Hermitian \n",
    "                        #  (conjugate symmetric) or a real symmetric matrix.Returns two objects, a 1-D array containing the \n",
    "                        #  eigenvalues of a, and a 2-D square array or matrix (depending on the input type) of the corresponding \n",
    "                        #  eigenvectors (in columns).\n",
    "            \n",
    "print(np.linalg.eig(a)) # This function is used to compute the eigenvalues and right eigenvectors of a square array.\n",
    "print(np.linalg.eigvalsh(a)) #same as eigh but no vector only eign values\n",
    "\n",
    "#  A matrix is said to be symmetric when matriix A(T)==A means teanspose of matrix equals A \n",
    "#  assyemtric matrix A(T)!=A"
   ]
  },
  {
   "cell_type": "markdown",
   "id": "4aeb38e5",
   "metadata": {},
   "source": [
    "|Feature|eig|eigh|\n",
    "|:------|:----|:----|\n",
    "|Can be used with non-symmetric matrices| Yes | No |\n",
    "|Guarantees that eigenvalues are returned in ascending order|No|Yes|\n",
    "|Typically faster|No|Yes|"
   ]
  },
  {
   "cell_type": "code",
   "execution_count": 14,
   "id": "fa009a43",
   "metadata": {},
   "outputs": [
    {
     "name": "stdout",
     "output_type": "stream",
     "text": [
      "(-7+22j)\n",
      "(23-2j)\n"
     ]
    }
   ],
   "source": [
    "# dot product normal and complex\n",
    "\n",
    "vector_a = 2 + 3j\n",
    "vector_b = 4 + 5j\n",
    "\n",
    "print(np.dot(vector_a,vector_b))    # vector_a*vector_b\n",
    "print(np.vdot(vector_a,vector_b))   # vector_a* vector_b.conjugate()"
   ]
  },
  {
   "cell_type": "markdown",
   "id": "bae5f689",
   "metadata": {},
   "source": [
    "__numpy.linalg.solve()__: Solve a linear matrix equation, or system of linear scalar equations.\n",
    "    Computes the “exact” solution, x, of the well-determined, i.e., full rank, linear matrix equation ax = b.\n",
    "    \n"
   ]
  },
  {
   "cell_type": "code",
   "execution_count": 31,
   "id": "40e0f9c3",
   "metadata": {},
   "outputs": [
    {
     "data": {
      "text/plain": [
       "array([2., 3.])"
      ]
     },
     "execution_count": 31,
     "metadata": {},
     "output_type": "execute_result"
    }
   ],
   "source": [
    "a = np.array([[1, 2], [3, 4]])\n",
    "b = np.array([8, 18])\n",
    "# np.linalg.solve(a,b) # 1x+2y=8 and 3x+4y=18 now solve for x and y only for linear equations\n",
    "np.linalg.solve(a,b)\n",
    "\n"
   ]
  },
  {
   "cell_type": "markdown",
   "id": "9f6f5061",
   "metadata": {},
   "source": [
    "__numpy.linalg.lstsq() :__\n",
    "\n",
    "__The parameters of the function are:__\n",
    "\n",
    "* A: (array_like) : The coefficient matrix.\n",
    "* B: (array_like) : The coordinate matrix. If this matrix is 2 dimensional then the least square solutions are calculated for each of the columns of B.\n",
    "* rcond(float, optional): This is used to nullify the smaller or lesser values in A. This parameter raises a FutureWarning if not specified, hence we can specify it to “None” so that the warning is suppressed.\n",
    "\n",
    "__The function returns four values. They are as follows:__\n",
    "\n",
    "* R :(data_type=ndarray): This matrix contains the least square solutions of the system of linear equations.\n",
    "* residuals:(data_type=ndarray) This matrix contains the sum of the squared residuals.\n",
    "* RANK: (data_type=int) This variable represents the rank of the matrix returned by the function.\n",
    "* Sing:(data_type=ndarray) The singular values of matrix A are stored in this array.\n",
    "* The function raises LinAlgError if the computations diverge."
   ]
  },
  {
   "cell_type": "code",
   "execution_count": 47,
   "id": "fa44bbd1",
   "metadata": {},
   "outputs": [
    {
     "data": {
      "image/png": "[encoded data removed]",
      "text/plain": [
       "<Figure size 640x480 with 1 Axes>"
      ]
     },
     "metadata": {},
     "output_type": "display_data"
    },
    {
     "name": "stdout",
     "output_type": "stream",
     "text": [
      "the least square solutions are' [ 0.71666667 19.18888889]\n",
      "the residuals are= [2.90555556]\n",
      "The singular values of the coefficient matrix are= [14.50633907  1.60191348]\n",
      "the rank of the matrix is 2\n"
     ]
    }
   ],
   "source": [
    "import numpy as np\n",
    "import matplotlib.pyplot as plt\n",
    " \n",
    "# x co-ordinates\n",
    "x = np.arange(0, 9)\n",
    "A = np.array([x, np.ones(9)])\n",
    " \n",
    "# linearly generated sequence\n",
    "y = [19, 20, 20.5, 21.5, 22, 23, 23, 25.5, 24]\n",
    "# obtaining the parameters of regression line\n",
    "R,residuals,RANK,sing = np.linalg.lstsq(A.T, y, rcond=None) \n",
    " \n",
    "# plotting the line\n",
    "plt.plot(x,y,'o',label=\"original data\")\n",
    "plt.plot(x,R[0]*x+R[1],label='Fitted line') # plting linefor valyues from x and y as per linalg.lstsqr  \n",
    "plt.legend()\n",
    "\n",
    "plt.show()\n",
    "\n",
    "print(\"the least square solutions are'\",R)\n",
    "print(\"the residuals are=\",residuals)\n",
    "print(\"The singular values of the coefficient matrix are=\",sing)\n",
    "print(\"the rank of the matrix is\",RANK)"
   ]
  },
  {
   "cell_type": "code",
   "execution_count": 48,
   "id": "3d548b96",
   "metadata": {},
   "outputs": [],
   "source": [
    "#  many more fnctions this is basic  explore"
   ]
  },
  {
   "attachments": {
    "image-2.png": {
     "image/png": "[encoded data removed]"
    },
    "image.png": {
     "image/png": "[encoded data removed]"
    }
   },
   "cell_type": "markdown",
   "id": "896cb884",
   "metadata": {},
   "source": [
    "#### QR factorization\n",
    "\n",
    "* QR factorization of a matrix is the decomposition of a matrix say ‘A’ into ‘A=QR’ where Q is orthogonal and R is an upper-triangular matrix. We factorize the matrix using numpy.linalg.qr() function.\n",
    "\n",
    "<div>\n",
    "    <img src=\"attachment:image.png\" width='500'>\n",
    "    <img src=\"attachment:image-2.png\" width='500'>\n",
    " </div>      \n",
    "        \n"
   ]
  },
  {
   "cell_type": "code",
   "execution_count": 53,
   "id": "6bd269bf",
   "metadata": {},
   "outputs": [
    {
     "data": {
      "text/plain": [
       "(array([[-0.60971076, -0.79262399],\n",
       "        [-0.79262399,  0.60971076]]),\n",
       " array([[-16.40121947, -18.16938067],\n",
       "        [  0.        , -13.7794632 ]]))"
      ]
     },
     "execution_count": 53,
     "metadata": {},
     "output_type": "execute_result"
    }
   ],
   "source": [
    "arr = np.array([[10,22],[13,6]]) \n",
    "q,r=np.linalg.qr(arr)\n",
    "q,r"
   ]
  },
  {
   "cell_type": "code",
   "execution_count": 56,
   "id": "7dfbbbca",
   "metadata": {},
   "outputs": [
    {
     "data": {
      "text/plain": [
       "array([[10., 22.],\n",
       "       [13.,  6.]])"
      ]
     },
     "execution_count": 56,
     "metadata": {},
     "output_type": "execute_result"
    }
   ],
   "source": [
    "q.dot(r)   # here we will get q and r array in which we will obtain the array A by their dot product \n",
    "# QR Decomposition with Gram-Schmidt"
   ]
  },
  {
   "cell_type": "markdown",
   "id": "20d17b8d",
   "metadata": {},
   "source": [
    "QR decomposition is a method for breaking down a matrix into two matrices: Q, an orthogonal matrix, and R, an upper triangular matrix. It is used for:\n",
    "\n",
    "* Solving linear systems of equations\n",
    "* Computing eigenvalues and eigenvectors of a matrix\n",
    "* Solving least squares problems\n",
    "* Finding eigenvalues "
   ]
  },
  {
   "cell_type": "code",
   "execution_count": 58,
   "id": "18ad0da9",
   "metadata": {},
   "outputs": [
    {
     "data": {
      "text/plain": [
       "(array([[-0.12309149,  0.90453403,  0.40824829],\n",
       "        [-0.49236596,  0.30151134, -0.81649658],\n",
       "        [-0.86164044, -0.30151134,  0.40824829]]),\n",
       " array([[-8.12403840e+00, -9.60113630e+00, -1.10782342e+01],\n",
       "        [ 0.00000000e+00,  9.04534034e-01,  1.80906807e+00],\n",
       "        [ 0.00000000e+00,  0.00000000e+00, -1.11164740e-15]]))"
      ]
     },
     "execution_count": 58,
     "metadata": {},
     "output_type": "execute_result"
    }
   ],
   "source": [
    "arr = np.array([\n",
    "    [1,2,3],\n",
    "    [4,5,6],\n",
    "    [7,8,9]\n",
    "])\n",
    "\n",
    "q,r=np.linalg.qr(arr)\n",
    "q,r"
   ]
  },
  {
   "cell_type": "markdown",
   "id": "a2c8c8f3",
   "metadata": {},
   "source": [
    "#### How to get the magnitude of a vector in NumPy?\n",
    "\n",
    "*  if V is vector such that, V = (a, b, c)\n",
    "*  then ||V|| = ?(a*a + b*b + c*c)"
   ]
  },
  {
   "cell_type": "code",
   "execution_count": 62,
   "id": "43fd2f96",
   "metadata": {},
   "outputs": [
    {
     "data": {
      "text/plain": [
       "5.477225575051661"
      ]
     },
     "execution_count": 62,
     "metadata": {},
     "output_type": "execute_result"
    }
   ],
   "source": [
    "v=np.array([[1,2],[3,4]])\n",
    "np.sqrt(np.sum(np.power(v,2)))"
   ]
  },
  {
   "cell_type": "code",
   "execution_count": 64,
   "id": "e10fcd54",
   "metadata": {},
   "outputs": [
    {
     "data": {
      "text/plain": [
       "5.477225575051661"
      ]
     },
     "execution_count": 64,
     "metadata": {},
     "output_type": "execute_result"
    }
   ],
   "source": [
    "# in linelag use norm as below \n",
    "\n",
    "np.linalg.norm(v)  #  same af finding the magnitued for a vector"
   ]
  },
  {
   "cell_type": "code",
   "execution_count": 77,
   "id": "9566ead2",
   "metadata": {},
   "outputs": [
    {
     "data": {
      "text/plain": [
       "6.0"
      ]
     },
     "execution_count": 77,
     "metadata": {},
     "output_type": "execute_result"
    }
   ],
   "source": [
    "np.linalg.norm(v,ord=1)  # check documention for norm finding in order"
   ]
  },
  {
   "cell_type": "markdown",
   "id": "cc50eb52",
   "metadata": {},
   "source": [
    "#### NumPy and Random Data"
   ]
  },
  {
   "cell_type": "markdown",
   "id": "27c578f2",
   "metadata": {},
   "source": [
    "__ranf()__:  is one of the function for doing random sampling in numpy. It returns an array of specified shape and fills it with random floats in the half-open interval [0.0, 1.0)\n",
    "\n",
    "__Syntax__ : numpy.random.ranf(size=None)"
   ]
  },
  {
   "cell_type": "code",
   "execution_count": 101,
   "id": "6b40eb41",
   "metadata": {},
   "outputs": [
    {
     "data": {
      "text/plain": [
       "array([[0.67741371, 0.38658277, 0.84873001],\n",
       "       [0.72476757, 0.63275004, 0.75106193]])"
      ]
     },
     "execution_count": 101,
     "metadata": {},
     "output_type": "execute_result"
    }
   ],
   "source": [
    "np.random.ranf(size=(2,3))"
   ]
  },
  {
   "cell_type": "code",
   "execution_count": 109,
   "id": "158ebc01",
   "metadata": {},
   "outputs": [
    {
     "data": {
      "text/plain": [
       "0.6838394794494025"
      ]
     },
     "execution_count": 109,
     "metadata": {},
     "output_type": "execute_result"
    }
   ],
   "source": [
    "np.random.ranf()"
   ]
  },
  {
   "cell_type": "code",
   "execution_count": 110,
   "id": "92f1c74c",
   "metadata": {},
   "outputs": [
    {
     "data": {
      "text/plain": [
       "array([[[0.23117413, 0.62081155],\n",
       "        [0.83969801, 0.55644278],\n",
       "        [0.93338708, 0.79261247]],\n",
       "\n",
       "       [[0.18857257, 0.18926514],\n",
       "        [0.42654498, 0.68695492],\n",
       "        [0.27115404, 0.66466367]],\n",
       "\n",
       "       [[0.3514177 , 0.30835039],\n",
       "        [0.67696387, 0.22961783],\n",
       "        [0.65542112, 0.28352505]]])"
      ]
     },
     "execution_count": 110,
     "metadata": {},
     "output_type": "execute_result"
    }
   ],
   "source": [
    "np.random.ranf((3,3,2))"
   ]
  },
  {
   "cell_type": "markdown",
   "id": "f3b22add",
   "metadata": {},
   "source": [
    "__numpy.random.random()__ is one of the function for doing random sampling in numpy. It returns an array of specified shape and fills it with random floats in the half-open interval [0.0, 1.0)."
   ]
  },
  {
   "cell_type": "code",
   "execution_count": 138,
   "id": "123acc35",
   "metadata": {},
   "outputs": [
    {
     "data": {
      "text/plain": [
       "array([[0.31307866, 0.85238833, 0.2236465 ],\n",
       "       [0.18446843, 0.53788203, 0.55281711]])"
      ]
     },
     "execution_count": 138,
     "metadata": {},
     "output_type": "execute_result"
    }
   ],
   "source": [
    "np.random.random(size=(2,3))"
   ]
  },
  {
   "cell_type": "code",
   "execution_count": 139,
   "id": "22b4ac4a",
   "metadata": {},
   "outputs": [
    {
     "data": {
      "text/plain": [
       "array([[[0.23776135, 0.10709253, 0.64477228, 0.9673341 ],\n",
       "        [0.5714105 , 0.27708003, 0.65875597, 0.6605218 ],\n",
       "        [0.11974044, 0.92548735, 0.4517821 , 0.37982161]],\n",
       "\n",
       "       [[0.36839269, 0.91494833, 0.03717683, 0.260841  ],\n",
       "        [0.69489059, 0.11028525, 0.81900895, 0.63540087],\n",
       "        [0.55159529, 0.04869886, 0.92952329, 0.21911929]]])"
      ]
     },
     "execution_count": 139,
     "metadata": {},
     "output_type": "execute_result"
    }
   ],
   "source": [
    "np.random.random_sample((2,3,4))"
   ]
  },
  {
   "cell_type": "code",
   "execution_count": 145,
   "id": "c9998d22",
   "metadata": {},
   "outputs": [
    {
     "data": {
      "text/plain": [
       "0.8119253365496273"
      ]
     },
     "execution_count": 145,
     "metadata": {},
     "output_type": "execute_result"
    }
   ],
   "source": [
    "np.random.random_sample()"
   ]
  },
  {
   "cell_type": "markdown",
   "id": "58522f3a",
   "metadata": {},
   "source": [
    "__numpy.random.sample()__: is one of the functionsgenerate that generates floating-point values in an open interval [0.0,1.0). It doesn’t take up any arguments and produces a single random value each time it’s called. This function is often used for statistical and simulation tasks in Python."
   ]
  },
  {
   "cell_type": "code",
   "execution_count": 148,
   "id": "3d7e06f6",
   "metadata": {},
   "outputs": [
    {
     "data": {
      "text/plain": [
       "array([[[0.35379311, 0.53191618, 0.033614  , 0.32728967],\n",
       "        [0.51747178, 0.43896857, 0.56854366, 0.23569764],\n",
       "        [0.87060438, 0.30185639, 0.9594995 , 0.99271644]],\n",
       "\n",
       "       [[0.5113547 , 0.06333206, 0.75078745, 0.25649183],\n",
       "        [0.81568623, 0.87505408, 0.90663317, 0.08677434],\n",
       "        [0.64235696, 0.36199816, 0.17787049, 0.3518553 ]]])"
      ]
     },
     "execution_count": 148,
     "metadata": {},
     "output_type": "execute_result"
    }
   ],
   "source": [
    "np.random.sample((2,3,4))"
   ]
  },
  {
   "cell_type": "code",
   "execution_count": 149,
   "id": "bcf8890b",
   "metadata": {},
   "outputs": [],
   "source": [
    "# np.random.random, np.random.ranf , np.random.rand_sample(),np.random.sample()  are same "
   ]
  },
  {
   "cell_type": "markdown",
   "id": "7c9fa01f",
   "metadata": {},
   "source": [
    "__numpy.random.randint()__ is one of the function for doing random sampling in numpy. It returns an array of specified shape and fills it with random integers from low (inclusive) to high (exclusive), i.e. in the interval __[low, high).__\n",
    "\n",
    "__Syntax__ : numpy.random.randint(low, high=None, size=None, dtype=’l’)"
   ]
  },
  {
   "cell_type": "code",
   "execution_count": 174,
   "id": "5c9dbb01",
   "metadata": {},
   "outputs": [
    {
     "data": {
      "text/plain": [
       "array([[2, 5, 3],\n",
       "       [3, 5, 4]])"
      ]
     },
     "execution_count": 174,
     "metadata": {},
     "output_type": "execute_result"
    }
   ],
   "source": [
    "np.random.randint(2,7,size=(2,3))"
   ]
  },
  {
   "cell_type": "markdown",
   "id": "a7ac8e18",
   "metadata": {},
   "source": [
    "#### numpy.random.choice()\n",
    "\n",
    "__Syntax__ : numpy.random.choice(a, size=None, replace=True, p=None)"
   ]
  },
  {
   "cell_type": "code",
   "execution_count": 255,
   "id": "49b3d376",
   "metadata": {},
   "outputs": [
    {
     "data": {
      "text/plain": [
       "array([[6, 7, 0, 3],\n",
       "       [6, 4, 2, 5]])"
      ]
     },
     "execution_count": 255,
     "metadata": {},
     "output_type": "execute_result"
    }
   ],
   "source": [
    "a=[0,6,2,3,4,5,6,7]\n",
    "np.random.choice(a,(2,4),replace=False,p=[0.2,0.2,0.1,.1,.1,.1,.1,.1])  # p is probability of all the elemtns in a "
   ]
  },
  {
   "cell_type": "code",
   "execution_count": 268,
   "id": "9c1ef889",
   "metadata": {},
   "outputs": [
    {
     "data": {
      "text/plain": [
       "array([0, 2, 3, 1])"
      ]
     },
     "execution_count": 268,
     "metadata": {},
     "output_type": "execute_result"
    }
   ],
   "source": [
    "np.random.choice(5,4,replace=False)"
   ]
  },
  {
   "cell_type": "code",
   "execution_count": 301,
   "id": "1217307c",
   "metadata": {},
   "outputs": [],
   "source": [
    "a=np.random.choice(5, 1000, p =[0.1, 0.1, 0.3, 0.4, 0.1])"
   ]
  },
  {
   "cell_type": "code",
   "execution_count": 303,
   "id": "03281c28",
   "metadata": {},
   "outputs": [
    {
     "data": {
      "text/plain": [
       "array([ 84, 104, 275, 424, 113], dtype=int64)"
      ]
     },
     "execution_count": 303,
     "metadata": {},
     "output_type": "execute_result"
    }
   ],
   "source": [
    "np.bincount(a) # counts each eelmts number of times is has repeated"
   ]
  },
  {
   "cell_type": "markdown",
   "id": "34ee1167",
   "metadata": {},
   "source": [
    "#### numpy.random.shuffle()"
   ]
  },
  {
   "cell_type": "code",
   "execution_count": 311,
   "id": "05454cba",
   "metadata": {},
   "outputs": [
    {
     "data": {
      "text/plain": [
       "array([5, 3, 1, 2, 6, 4])"
      ]
     },
     "execution_count": 311,
     "metadata": {},
     "output_type": "execute_result"
    }
   ],
   "source": [
    "a=np.array([1,2,3,4,5,6])\n",
    "\n",
    "np.random.shuffle(a)   # changes willl be inplace and hence it will return None when you pint instead print original array\n",
    "a"
   ]
  },
  {
   "cell_type": "code",
   "execution_count": 314,
   "id": "06b9cbc1",
   "metadata": {},
   "outputs": [
    {
     "data": {
      "text/plain": [
       "array([[ 0,  1,  2,  3],\n",
       "       [ 8,  9, 10, 11],\n",
       "       [ 4,  5,  6,  7],\n",
       "       [12, 13, 14, 15]])"
      ]
     },
     "execution_count": 314,
     "metadata": {},
     "output_type": "execute_result"
    }
   ],
   "source": [
    "a=np.arange(16).reshape(4,4)\n",
    "np.random.shuffle(a)\n",
    "a"
   ]
  },
  {
   "attachments": {
    "image.png": {
     "image/png": "[encoded data removed]"
    }
   },
   "cell_type": "markdown",
   "id": "8f4eba8d",
   "metadata": {},
   "source": [
    "__numpy.random.geometric()__ method, we can get the random samples of geometric distribution and return the random samples of numpy array by using this method.\n",
    "\n",
    "<div>\n",
    "    <img src=\"attachment:image.png\" width=\"300\">\n",
    "</div>"
   ]
  },
  {
   "cell_type": "code",
   "execution_count": 343,
   "id": "ff7f4992",
   "metadata": {},
   "outputs": [
    {
     "data": {
      "text/plain": [
       "array([ 3,  1,  1,  2,  3,  6,  2,  5,  2,  1,  1,  2,  8,  5,  2,  2,  7,\n",
       "        1,  2,  2,  2,  1,  5,  8,  2,  3,  8,  9,  1,  1,  1,  2,  1,  2,\n",
       "        1,  2,  1,  1,  3,  1, 11,  4,  3,  1,  2,  2,  2,  2,  3,  2,  2,\n",
       "        1,  1,  1,  1,  2,  2,  1,  6,  2,  2,  2,  4,  4,  1,  1,  1,  1,\n",
       "        1,  4,  1,  2,  6,  3,  2,  2,  2,  2,  1,  9,  1,  2,  1,  6,  1,\n",
       "        1,  2,  1,  3,  1,  2,  1,  5,  3,  4,  1,  3,  5,  2,  1])"
      ]
     },
     "execution_count": 343,
     "metadata": {},
     "output_type": "execute_result"
    }
   ],
   "source": [
    "# Draw  Hundered values from the geometric distribution, with the probability of an individual success equal to \n",
    "# 0.35:\n",
    "np.random.geometric(0.35,100)\n"
   ]
  },
  {
   "cell_type": "markdown",
   "id": "614f7749",
   "metadata": {},
   "source": [
    " __numpy.random.permutation()__"
   ]
  },
  {
   "cell_type": "code",
   "execution_count": 345,
   "id": "5c3ca002",
   "metadata": {},
   "outputs": [
    {
     "data": {
      "text/plain": [
       "array([19,  2, 11,  9, 10,  4,  7, 14,  3, 16, 18, 13,  8, 15,  5,  0, 17,\n",
       "        6, 12,  1])"
      ]
     },
     "execution_count": 345,
     "metadata": {},
     "output_type": "execute_result"
    }
   ],
   "source": [
    "np.random.permutation(20) "
   ]
  },
  {
   "cell_type": "code",
   "execution_count": 347,
   "id": "582e6325",
   "metadata": {},
   "outputs": [
    {
     "data": {
      "text/plain": [
       "array([2, 8, 6, 7, 3, 5, 9, 1, 4])"
      ]
     },
     "execution_count": 347,
     "metadata": {},
     "output_type": "execute_result"
    }
   ],
   "source": [
    "a=np.array([1,2,3,4,5,6,7,8,9])\n",
    "np.random.permutation(a)"
   ]
  },
  {
   "cell_type": "markdown",
   "id": "91220738",
   "metadata": {},
   "source": [
    "#### Searching in a NumPy array"
   ]
  },
  {
   "cell_type": "code",
   "execution_count": 350,
   "id": "1173aa61",
   "metadata": {},
   "outputs": [
    {
     "data": {
      "text/plain": [
       "(array([0, 1], dtype=int64),)"
      ]
     },
     "execution_count": 350,
     "metadata": {},
     "output_type": "execute_result"
    }
   ],
   "source": [
    "a=np.array([1,2,3,4,5,6,7,8,9])\n",
    "np.where(a<=2)"
   ]
  },
  {
   "cell_type": "code",
   "execution_count": 356,
   "id": "b2db2642",
   "metadata": {},
   "outputs": [
    {
     "data": {
      "text/plain": [
       "array([ 1,  2,  3,  4,  5, 60, 70, 80, 90])"
      ]
     },
     "execution_count": 356,
     "metadata": {},
     "output_type": "execute_result"
    }
   ],
   "source": [
    "a=np.array([1,2,3,4,5,6,7,8,9])\n",
    "np.where(a<=5,a, 10*a)"
   ]
  },
  {
   "cell_type": "code",
   "execution_count": 354,
   "id": "cc269a58",
   "metadata": {},
   "outputs": [
    {
     "name": "stdout",
     "output_type": "stream",
     "text": [
      "[[[ 0  1]\n",
      "  [ 2  3]\n",
      "  [ 4  5]\n",
      "  [ 6  7]]\n",
      "\n",
      " [[ 8  9]\n",
      "  [10 11]\n",
      "  [12 13]\n",
      "  [14 15]]]\n",
      "(array([1], dtype=int64), array([2], dtype=int64), array([0], dtype=int64))\n"
     ]
    }
   ],
   "source": [
    "a=np.arange(16).reshape(2,4,2)\n",
    "print(a)\n",
    "print(np.where(a==12))"
   ]
  },
  {
   "cell_type": "code",
   "execution_count": 434,
   "id": "e5159b2e",
   "metadata": {},
   "outputs": [
    {
     "data": {
      "text/plain": [
       "array([[ 0],\n",
       "       [ 1],\n",
       "       [ 2],\n",
       "       [ 3],\n",
       "       [ 4],\n",
       "       [ 5],\n",
       "       [ 6],\n",
       "       [ 7],\n",
       "       [ 8],\n",
       "       [11],\n",
       "       [16]], dtype=int64)"
      ]
     },
     "execution_count": 434,
     "metadata": {},
     "output_type": "execute_result"
    }
   ],
   "source": [
    "a=np.array([1,2,3,4,5,6,7,8,9,0,0,9,0,0,0,0,-10])\n",
    "np.argwhere(a)  # returns indicies of non zero elemts wise"
   ]
  },
  {
   "cell_type": "markdown",
   "id": "1de3dee7",
   "metadata": {},
   "source": [
    "__numpy.searchsorted()__: The function is used to find the indices into a sorted array arr such that, if elements are inserted before the indices, the order of arr would be still preserved. Here, a binary search is used to find the required insertion indices."
   ]
  },
  {
   "cell_type": "code",
   "execution_count": 363,
   "id": "919cc37b",
   "metadata": {},
   "outputs": [
    {
     "name": "stdout",
     "output_type": "stream",
     "text": [
      "[5 1]\n"
     ]
    }
   ],
   "source": [
    "arr = np.array([10, 32, 30, 50, 20, 82, 91, 45]) \n",
    "\n",
    "print(np.searchsorted(arr,[32,20]))"
   ]
  },
  {
   "cell_type": "code",
   "execution_count": 364,
   "id": "af4ee2d9",
   "metadata": {},
   "outputs": [
    {
     "data": {
      "text/plain": [
       "1"
      ]
     },
     "execution_count": 364,
     "metadata": {},
     "output_type": "execute_result"
    }
   ],
   "source": [
    "np.searchsorted(arr,11) # it indicates that the value can be inserted at 1st indices in sorted array"
   ]
  },
  {
   "cell_type": "code",
   "execution_count": 368,
   "id": "049a8718",
   "metadata": {},
   "outputs": [
    {
     "data": {
      "text/plain": [
       "array([0, 1, 1, 5], dtype=int64)"
      ]
     },
     "execution_count": 368,
     "metadata": {},
     "output_type": "execute_result"
    }
   ],
   "source": [
    "np.searchsorted(arr,[-10,11,12,54])"
   ]
  },
  {
   "cell_type": "markdown",
   "id": "9f53916a",
   "metadata": {},
   "source": [
    "* Using np.sort() function\n",
    "    * in-line sort\n",
    "    * sorting along different axes"
   ]
  },
  {
   "cell_type": "code",
   "execution_count": 369,
   "id": "46661f5c",
   "metadata": {},
   "outputs": [
    {
     "data": {
      "text/plain": [
       "array([10, 20, 30, 32, 45, 50, 82, 91])"
      ]
     },
     "execution_count": 369,
     "metadata": {},
     "output_type": "execute_result"
    }
   ],
   "source": [
    "np.sort(arr)  "
   ]
  },
  {
   "cell_type": "code",
   "execution_count": 374,
   "id": "4fdb43ca",
   "metadata": {},
   "outputs": [
    {
     "data": {
      "text/plain": [
       "array([[4, 7, 0, 7, 9],\n",
       "       [4, 5, 7, 9, 9]])"
      ]
     },
     "execution_count": 374,
     "metadata": {},
     "output_type": "execute_result"
    }
   ],
   "source": [
    "arr=np.random.randint(0,10,size=(2,5))\n",
    "arr"
   ]
  },
  {
   "cell_type": "code",
   "execution_count": 383,
   "id": "9e8906ef",
   "metadata": {},
   "outputs": [
    {
     "data": {
      "text/plain": [
       "array([[0, 4, 7, 7, 9],\n",
       "       [4, 5, 7, 9, 9]])"
      ]
     },
     "execution_count": 383,
     "metadata": {},
     "output_type": "execute_result"
    }
   ],
   "source": [
    "np.sort(arr,axis=1)"
   ]
  },
  {
   "cell_type": "code",
   "execution_count": 384,
   "id": "c160e859",
   "metadata": {},
   "outputs": [
    {
     "data": {
      "text/plain": [
       "array([[4, 5, 0, 7, 9],\n",
       "       [4, 7, 7, 9, 9]])"
      ]
     },
     "execution_count": 384,
     "metadata": {},
     "output_type": "execute_result"
    }
   ],
   "source": [
    "np.sort(arr,axis=0)"
   ]
  },
  {
   "cell_type": "code",
   "execution_count": 415,
   "id": "a0315bc8",
   "metadata": {},
   "outputs": [
    {
     "data": {
      "text/plain": [
       "array([ 1, 10, 12, 15])"
      ]
     },
     "execution_count": 415,
     "metadata": {},
     "output_type": "execute_result"
    }
   ],
   "source": [
    "a = np.array([[12, 15], [10, 1]])\n",
    "np.sort(a,axis=None) # By default sort will be on last axis if you want to sort specify the axis if not sort will be last axis "
   ]
  },
  {
   "cell_type": "code",
   "execution_count": 385,
   "id": "9bc463d4",
   "metadata": {},
   "outputs": [
    {
     "data": {
      "text/plain": [
       "array([(b'Galahad', 1.7, 38), (b'Arthur', 1.8, 41),\n",
       "       (b'Lancelot', 1.9, 38)],\n",
       "      dtype=[('name', 'S10'), ('height', '<f8'), ('age', '<i4')])"
      ]
     },
     "execution_count": 385,
     "metadata": {},
     "output_type": "execute_result"
    }
   ],
   "source": [
    "dtype = [('name', 'S10'), ('height', float), ('age', int)]\n",
    "values = [('Arthur', 1.8, 41), ('Lancelot', 1.9, 38),('Galahad', 1.7, 38)]\n",
    "a = np.array(values, dtype=dtype)       # create a structured array\n",
    "np.sort(a, order='height')  "
   ]
  },
  {
   "cell_type": "markdown",
   "id": "5f219645",
   "metadata": {},
   "source": [
    "#### Using argsort()"
   ]
  },
  {
   "cell_type": "code",
   "execution_count": 398,
   "id": "806057af",
   "metadata": {},
   "outputs": [
    {
     "data": {
      "text/plain": [
       "array([ 5,  6,  0,  1,  7,  8,  9, 10, 11, 12,  2,  3,  4], dtype=int64)"
      ]
     },
     "execution_count": 398,
     "metadata": {},
     "output_type": "execute_result"
    }
   ],
   "source": [
    "arr=([10, 20, 100,101,102,1,1,30, 32, 45, 50, 82, 91])\n",
    "np.argsort(arr)  #returns indices  of originalearray in which they can be sorted"
   ]
  },
  {
   "cell_type": "markdown",
   "id": "cce8c831",
   "metadata": {},
   "source": [
    "#### Using np.lexsort() "
   ]
  },
  {
   "cell_type": "code",
   "execution_count": 410,
   "id": "4f509086",
   "metadata": {},
   "outputs": [
    {
     "data": {
      "text/plain": [
       "array([[4, 1],\n",
       "       [3, 2],\n",
       "       [9, 4],\n",
       "       [3, 6],\n",
       "       [6, 7],\n",
       "       [3, 8],\n",
       "       [1, 9]])"
      ]
     },
     "execution_count": 410,
     "metadata": {},
     "output_type": "execute_result"
    }
   ],
   "source": [
    "a = np.array([9, 3, 1, 3, 4, 3, 6]) \n",
    " \n",
    "b = np.array([4, 6, 9, 2, 1, 8, 7]) \n",
    "ind=np.lexsort((a,b))  # first sort by b then sort by a\n",
    "\n",
    "np.array([(a[i],b[i]) for i in ind])"
   ]
  },
  {
   "cell_type": "code",
   "execution_count": 411,
   "id": "f4a5612b",
   "metadata": {},
   "outputs": [
    {
     "data": {
      "text/plain": [
       "array([[4, 1],\n",
       "       [3, 2],\n",
       "       [9, 4],\n",
       "       [3, 6],\n",
       "       [6, 7],\n",
       "       [3, 8],\n",
       "       [1, 9]])"
      ]
     },
     "execution_count": 411,
     "metadata": {},
     "output_type": "execute_result"
    }
   ],
   "source": [
    "a = np.array([9, 3, 1, 3, 4, 3, 6]) \n",
    " \n",
    "b = np.array([4, 6, 9, 2, 1, 8, 7]) \n",
    "ind=np.lexsort((a,b))  # first sort by b then sort by a\n",
    "\n",
    "np.array([(a[i],b[i]) for i in ind])"
   ]
  },
  {
   "cell_type": "code",
   "execution_count": 425,
   "id": "37b81773",
   "metadata": {},
   "outputs": [
    {
     "data": {
      "text/plain": [
       "(100, 1)"
      ]
     },
     "execution_count": 425,
     "metadata": {},
     "output_type": "execute_result"
    }
   ],
   "source": [
    "# numpy.argmax() : This function returns indices of the max element of the array in a particular axis.\n",
    "# numpy.nanargmax() : This function returns indices of the max element of the array in a particular axis ignoring NaNs.\n",
    "#                     The results cannot be trusted if a slice contains only NaNs and Infs.\n",
    "\n",
    "a=np.array([4,5,8,9,12,1,1,2,1,1,2,1,100])\n",
    "a[np.argmax(a)],a[np.argmin(a)]\n",
    "\n",
    "a=np.array([4,5,8,9,12,1,1,2,1,1,2,1,100, np.nan])\n",
    "print(np.argmax(a)) # this will print np.nan hence use np.nanargmax it will hnadle nan and inf in a array"
   ]
  },
  {
   "cell_type": "code",
   "execution_count": 430,
   "id": "d0cfd96f",
   "metadata": {},
   "outputs": [
    {
     "data": {
      "text/plain": [
       "(12, 5, 100.0, 1.0)"
      ]
     },
     "execution_count": 430,
     "metadata": {},
     "output_type": "execute_result"
    }
   ],
   "source": [
    "a=np.array([4,5,8,9,12,1,1,2,1,1,2,1,100,np.nan])\n",
    "np.nanargmax(a),np.nanargmin(a),a[np.nanargmax(a)],a[np.nanargmin(a)]"
   ]
  },
  {
   "cell_type": "code",
   "execution_count": 436,
   "id": "6cdf584f",
   "metadata": {},
   "outputs": [
    {
     "data": {
      "text/plain": [
       "(array([0, 1, 2, 3, 4, 5, 6, 7, 8], dtype=int64),)"
      ]
     },
     "execution_count": 436,
     "metadata": {},
     "output_type": "execute_result"
    }
   ],
   "source": [
    "a=np.array([1,2,3,4,5,6,7,8,9,0,0,0,0])\n",
    "np.nonzero(a)"
   ]
  },
  {
   "cell_type": "code",
   "execution_count": 439,
   "id": "533c7cca",
   "metadata": {},
   "outputs": [
    {
     "data": {
      "text/plain": [
       "array([[ 3,  6,  6,  0,  3,  9],\n",
       "       [10,  8,  6,  1,  7,  1]])"
      ]
     },
     "execution_count": 439,
     "metadata": {},
     "output_type": "execute_result"
    }
   ],
   "source": [
    "a=np.random.randint(0,11,size=(2,6))\n",
    "a"
   ]
  },
  {
   "cell_type": "code",
   "execution_count": 440,
   "id": "5ae8d00d",
   "metadata": {},
   "outputs": [
    {
     "data": {
      "text/plain": [
       "array([ 0,  1,  2,  4,  5,  6,  7,  8,  9, 10, 11], dtype=int64)"
      ]
     },
     "execution_count": 440,
     "metadata": {},
     "output_type": "execute_result"
    }
   ],
   "source": [
    "np.flatnonzero(a)  # returns a array of indicies on non zero elemt as flattend array"
   ]
  },
  {
   "cell_type": "markdown",
   "id": "f4dea189",
   "metadata": {},
   "source": [
    "#### numpy.count_nonzero() : Counts the number of non-zero values in the array ."
   ]
  },
  {
   "cell_type": "code",
   "execution_count": 450,
   "id": "60901e14",
   "metadata": {},
   "outputs": [
    {
     "data": {
      "text/plain": [
       "(5, array([3, 3], dtype=int64))"
      ]
     },
     "execution_count": 450,
     "metadata": {},
     "output_type": "execute_result"
    }
   ],
   "source": [
    "a = np.count_nonzero([[0,1,7,0,0],[3,0,0,2,19]])\n",
    "b = np.count_nonzero([[0,1,7,0,10],[3,0,0,2,19]], axis=1)\n",
    "a,b"
   ]
  },
  {
   "cell_type": "markdown",
   "id": "5ee89ed7",
   "metadata": {},
   "source": [
    "* __a.sort()__\n",
    "    * Sorts the array in-place & returns None\n",
    "    * Return type is None\n",
    "    * Occupies less space. No copy created as it directly sorts the original array\n",
    "    * Faster than sorted(a)\n",
    "    \n",
    "* __sorted(a)__\n",
    "    * Creates a new list from the old & returns the new one, sorted\n",
    "    * Return type is a list\n",
    "    * Occupies more space as copy of original array is created and then sorting is done\n",
    "    * Slower than a.sort()\n",
    "* __np.argsort(a)__\n",
    "    * Returns the indices that would sort an array\n",
    "    * Return type is numpy array\n",
    "    * Occupies space as a new array of sorted indices is returned\n",
    "* __np.lexsort((b, a))__\n",
    "    * Perform an indirect sort using a sequence of keys\n",
    "    * Sort by a, then by b\n",
    "    * Return type ndarray of ints Array of indices that sort the keys along the specified axis\n",
    "    * Occupies space as a new array of sorted indices pair wise is returned."
   ]
  },
  {
   "cell_type": "markdown",
   "id": "cdec7a71",
   "metadata": {},
   "source": [
    "#### numpy.sort_complex()"
   ]
  },
  {
   "cell_type": "code",
   "execution_count": 451,
   "id": "db308969",
   "metadata": {},
   "outputs": [],
   "source": [
    "# function is used to sort a complex array.It sorts the array by using the real part first, then the imaginary part."
   ]
  },
  {
   "cell_type": "code",
   "execution_count": 453,
   "id": "1efef36f",
   "metadata": {},
   "outputs": [
    {
     "data": {
      "text/plain": [
       "array([0.0e+00+0.j, 1.0e+00+0.j, 2.0e+00+0.j, 3.0e+00+0.j, 3.0e+00+0.j,\n",
       "       4.0e+00+0.j, 4.0e+00+0.j, 6.0e+00+0.j, 7.0e+00+0.j, 8.1e+03+0.j])"
      ]
     },
     "execution_count": 453,
     "metadata": {},
     "output_type": "execute_result"
    }
   ],
   "source": [
    "a=np.array([1,2,3,4,6,7,8100,0,3,4])\n",
    "np.sort_complex(a)"
   ]
  },
  {
   "cell_type": "code",
   "execution_count": 455,
   "id": "63ecc4f9",
   "metadata": {},
   "outputs": [
    {
     "data": {
      "text/plain": [
       "array([2.+4.j, 5.+9.j, 3.-2.j, 4.-3.j, 3.+5.j, 2.-4.j, 5.+0.j])"
      ]
     },
     "execution_count": 455,
     "metadata": {},
     "output_type": "execute_result"
    }
   ],
   "source": [
    "a=np.array([2 + 4j, 5 + 9j, 3 - 2j, 4 - 3j, 3 + 5j, 2-4j, 5])\n",
    "a"
   ]
  },
  {
   "cell_type": "code",
   "execution_count": 456,
   "id": "761ec9d1",
   "metadata": {},
   "outputs": [
    {
     "data": {
      "text/plain": [
       "array([2.-4.j, 2.+4.j, 3.-2.j, 3.+5.j, 4.-3.j, 5.+0.j, 5.+9.j])"
      ]
     },
     "execution_count": 456,
     "metadata": {},
     "output_type": "execute_result"
    }
   ],
   "source": [
    "np.sort_complex(a)"
   ]
  },
  {
   "cell_type": "code",
   "execution_count": 458,
   "id": "2b9636e7",
   "metadata": {},
   "outputs": [
    {
     "data": {
      "text/plain": [
       "(matrix([[ 1,  4],\n",
       "         [ 3, 12]]),\n",
       " matrix([[1, 0],\n",
       "         [1, 0]], dtype=int64))"
      ]
     },
     "execution_count": 458,
     "metadata": {},
     "output_type": "execute_result"
    }
   ],
   "source": [
    "a=np.matrix('[4, 1; 12, 3]') \n",
    "np.sort(a),np.argsort(a)"
   ]
  },
  {
   "cell_type": "code",
   "execution_count": 3,
   "id": "fa06cb35",
   "metadata": {},
   "outputs": [
    {
     "data": {
      "text/plain": [
       "array([[ 0,  1,  7,  0,  0],\n",
       "       [ 3,  0,  0,  2, 19]])"
      ]
     },
     "execution_count": 3,
     "metadata": {},
     "output_type": "execute_result"
    }
   ],
   "source": [
    "import numpy as np\n",
    "a = np.array([[0,1,7,0,0],[3,0,0,2,19]])\n",
    "a"
   ]
  },
  {
   "cell_type": "code",
   "execution_count": 7,
   "id": "9105b612",
   "metadata": {},
   "outputs": [
    {
     "data": {
      "text/plain": [
       "(array([ 3,  1,  7,  2, 19]), 19, 0, 0)"
      ]
     },
     "execution_count": 7,
     "metadata": {},
     "output_type": "execute_result"
    }
   ],
   "source": [
    "np.amax(a,axis=0),np.max(a),np.amin(a),np.min(a)"
   ]
  },
  {
   "cell_type": "code",
   "execution_count": 8,
   "id": "7467fe7a",
   "metadata": {},
   "outputs": [
    {
     "data": {
      "text/plain": [
       "19"
      ]
     },
     "execution_count": 8,
     "metadata": {},
     "output_type": "execute_result"
    }
   ],
   "source": [
    "np.ptp(a) # returns value maximun-minumu"
   ]
  },
  {
   "cell_type": "code",
   "execution_count": 48,
   "id": "435844d6",
   "metadata": {},
   "outputs": [
    {
     "name": "stdout",
     "output_type": "stream",
     "text": [
      "[[0 1 0 1 0 1 0 1]\n",
      " [1 0 1 0 1 0 1 0]\n",
      " [0 1 0 1 0 1 0 1]\n",
      " [1 0 1 0 1 0 1 0]\n",
      " [0 1 0 1 0 1 0 1]\n",
      " [1 0 1 0 1 0 1 0]\n",
      " [0 1 0 1 0 1 0 1]\n",
      " [1 0 1 0 1 0 1 0]]\n"
     ]
    }
   ],
   "source": [
    "# Checkerboard pattern:\n",
    "\n",
    "a=np.zeros(shape=(8,8), dtype='int')\n",
    "a[1::2,::2]=1\n",
    "a[::2,1::2]=1\n",
    "print(a)"
   ]
  },
  {
   "cell_type": "code",
   "execution_count": 52,
   "id": "02878853",
   "metadata": {},
   "outputs": [
    {
     "data": {
      "text/plain": [
       "[[0, 1, 0, 1, 0, 1, 0, 1],\n",
       " array([1, 0, 1, 0, 1, 0, 1, 0]),\n",
       " [0, 1, 0, 1, 0, 1, 0, 1],\n",
       " array([1, 0, 1, 0, 1, 0, 1, 0]),\n",
       " [0, 1, 0, 1, 0, 1, 0, 1],\n",
       " array([1, 0, 1, 0, 1, 0, 1, 0]),\n",
       " [0, 1, 0, 1, 0, 1, 0, 1],\n",
       " array([1, 0, 1, 0, 1, 0, 1, 0])]"
      ]
     },
     "execution_count": 52,
     "metadata": {},
     "output_type": "execute_result"
    }
   ],
   "source": [
    "l=[]\n",
    "N=8\n",
    "[list(np.tile((0,1),4)) if i%2==0 else (np.tile((1,0),4)) for i in range(N) ]"
   ]
  },
  {
   "cell_type": "code",
   "execution_count": null,
   "id": "117548fe",
   "metadata": {},
   "outputs": [],
   "source": []
  }
 ],
 "metadata": {
  "kernelspec": {
   "display_name": "Python 3 (ipykernel)",
   "language": "python",
   "name": "python3"
  },
  "language_info": {
   "codemirror_mode": {
    "name": "ipython",
    "version": 3
   },
   "file_extension": ".py",
   "mimetype": "text/x-python",
   "name": "python",
   "nbconvert_exporter": "python",
   "pygments_lexer": "ipython3",
   "version": "3.11.5"
  }
 },
 "nbformat": 4,
 "nbformat_minor": 5
}
